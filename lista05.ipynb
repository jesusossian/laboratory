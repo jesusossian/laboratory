{
 "cells": [
  {
   "cell_type": "code",
   "execution_count": 1,
   "id": "30e45f7f",
   "metadata": {},
   "outputs": [],
   "source": [
    "import numpy as np"
   ]
  },
  {
   "cell_type": "markdown",
   "id": "4dc2ef46",
   "metadata": {},
   "source": [
    "# Dados"
   ]
  },
  {
   "cell_type": "markdown",
   "id": "8cfbfcb2",
   "metadata": {},
   "source": [
    "$\n",
    "\\begin{align*}\n",
    "\\max \\ & 5 x_1 + 2 x_2 \\\\\n",
    "& -x_1 + x_2 + x_3 = 2 \\\\\n",
    "& 8 x_1 + 2 x_2 + x_4 = 17 \\\\\n",
    "& x_j \\geq 0, \\ j = 1, \\ldots, 4\n",
    "\\end{align*}\n",
    "$"
   ]
  },
  {
   "cell_type": "code",
   "execution_count": 2,
   "id": "52d7f2b6",
   "metadata": {},
   "outputs": [],
   "source": [
    "a1 = np.array([-1,8])\n",
    "a2 = np.array([1,2])\n",
    "a3 = np.array([-1,0,])\n",
    "a4 = np.array([0,-1])\n",
    "\n",
    "b = np.array([2,17])\n",
    "\n",
    "c1 = 5\n",
    "c2 = 2\n",
    "c3 = 0\n",
    "c4 = 0"
   ]
  },
  {
   "cell_type": "markdown",
   "id": "a735e0ab",
   "metadata": {},
   "source": [
    "# iteração 1"
   ]
  },
  {
   "cell_type": "code",
   "execution_count": 3,
   "id": "21870eea",
   "metadata": {},
   "outputs": [],
   "source": [
    "# base\n",
    "aB1 = a1\n",
    "aB2 = a2\n",
    "\n",
    "cB1 = c1\n",
    "cB2 = c2\n",
    "\n",
    "# não base\n",
    "aN1 = a3\n",
    "aN2 = a4\n",
    "\n",
    "cN1 = c3\n",
    "cN2 = c4"
   ]
  },
  {
   "cell_type": "code",
   "execution_count": 4,
   "id": "8fc39165",
   "metadata": {},
   "outputs": [
    {
     "name": "stdout",
     "output_type": "stream",
     "text": [
      "B =  [[-1  1]\n",
      " [ 8  2]]\n",
      "cB =  [5 2]\n"
     ]
    }
   ],
   "source": [
    "B = np.array([aB1,aB2])\n",
    "\n",
    "N = np.array([aN1,aN2])\n",
    "\n",
    "B = B.T\n",
    "N = N.T\n",
    "\n",
    "print(\"B = \", B)\n",
    "\n",
    "cB = np.array([cB1,cB2])\n",
    "print(\"cB = \", cB)"
   ]
  },
  {
   "cell_type": "code",
   "execution_count": 5,
   "id": "9e4c2d18",
   "metadata": {},
   "outputs": [
    {
     "name": "stdout",
     "output_type": "stream",
     "text": [
      "detB =  -10.0\n",
      "iB =  [[-0.2  0.1]\n",
      " [ 0.8  0.1]]\n"
     ]
    }
   ],
   "source": [
    "# inversa de B\n",
    "\n",
    "detB = np.linalg.det(B)\n",
    "print(\"detB = \", np.round(detB,3))\n",
    "\n",
    "if (detB != 0):\n",
    "    iB = np.linalg.inv(B)\n",
    "    print(\"iB = \", np.round(iB,3))\n",
    "else:\n",
    "    print(\"B não possui inversa!\")"
   ]
  },
  {
   "cell_type": "code",
   "execution_count": 6,
   "id": "866c89db",
   "metadata": {},
   "outputs": [
    {
     "name": "stdout",
     "output_type": "stream",
     "text": [
      "xB =  [1.3 3.3]\n",
      "B é primal viável\n",
      "z =  13.1\n"
     ]
    }
   ],
   "source": [
    "# solução\n",
    "\n",
    "xB = iB.dot(b.T)\n",
    "print(\"xB = \", np.round(xB,2))\n",
    "\n",
    "temp = 0\n",
    "for x in xB:\n",
    "    if x < 0:\n",
    "        temp += 1\n",
    "        print(\"B não é primal viável!\")\n",
    "        break\n",
    "\n",
    "if temp == 0:\n",
    "    print(\"B é primal viável\")\n",
    "\n",
    "z = cB.dot(xB)\n",
    "print(\"z = \", np.round(z,2))"
   ]
  },
  {
   "cell_type": "code",
   "execution_count": 7,
   "id": "8f4c13f2",
   "metadata": {},
   "outputs": [
    {
     "name": "stdout",
     "output_type": "stream",
     "text": [
      "mu =  [0.6 0.7]\n",
      "crN1 =  -0.6\n",
      "crN2 =  -0.7\n",
      "B é dual viável\n"
     ]
    }
   ],
   "source": [
    "# custos reduzidos\n",
    "\n",
    "mu = cB.dot(iB)\n",
    "print(\"mu = \", np.round(mu,2))\n",
    "\n",
    "crN1 = mu.dot(aN1.T) - cN1 \n",
    "print(\"crN1 = \", np.round(crN1,2))\n",
    "\n",
    "crN2 = mu.dot(aN2.T) - cN2 \n",
    "print(\"crN2 = \", np.round(crN2,2))\n",
    "\n",
    "if (crN1 < 0 and crN2 < 0):\n",
    "    print(\"B é dual viável\")\n",
    "else:\n",
    "    print(\"B não é dual viável\")"
   ]
  },
  {
   "cell_type": "code",
   "execution_count": 9,
   "id": "87d561f4",
   "metadata": {},
   "outputs": [
    {
     "name": "stdout",
     "output_type": "stream",
     "text": [
      "Y =  [[ 0.2 -0.1]\n",
      " [-0.8 -0.1]]\n"
     ]
    }
   ],
   "source": [
    "# escolha do item a entrar na base\n",
    "\n",
    "# Y = B^{-1} N\n",
    "\n",
    "Y = iB.dot(N)\n",
    "print(\"Y = \", Y)\n",
    "\n",
    "#yB4 = iB[3].dot(N)\n",
    "#print(\"yB4 = \", yB4)"
   ]
  },
  {
   "cell_type": "markdown",
   "id": "930df169",
   "metadata": {},
   "source": [
    "$\n",
    "\\min_{j \\in J} \\left\\{ \\frac{z_j - c_j}{y_{kj}} \\ : \\ y_{kj} < 0 \\right\\}\n",
    "$"
   ]
  },
  {
   "cell_type": "code",
   "execution_count": 10,
   "id": "ca0c4fa5",
   "metadata": {},
   "outputs": [
    {
     "name": "stdout",
     "output_type": "stream",
     "text": [
      "0.62\n",
      "2.0\n",
      "0.62\n"
     ]
    }
   ],
   "source": [
    "#l =  min_{j \\in J} {(z_j - c_j)/y_{kj} : y_{kj} < 0}\n",
    "# onde k é o indice da coluna que sairá da base e l é o indice coluna que entrará na base \n",
    "\n",
    "# a coluna a1 entrará na base na próxima iteração\n",
    "# a coluna a6 sairá na base na próxima iteração\n",
    "\n",
    "v1 = crN1/yB4[0]\n",
    "v2 = crN2/yB4[1]\n",
    "print(np.round(v1,2))\n",
    "print(np.round(v2,2))\n",
    "\n",
    "v = min(v1,v2)\n",
    "print(np.round(v,2))"
   ]
  },
  {
   "cell_type": "code",
   "execution_count": 14,
   "id": "84133451",
   "metadata": {},
   "outputs": [],
   "source": [
    "# novo problema\n",
    "\n",
    "a1 = np.array([-1,8,0])\n",
    "a2 = np.array([1,2,1])\n",
    "a3 = np.array([-1,0,0])\n",
    "a4 = np.array([0,-1,0])\n",
    "a5 = np.array([0,0,-1])\n",
    "\n",
    "b = np.array([2,17,3])\n",
    "\n",
    "c1 = 5\n",
    "c2 = 2\n",
    "c3 = 0\n",
    "c4 = 0\n",
    "c5 = 0"
   ]
  },
  {
   "cell_type": "code",
   "execution_count": 21,
   "id": "0aa04e62",
   "metadata": {},
   "outputs": [],
   "source": [
    "# base\n",
    "aB1 = a1\n",
    "aB2 = a2\n",
    "aB3 = a3\n",
    "\n",
    "cB1 = c1\n",
    "cB2 = c2\n",
    "cB3 = c3\n",
    "\n",
    "# não base\n",
    "aN1 = a4\n",
    "aN2 = a5\n",
    "\n",
    "cN1 = c4\n",
    "cN2 = c5"
   ]
  },
  {
   "cell_type": "code",
   "execution_count": 22,
   "id": "d8b68de4",
   "metadata": {},
   "outputs": [
    {
     "name": "stdout",
     "output_type": "stream",
     "text": [
      "B =  [[-1  1 -1]\n",
      " [ 8  2  0]\n",
      " [ 0  1  0]]\n",
      "cB =  [5 2 0]\n"
     ]
    }
   ],
   "source": [
    "B = np.array([aB1,aB2,aB3])\n",
    "\n",
    "N = np.array([aN1,aN2])\n",
    "\n",
    "B = B.T\n",
    "N = N.T\n",
    "\n",
    "print(\"B = \", B)\n",
    "\n",
    "cB = np.array([cB1,cB2,cB3])\n",
    "print(\"cB = \", cB)"
   ]
  },
  {
   "cell_type": "code",
   "execution_count": 23,
   "id": "31c43757",
   "metadata": {},
   "outputs": [
    {
     "name": "stdout",
     "output_type": "stream",
     "text": [
      "detB =  -8.0\n",
      "iB =  [[ 0.     0.125 -0.25 ]\n",
      " [ 0.     0.     1.   ]\n",
      " [-1.    -0.125  1.25 ]]\n"
     ]
    }
   ],
   "source": [
    "# inversa de B\n",
    "\n",
    "detB = np.linalg.det(B)\n",
    "print(\"detB = \", np.round(detB,3))\n",
    "\n",
    "if (detB != 0):\n",
    "    iB = np.linalg.inv(B)\n",
    "    print(\"iB = \", np.round(iB,3))\n",
    "else:\n",
    "    print(\"B não possui inversa!\")"
   ]
  },
  {
   "cell_type": "code",
   "execution_count": 24,
   "id": "c729a9cd",
   "metadata": {},
   "outputs": [
    {
     "data": {
      "text/plain": [
       "array([[1., 0., 0.],\n",
       "       [0., 1., 0.],\n",
       "       [0., 0., 1.]])"
      ]
     },
     "execution_count": 24,
     "metadata": {},
     "output_type": "execute_result"
    }
   ],
   "source": [
    "B.dot(iB)"
   ]
  },
  {
   "cell_type": "code",
   "execution_count": 25,
   "id": "79e408d7",
   "metadata": {},
   "outputs": [
    {
     "name": "stdout",
     "output_type": "stream",
     "text": [
      "xB =  [ 1.38  3.   -0.38]\n",
      "B não é primal viável!\n",
      "z =  12.88\n"
     ]
    }
   ],
   "source": [
    "# solução\n",
    "\n",
    "xB = iB.dot(b.T)\n",
    "print(\"xB = \", np.round(xB,2))\n",
    "\n",
    "temp = 0\n",
    "for x in xB:\n",
    "    if x < 0:\n",
    "        temp += 1\n",
    "        print(\"B não é primal viável!\")\n",
    "        break\n",
    "\n",
    "if temp == 0:\n",
    "    print(\"B é primal viável\")\n",
    "\n",
    "z = cB.dot(xB)\n",
    "print(\"z = \", np.round(z,2))"
   ]
  },
  {
   "cell_type": "code",
   "execution_count": 20,
   "id": "dde8ab2d",
   "metadata": {},
   "outputs": [
    {
     "name": "stdout",
     "output_type": "stream",
     "text": [
      "mu =  [0.6 0.7 0. ]\n",
      "crN1 =  -0.6\n",
      "crN2 =  -0.7\n",
      "B é dual viável\n"
     ]
    }
   ],
   "source": [
    "# custos reduzidos\n",
    "\n",
    "mu = cB.dot(iB)\n",
    "print(\"mu = \", np.round(mu,2))\n",
    "\n",
    "crN1 = mu.dot(aN1.T) - cN1 \n",
    "print(\"crN1 = \", np.round(crN1,2))\n",
    "\n",
    "crN2 = mu.dot(aN2.T) - cN2 \n",
    "print(\"crN2 = \", np.round(crN2,2))\n",
    "\n",
    "if (crN1 < 0 and crN2 < 0):\n",
    "    print(\"B é dual viável\")\n",
    "else:\n",
    "    print(\"B não é dual viável\")"
   ]
  },
  {
   "cell_type": "code",
   "execution_count": null,
   "id": "83941ed0",
   "metadata": {},
   "outputs": [],
   "source": []
  },
  {
   "cell_type": "markdown",
   "id": "4b9cb8fc",
   "metadata": {},
   "source": [
    "# iteração 2"
   ]
  },
  {
   "cell_type": "code",
   "execution_count": 12,
   "id": "77c5a3a7",
   "metadata": {},
   "outputs": [],
   "source": [
    "# base\n",
    "aB1 = a2\n",
    "aB2 = a3\n",
    "aB3 = a5\n",
    "aB4 = a1\n",
    "\n",
    "cB1 = c2\n",
    "cB2 = c3\n",
    "cB3 = c5\n",
    "cB4 = c1\n",
    "\n",
    "# não base\n",
    "aN1 = a6\n",
    "aN2 = a4\n",
    "\n",
    "cN1 = c6\n",
    "cN2 = c4"
   ]
  },
  {
   "cell_type": "code",
   "execution_count": 13,
   "id": "2bef4495",
   "metadata": {},
   "outputs": [
    {
     "name": "stdout",
     "output_type": "stream",
     "text": [
      "B =  [[ 3 -1  0  1]\n",
      " [ 6  0  0  5]\n",
      " [ 2  0 -1  1]\n",
      " [ 1  0  0  3]]\n",
      "cB =  [2 0 0 3]\n"
     ]
    }
   ],
   "source": [
    "B = np.array([aB1,aB2,aB3,aB4])\n",
    "\n",
    "N = np.array([aN1,aN2])\n",
    "\n",
    "B = B.T\n",
    "N = N.T\n",
    "\n",
    "print(\"B = \", B)\n",
    "\n",
    "cB = np.array([cB1,cB2,cB3,cB4])\n",
    "print(\"cB = \", cB)"
   ]
  },
  {
   "cell_type": "code",
   "execution_count": 14,
   "id": "d3d3aecb",
   "metadata": {},
   "outputs": [
    {
     "name": "stdout",
     "output_type": "stream",
     "text": [
      "detB =  -13.0\n",
      "B possui inversa!\n",
      "iB =  [[ 0.     0.231  0.    -0.385]\n",
      " [-1.     0.615 -0.    -0.692]\n",
      " [-0.     0.385 -1.    -0.308]\n",
      " [ 0.    -0.077  0.     0.462]]\n"
     ]
    }
   ],
   "source": [
    "# inversa de B\n",
    "\n",
    "detB = np.linalg.det(B)\n",
    "print(\"detB = \", detB)\n",
    "\n",
    "if (detB != 0):\n",
    "    print(\"B possui inversa!\")\n",
    "    iB = np.linalg.inv(B)\n",
    "    print(\"iB = \", np.round(iB,3))\n",
    "else:\n",
    "    print(\"B não possui inversa!\")"
   ]
  },
  {
   "cell_type": "code",
   "execution_count": 15,
   "id": "8bea04e9",
   "metadata": {},
   "outputs": [
    {
     "name": "stdout",
     "output_type": "stream",
     "text": [
      "xB =  [4.62 5.31 1.69 0.46]\n",
      "z =  11.0\n",
      "B é primal viável\n"
     ]
    }
   ],
   "source": [
    "# solução\n",
    "\n",
    "xB = iB.dot(b.T)\n",
    "print(\"xB = \", np.round(xB,2))\n",
    "\n",
    "z = cB.dot(xB)\n",
    "print(\"z = \", np.round(z))\n",
    "\n",
    "temp = 0\n",
    "for x in xB:\n",
    "    if x < 0:\n",
    "        temp += 1\n",
    "        print(\"B não é primal viável!\")\n",
    "        break\n",
    "\n",
    "if temp == 0:\n",
    "    print(\"B é primal viável\")"
   ]
  },
  {
   "cell_type": "code",
   "execution_count": 16,
   "id": "9a454436",
   "metadata": {},
   "outputs": [
    {
     "name": "stdout",
     "output_type": "stream",
     "text": [
      "mu =  [0.   0.23 0.   0.62]\n",
      "crN1 =  -0.62\n",
      "crN2 =  -0.23\n",
      "B é dual viável\n"
     ]
    }
   ],
   "source": [
    "# custos reduzidos\n",
    "\n",
    "mu = cB.dot(iB)\n",
    "print(\"mu = \", np.round(mu,2))\n",
    "\n",
    "crN1 = mu.dot(aN1.T) - cN1 \n",
    "print(\"crN1 = \", np.round(crN1,2))\n",
    "\n",
    "crN2 = mu.dot(aN2.T) - cN2 \n",
    "print(\"crN2 = \", np.round(crN2,2))\n",
    "\n",
    "if (crN1 < 0 and crN2 < 0):\n",
    "    print(\"B é dual viável\")\n",
    "else:\n",
    "    print(\"B não é dual viável\")"
   ]
  },
  {
   "cell_type": "code",
   "execution_count": 1,
   "id": "5e5450f7",
   "metadata": {},
   "outputs": [],
   "source": [
    "# importando biblioteca\n",
    "import gurobipy as gp\n",
    "from gurobipy import GRB"
   ]
  },
  {
   "cell_type": "code",
   "execution_count": 4,
   "id": "62a17e08",
   "metadata": {},
   "outputs": [
    {
     "name": "stdout",
     "output_type": "stream",
     "text": [
      "Gurobi Optimizer version 9.1.2 build v9.1.2rc0 (linux64)\n",
      "Thread count: 4 physical cores, 8 logical processors, using up to 8 threads\n",
      "Optimize a model with 1 rows, 3 columns and 3 nonzeros\n",
      "Model fingerprint: 0x577ad9d2\n",
      "Variable types: 0 continuous, 3 integer (3 binary)\n",
      "Coefficient statistics:\n",
      "  Matrix range     [3e+00, 7e+00]\n",
      "  Objective range  [1e+00, 1e+00]\n",
      "  Bounds range     [1e+00, 1e+00]\n",
      "  RHS range        [2e+00, 2e+00]\n",
      "Found heuristic solution: objective -0.0000000\n",
      "Presolve removed 1 rows and 3 columns\n",
      "Presolve time: 0.00s\n",
      "Presolve: All rows and columns removed\n",
      "\n",
      "Explored 0 nodes (0 simplex iterations) in 0.01 seconds\n",
      "Thread count was 1 (of 8 available processors)\n",
      "\n",
      "Solution count 1: -0 \n",
      "No other solutions better than -0\n",
      "\n",
      "Optimal solution found (tolerance 1.00e-04)\n",
      "Best objective -0.000000000000e+00, best bound -0.000000000000e+00, gap 0.0000%\n",
      "-0.0\n",
      "x3 0.0\n",
      "x5 0.0\n",
      "x6 0.0\n"
     ]
    }
   ],
   "source": [
    "# criando modelo do problema inteiro\n",
    "mip = gp.Model()\n",
    "\n",
    "# adicionando variáveis\n",
    "x3 = mip.addVar(vtype=GRB.BINARY, name=\"x3\")\n",
    "x5 = mip.addVar(vtype=GRB.BINARY, name=\"x5\")\n",
    "x6 = mip.addVar(vtype=GRB.BINARY, name=\"x6\")\n",
    "\n",
    "# adicionando restrições\n",
    "mip.addConstr(7*x3 + 5*x5 + 3*x6 <= 2)\n",
    "\n",
    "# definindo função objetivo\n",
    "mip.setObjective(x3 + x5 + x6, GRB.MAXIMIZE)\n",
    "\n",
    "# resolvendo o problema\n",
    "mip.optimize()\n",
    "\n",
    "# imprimindo valor ótimo\n",
    "print(mip.objVal)\n",
    "\n",
    "# imprimindo solução\n",
    "for v in mip.getVars():\n",
    "    print(v.varName, v.x)"
   ]
  },
  {
   "cell_type": "code",
   "execution_count": 5,
   "id": "fda561a8",
   "metadata": {},
   "outputs": [
    {
     "name": "stdout",
     "output_type": "stream",
     "text": [
      "Gurobi Optimizer version 9.1.2 build v9.1.2rc0 (linux64)\n",
      "Thread count: 4 physical cores, 8 logical processors, using up to 8 threads\n",
      "Optimize a model with 1 rows, 4 columns and 4 nonzeros\n",
      "Model fingerprint: 0x4fe8ee45\n",
      "Variable types: 0 continuous, 4 integer (4 binary)\n",
      "Coefficient statistics:\n",
      "  Matrix range     [3e+00, 1e+01]\n",
      "  Objective range  [1e+00, 2e+00]\n",
      "  Bounds range     [1e+00, 1e+00]\n",
      "  RHS range        [5e+00, 5e+00]\n",
      "Found heuristic solution: objective 1.0000000\n",
      "Presolve removed 1 rows and 4 columns\n",
      "Presolve time: 0.00s\n",
      "Presolve: All rows and columns removed\n",
      "\n",
      "Explored 0 nodes (0 simplex iterations) in 0.01 seconds\n",
      "Thread count was 1 (of 8 available processors)\n",
      "\n",
      "Solution count 1: 1 \n",
      "\n",
      "Optimal solution found (tolerance 1.00e-04)\n",
      "Best objective 1.000000000000e+00, best bound 1.000000000000e+00, gap 0.0000%\n",
      "1.0\n",
      "x1 0.0\n",
      "x3 0.0\n",
      "x5 1.0\n",
      "x6 0.0\n"
     ]
    }
   ],
   "source": [
    "mip = gp.Model()\n",
    "\n",
    "x1 = mip.addVar(vtype=GRB.BINARY, name=\"x1\")\n",
    "x3 = mip.addVar(vtype=GRB.BINARY, name=\"x3\")\n",
    "x5 = mip.addVar(vtype=GRB.BINARY, name=\"x5\")\n",
    "x6 = mip.addVar(vtype=GRB.BINARY, name=\"x6\")\n",
    "\n",
    "mip.setObjective(2*x1 + x3 + x5 + x6, GRB.MAXIMIZE)\n",
    "\n",
    "mip.addConstr(12*x1 + 7*x3 + 5*x5 + 3*x6 <= 5)\n",
    "\n",
    "mip.optimize()\n",
    "\n",
    "print(mip.objVal)\n",
    "\n",
    "for v in mip.getVars():\n",
    "    print(v.varName, v.x)"
   ]
  },
  {
   "cell_type": "code",
   "execution_count": 7,
   "id": "ea3989fb",
   "metadata": {},
   "outputs": [
    {
     "name": "stdout",
     "output_type": "stream",
     "text": [
      "Gurobi Optimizer version 9.1.2 build v9.1.2rc0 (linux64)\n",
      "Thread count: 4 physical cores, 8 logical processors, using up to 8 threads\n",
      "Optimize a model with 1 rows, 5 columns and 5 nonzeros\n",
      "Model fingerprint: 0x867de4d2\n",
      "Variable types: 0 continuous, 5 integer (5 binary)\n",
      "Coefficient statistics:\n",
      "  Matrix range     [3e+00, 1e+01]\n",
      "  Objective range  [1e+00, 2e+00]\n",
      "  Bounds range     [1e+00, 1e+00]\n",
      "  RHS range        [9e+00, 9e+00]\n",
      "Found heuristic solution: objective 1.0000000\n",
      "Presolve removed 1 rows and 5 columns\n",
      "Presolve time: 0.00s\n",
      "Presolve: All rows and columns removed\n",
      "\n",
      "Explored 0 nodes (0 simplex iterations) in 0.00 seconds\n",
      "Thread count was 1 (of 8 available processors)\n",
      "\n",
      "Solution count 2: 2 1 \n",
      "\n",
      "Optimal solution found (tolerance 1.00e-04)\n",
      "Best objective 2.000000000000e+00, best bound 2.000000000000e+00, gap 0.0000%\n",
      "2.0\n",
      "x1 0.0\n",
      "x2 0.0\n",
      "x3 0.0\n",
      "x5 1.0\n",
      "x6 1.0\n"
     ]
    }
   ],
   "source": [
    "mip = gp.Model()\n",
    "\n",
    "x1 = mip.addVar(vtype=GRB.BINARY, name=\"x1\")\n",
    "x2 = mip.addVar(vtype=GRB.BINARY, name=\"x2\")\n",
    "x3 = mip.addVar(vtype=GRB.BINARY, name=\"x3\")\n",
    "x5 = mip.addVar(vtype=GRB.BINARY, name=\"x5\")\n",
    "x6 = mip.addVar(vtype=GRB.BINARY, name=\"x6\")\n",
    "\n",
    "mip.setObjective(2*x1 + x2 + x3 + x5 + x6, GRB.MAXIMIZE)\n",
    "\n",
    "mip.addConstr(12*x1 + 9*x2 + 7*x3 + 5*x5 + 3*x6 <= 9)\n",
    "\n",
    "mip.optimize()\n",
    "\n",
    "print(mip.objVal)\n",
    "\n",
    "for v in mip.getVars():\n",
    "    print(v.varName, v.x)"
   ]
  },
  {
   "cell_type": "code",
   "execution_count": null,
   "id": "ecd159fc",
   "metadata": {},
   "outputs": [],
   "source": []
  }
 ],
 "metadata": {
  "kernelspec": {
   "display_name": "Python 3 (ipykernel)",
   "language": "python",
   "name": "python3"
  },
  "language_info": {
   "codemirror_mode": {
    "name": "ipython",
    "version": 3
   },
   "file_extension": ".py",
   "mimetype": "text/x-python",
   "name": "python",
   "nbconvert_exporter": "python",
   "pygments_lexer": "ipython3",
   "version": "3.8.10"
  }
 },
 "nbformat": 4,
 "nbformat_minor": 5
}
