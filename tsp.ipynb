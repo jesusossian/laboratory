{
 "cells": [
  {
   "cell_type": "code",
   "execution_count": null,
   "id": "463da1fd",
   "metadata": {},
   "outputs": [],
   "source": [
    "# Solve a traveling salesman problem on a randomly generated set of\n",
    "# points using lazy constraints.   The base MIP model only includes\n",
    "# 'degree-2' constraints, requiring each node to have exactly\n",
    "# two incident edges.  Solutions to this model may contain subtours -\n",
    "# tours that don't visit every city.  The lazy constraint callback\n",
    "# adds new constraints to cut them off."
   ]
  },
  {
   "cell_type": "code",
   "execution_count": 12,
   "id": "f27d3bf4",
   "metadata": {},
   "outputs": [],
   "source": [
    "import sys\n",
    "import math\n",
    "import random\n",
    "import itertools\n",
    "import gurobipy as gp\n",
    "from gurobipy import *"
   ]
  },
  {
   "cell_type": "code",
   "execution_count": 13,
   "id": "1bbc45b5",
   "metadata": {},
   "outputs": [],
   "source": [
    "# Callback - use lazy constraints to eliminate sub-tours\n",
    "\n",
    "def subtourelim(model, where):\n",
    "    if where == GRB.Callback.MIPSOL:\n",
    "        # make a list of edges selected in the solution\n",
    "        vals = model.cbGetSolution(model._vars)\n",
    "        selected = tuplelist((i,j) for i,j in model._vars.keys() if vals[i,j] > 0.5)\n",
    "        # find the shortest cycle in the selected edge list\n",
    "        tour = subtour(selected)\n",
    "        if len(tour) < n:\n",
    "            # add subtour elimination constraint for every pair of cities in tour\n",
    "            model.cbLazy(quicksum(model._vars[i,j]\n",
    "                                  for i,j in itertools.combinations(tour, 2))\n",
    "                         <= len(tour)-1)"
   ]
  },
  {
   "cell_type": "code",
   "execution_count": 14,
   "id": "22fb40e2",
   "metadata": {},
   "outputs": [],
   "source": [
    "# Given a tuplelist of edges, find the shortest subtour\n",
    "\n",
    "def subtour(edges):\n",
    "    unvisited = list(range(n))\n",
    "    cycle = range(n+1) # initial length has 1 more city\n",
    "    while unvisited: # true if list is non-empty\n",
    "        thiscycle = []\n",
    "        neighbors = unvisited\n",
    "        while neighbors:\n",
    "            current = neighbors[0]\n",
    "            thiscycle.append(current)\n",
    "            unvisited.remove(current)\n",
    "            neighbors = [j for i,j in edges.select(current,'*') if j in unvisited]\n",
    "        if len(cycle) > len(thiscycle):\n",
    "            cycle = thiscycle\n",
    "    return cycle"
   ]
  },
  {
   "cell_type": "code",
   "execution_count": 15,
   "id": "38bb814a",
   "metadata": {},
   "outputs": [],
   "source": [
    "# Parse argument\n",
    "\n",
    "#if len(sys.argv) < 2:\n",
    "#    print('Usage: tsp.py npoints')\n",
    "#    exit(1)\n",
    "#n = int(sys.argv[1])\n",
    "n = 10"
   ]
  },
  {
   "cell_type": "code",
   "execution_count": 16,
   "id": "b8742d2d",
   "metadata": {},
   "outputs": [],
   "source": [
    "# Create n random points\n",
    "\n",
    "random.seed(1)\n",
    "points = [(random.randint(0,100),random.randint(0,100)) for i in range(n)]"
   ]
  },
  {
   "cell_type": "code",
   "execution_count": 17,
   "id": "bb223ed3",
   "metadata": {},
   "outputs": [],
   "source": [
    "# Dictionary of Euclidean distance between each pair of points\n",
    "\n",
    "dist = {(i,j) :\n",
    "    math.sqrt(sum((points[i][k]-points[j][k])**2 for k in range(2)))\n",
    "    for i in range(n) for j in range(i)}\n",
    "\n",
    "m = gp.Model()"
   ]
  },
  {
   "cell_type": "code",
   "execution_count": 18,
   "id": "d027618e",
   "metadata": {},
   "outputs": [],
   "source": [
    "# Create variables\n",
    "\n",
    "vars = m.addVars(dist.keys(), obj=dist, vtype=GRB.BINARY, name='e')\n",
    "for i,j in vars.keys():\n",
    "    vars[j,i] = vars[i,j] # edge in opposite direction\n",
    "\n",
    "# You could use Python looping constructs and m.addVar() to create\n",
    "# these decision variables instead.  The following would be equivalent\n",
    "# to the preceding m.addVars() call...\n",
    "#\n",
    "# vars = tupledict()\n",
    "# for i,j in dist.keys():\n",
    "#   vars[i,j] = m.addVar(obj=dist[i,j], vtype=GRB.BINARY,\n",
    "#                        name='e[%d,%d]'%(i,j))"
   ]
  },
  {
   "cell_type": "code",
   "execution_count": 19,
   "id": "1f391c9c",
   "metadata": {},
   "outputs": [
    {
     "data": {
      "text/plain": [
       "{0: <gurobi.Constr *Awaiting Model Update*>,\n",
       " 1: <gurobi.Constr *Awaiting Model Update*>,\n",
       " 2: <gurobi.Constr *Awaiting Model Update*>,\n",
       " 3: <gurobi.Constr *Awaiting Model Update*>,\n",
       " 4: <gurobi.Constr *Awaiting Model Update*>,\n",
       " 5: <gurobi.Constr *Awaiting Model Update*>,\n",
       " 6: <gurobi.Constr *Awaiting Model Update*>,\n",
       " 7: <gurobi.Constr *Awaiting Model Update*>,\n",
       " 8: <gurobi.Constr *Awaiting Model Update*>,\n",
       " 9: <gurobi.Constr *Awaiting Model Update*>}"
      ]
     },
     "execution_count": 19,
     "metadata": {},
     "output_type": "execute_result"
    }
   ],
   "source": [
    "m.addConstrs(vars.sum(i,'*') == 2 for i in range(n))\n",
    "\n",
    "# Using Python looping constructs, the preceding would be...\n",
    "#\n",
    "# for i in range(n):\n",
    "#   m.addConstr(sum(vars[i,j] for j in range(n)) == 2)"
   ]
  },
  {
   "cell_type": "code",
   "execution_count": 20,
   "id": "1b3303ba",
   "metadata": {},
   "outputs": [
    {
     "name": "stdout",
     "output_type": "stream",
     "text": [
      "Changed value of parameter lazyConstraints to 1\n",
      "   Prev: 0  Min: 0  Max: 1  Default: 0\n",
      "Gurobi Optimizer version 9.1.2 build v9.1.2rc0 (linux64)\n",
      "Thread count: 4 physical cores, 8 logical processors, using up to 8 threads\n",
      "Optimize a model with 10 rows, 45 columns and 90 nonzeros\n",
      "Model fingerprint: 0xe143fde1\n",
      "Variable types: 0 continuous, 45 integer (45 binary)\n",
      "Coefficient statistics:\n",
      "  Matrix range     [1e+00, 1e+00]\n",
      "  Objective range  [1e+01, 1e+02]\n",
      "  Bounds range     [1e+00, 1e+00]\n",
      "  RHS range        [2e+00, 2e+00]\n",
      "Presolve time: 0.00s\n",
      "Presolved: 10 rows, 45 columns, 90 nonzeros\n",
      "Variable types: 0 continuous, 45 integer (45 binary)\n",
      "\n",
      "Root relaxation: objective 3.018755e+02, 15 iterations, 0.00 seconds\n",
      "\n",
      "    Nodes    |    Current Node    |     Objective Bounds      |     Work\n",
      " Expl Unexpl |  Obj  Depth IntInf | Incumbent    BestBd   Gap | It/Node Time\n",
      "\n",
      "     0     0  301.87549    0    6          -  301.87549      -     -    0s\n",
      "H    0     0                     309.0937026  301.87549  2.34%     -    0s\n",
      "H    0     0                     302.7546404  301.87549  0.29%     -    0s\n",
      "\n",
      "Cutting planes:\n",
      "  Lazy constraints: 3\n",
      "\n",
      "Explored 1 nodes (15 simplex iterations) in 0.03 seconds\n",
      "Thread count was 8 (of 8 available processors)\n",
      "\n",
      "Solution count 2: 302.755 309.094 \n",
      "\n",
      "Optimal solution found (tolerance 1.00e-04)\n",
      "Best objective 3.027546403604e+02, best bound 3.027546403604e+02, gap 0.0000%\n",
      "\n",
      "User-callback calls 52, time in user-callback 0.00 sec\n",
      "\n",
      "Optimal tour: [0, 3, 9, 4, 5, 6, 1, 2, 8, 7]\n",
      "Optimal cost: 302.755\n",
      "\n"
     ]
    }
   ],
   "source": [
    "# Optimize model\n",
    "\n",
    "m._vars = vars\n",
    "m.Params.lazyConstraints = 1\n",
    "m.optimize(subtourelim)\n",
    "\n",
    "vals = m.getAttr('x', vars)\n",
    "selected = gp.tuplelist((i,j) for i,j in vals.keys() if vals[i,j] > 0.5)\n",
    "\n",
    "tour = subtour(selected)\n",
    "assert len(tour) == n\n",
    "\n",
    "print('')\n",
    "print('Optimal tour: %s' % str(tour))\n",
    "print('Optimal cost: %g' % m.objVal)\n",
    "print('')"
   ]
  },
  {
   "cell_type": "code",
   "execution_count": null,
   "id": "443e48ab",
   "metadata": {},
   "outputs": [],
   "source": []
  },
  {
   "cell_type": "code",
   "execution_count": null,
   "id": "7427ecc5",
   "metadata": {},
   "outputs": [],
   "source": []
  }
 ],
 "metadata": {
  "kernelspec": {
   "display_name": "Python 3 (ipykernel)",
   "language": "python",
   "name": "python3"
  },
  "language_info": {
   "codemirror_mode": {
    "name": "ipython",
    "version": 3
   },
   "file_extension": ".py",
   "mimetype": "text/x-python",
   "name": "python",
   "nbconvert_exporter": "python",
   "pygments_lexer": "ipython3",
   "version": "3.8.10"
  }
 },
 "nbformat": 4,
 "nbformat_minor": 5
}
