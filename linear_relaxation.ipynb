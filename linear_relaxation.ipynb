{
 "cells": [
  {
   "cell_type": "code",
   "execution_count": 1,
   "id": "876073f1",
   "metadata": {},
   "outputs": [],
   "source": [
    "import sys\n",
    "import gurobipy as gp\n",
    "from gurobipy import GRB"
   ]
  },
  {
   "cell_type": "code",
   "execution_count": 2,
   "id": "faf0448e",
   "metadata": {},
   "outputs": [
    {
     "name": "stdout",
     "output_type": "stream",
     "text": [
      "Academic license - for non-commercial use only - expires 2021-09-15\n",
      "Using license file /opt/gurobi912/gurobi.lic\n",
      "Read MPS format model from file mps/assign1-5-8.mps\n",
      "Reading time = 0.01 seconds\n",
      "assign1-5-8: 161 rows, 156 columns, 3720 nonzeros\n"
     ]
    }
   ],
   "source": [
    "# Read model\n",
    "model = gp.read('mps/assign1-5-8.mps')"
   ]
  },
  {
   "cell_type": "code",
   "execution_count": null,
   "id": "801d58e9",
   "metadata": {},
   "outputs": [],
   "source": [
    "if model.isMIP == 1:\n",
    "    print('O modelo é um mip')"
   ]
  },
  {
   "cell_type": "code",
   "execution_count": 3,
   "id": "cd8a6914",
   "metadata": {},
   "outputs": [],
   "source": [
    "# relaxando a variáveis inteiras\n",
    "for v in model.getVars():\n",
    "    if v.vType != GRB.CONTINUOUS:\n",
    "        v.vType = GRB.CONTINUOUS"
   ]
  },
  {
   "cell_type": "code",
   "execution_count": 5,
   "id": "b7c7d5da",
   "metadata": {},
   "outputs": [
    {
     "name": "stdout",
     "output_type": "stream",
     "text": [
      "Changed value of parameter IterationLimit to 1000.0\n",
      "   Prev: inf  Min: 0.0  Max: inf  Default: inf\n",
      "Changed value of parameter TimeLimit to 60.0\n",
      "   Prev: inf  Min: 0.0  Max: inf  Default: inf\n",
      "Changed value of parameter method to 1\n",
      "   Prev: -1  Min: -1  Max: 5  Default: -1\n",
      "Changed value of parameter Threads to 1\n",
      "   Prev: 0  Min: 0  Max: 1024  Default: 0\n"
     ]
    }
   ],
   "source": [
    "# configurando parametros\n",
    "#model.Params.IterationLimit = 1000\n",
    "model.Params.TimeLimit = 60 # define tempo limite\n",
    "model.Params.method = 1\n",
    "model.Params.Threads = 1"
   ]
  },
  {
   "cell_type": "code",
   "execution_count": 6,
   "id": "15e7bc1b",
   "metadata": {},
   "outputs": [
    {
     "name": "stdout",
     "output_type": "stream",
     "text": [
      "Gurobi Optimizer version 9.1.2 build v9.1.2rc0 (linux64)\n",
      "Thread count: 4 physical cores, 8 logical processors, using up to 1 threads\n",
      "Optimize a model with 161 rows, 156 columns and 3720 nonzeros\n",
      "Model fingerprint: 0x9a3ed204\n",
      "Coefficient statistics:\n",
      "  Matrix range     [1e+00, 5e+00]\n",
      "  Objective range  [1e+00, 1e+00]\n",
      "  Bounds range     [1e+00, 2e+01]\n",
      "  RHS range        [1e+00, 6e+00]\n",
      "Presolve removed 1 rows and 0 columns\n",
      "Presolve time: 0.01s\n",
      "Presolved: 160 rows, 156 columns, 3694 nonzeros\n",
      "\n",
      "Iteration    Objective       Primal Inf.    Dual Inf.      Time\n",
      "       0    0.0000000e+00   1.970000e+02   0.000000e+00      0s\n",
      "     307    1.8336255e+02   0.000000e+00   0.000000e+00      0s\n",
      "\n",
      "Solved in 307 iterations and 0.02 seconds\n",
      "Optimal objective  1.833625550e+02\n"
     ]
    }
   ],
   "source": [
    "# resolvendo o problema\n",
    "model.optimize()"
   ]
  },
  {
   "cell_type": "code",
   "execution_count": 7,
   "id": "b6ce152d",
   "metadata": {},
   "outputs": [
    {
     "name": "stdout",
     "output_type": "stream",
     "text": [
      "Valor ótimo: 183.363\n",
      "tempo:  0.02\n"
     ]
    }
   ],
   "source": [
    "# imprimindo solução\n",
    "if model.status == GRB.OPTIMAL:\n",
    "    print('Valor ótimo: %g' % model.objVal)\n",
    "#    for v in model.getVars():\n",
    "#        print('%s = %g' % (v.varName, v.x))\n",
    "else:\n",
    "    print('Otimização finalizou com status %d' % (model.status))\n",
    "    \n",
    "print('tempo: ', round(model.Runtime,2))"
   ]
  },
  {
   "cell_type": "code",
   "execution_count": null,
   "id": "c2f8e1f4",
   "metadata": {},
   "outputs": [],
   "source": []
  }
 ],
 "metadata": {
  "kernelspec": {
   "display_name": "Python 3 (ipykernel)",
   "language": "python",
   "name": "python3"
  },
  "language_info": {
   "codemirror_mode": {
    "name": "ipython",
    "version": 3
   },
   "file_extension": ".py",
   "mimetype": "text/x-python",
   "name": "python",
   "nbconvert_exporter": "python",
   "pygments_lexer": "ipython3",
   "version": "3.8.10"
  }
 },
 "nbformat": 4,
 "nbformat_minor": 5
}
