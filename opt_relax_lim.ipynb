{
 "cells": [
  {
   "cell_type": "markdown",
   "metadata": {},
   "source": [
    "# otimalidade, relaxação e limites"
   ]
  },
  {
   "cell_type": "code",
   "execution_count": 1,
   "metadata": {},
   "outputs": [],
   "source": [
    "# importando biblioteca\n",
    "import gurobipy as gp\n",
    "from gurobipy import GRB"
   ]
  },
  {
   "cell_type": "code",
   "execution_count": 2,
   "metadata": {},
   "outputs": [
    {
     "name": "stdout",
     "output_type": "stream",
     "text": [
      "Academic license - for non-commercial use only - expires 2021-07-15\n",
      "Using license file /opt/gurobi912/gurobi.lic\n"
     ]
    }
   ],
   "source": [
    "# exemplo 2.1, livro do wolsey\n",
    "m = gp.Model()"
   ]
  },
  {
   "cell_type": "code",
   "execution_count": 4,
   "metadata": {},
   "outputs": [],
   "source": [
    "# adicionando variáveis\n",
    "x1 = m.addVar(name=\"x1\")\n",
    "x2 = m.addVar(name=\"x2\")"
   ]
  },
  {
   "cell_type": "code",
   "execution_count": 5,
   "metadata": {},
   "outputs": [
    {
     "data": {
      "text/plain": [
       "<gurobi.Constr *Awaiting Model Update*>"
      ]
     },
     "execution_count": 5,
     "metadata": {},
     "output_type": "execute_result"
    }
   ],
   "source": [
    "# adicionando restrições\n",
    "m.addConstr(7*x1 - 2*x2 <= 14)\n",
    "m.addConstr(x2 <= 3)\n",
    "m.addConstr(2*x1 - 2*x2 <= 3)"
   ]
  },
  {
   "cell_type": "code",
   "execution_count": 6,
   "metadata": {},
   "outputs": [],
   "source": [
    "# definindo função objetivo\n",
    "m.setObjective(4*x1 - x2, GRB.MAXIMIZE)"
   ]
  },
  {
   "cell_type": "code",
   "execution_count": 7,
   "metadata": {},
   "outputs": [],
   "source": [
    "m.write('exemplo2_1.lp')"
   ]
  },
  {
   "cell_type": "code",
   "execution_count": 8,
   "metadata": {},
   "outputs": [
    {
     "name": "stdout",
     "output_type": "stream",
     "text": [
      "Gurobi Optimizer version 9.1.2 build v9.1.2rc0 (linux64)\n",
      "Thread count: 4 physical cores, 8 logical processors, using up to 8 threads\n",
      "Optimize a model with 3 rows, 2 columns and 5 nonzeros\n",
      "Model fingerprint: 0xbc5ea0ab\n",
      "Coefficient statistics:\n",
      "  Matrix range     [1e+00, 7e+00]\n",
      "  Objective range  [1e+00, 4e+00]\n",
      "  Bounds range     [0e+00, 0e+00]\n",
      "  RHS range        [3e+00, 1e+01]\n",
      "Presolve removed 1 rows and 0 columns\n",
      "Presolve time: 0.18s\n",
      "Presolved: 2 rows, 2 columns, 4 nonzeros\n",
      "\n",
      "Iteration    Objective       Primal Inf.    Dual Inf.      Time\n",
      "       0    8.4305000e+00   1.350000e-02   0.000000e+00      0s\n",
      "       1    8.4285714e+00   0.000000e+00   0.000000e+00      0s\n",
      "\n",
      "Solved in 1 iterations and 0.19 seconds\n",
      "Optimal objective  8.428571429e+00\n"
     ]
    }
   ],
   "source": [
    "# resolvendo o problema\n",
    "m.optimize()"
   ]
  },
  {
   "cell_type": "code",
   "execution_count": 9,
   "metadata": {},
   "outputs": [
    {
     "name": "stdout",
     "output_type": "stream",
     "text": [
      "8.428571428571429\n"
     ]
    }
   ],
   "source": [
    "# imprimindo valor ótimo\n",
    "print(m.objVal)"
   ]
  },
  {
   "cell_type": "code",
   "execution_count": 10,
   "metadata": {},
   "outputs": [
    {
     "name": "stdout",
     "output_type": "stream",
     "text": [
      "x1 2.857142857142857\n",
      "x2 3.0\n"
     ]
    }
   ],
   "source": [
    "# imprimindo solução\n",
    "for v in m.getVars():\n",
    "    print(v.varName, v.x)"
   ]
  },
  {
   "cell_type": "code",
   "execution_count": 52,
   "metadata": {},
   "outputs": [],
   "source": [
    "# criando modelo do problema inteiro\n",
    "mip = gp.Model()"
   ]
  },
  {
   "cell_type": "code",
   "execution_count": 53,
   "metadata": {},
   "outputs": [],
   "source": [
    "# adicionando variáveis\n",
    "y1 = mip.addVar(vtype=GRB.INTEGER, name=\"x1\")\n",
    "y2 = mip.addVar(vtype=GRB.INTEGER, name=\"x2\")"
   ]
  },
  {
   "cell_type": "code",
   "execution_count": 54,
   "metadata": {},
   "outputs": [
    {
     "data": {
      "text/plain": [
       "<gurobi.Constr *Awaiting Model Update*>"
      ]
     },
     "execution_count": 54,
     "metadata": {},
     "output_type": "execute_result"
    }
   ],
   "source": [
    "# adicionando restrições\n",
    "mip.addConstr(7*y1 - 2*y2 <= 14)\n",
    "mip.addConstr(y2 <= 3)\n",
    "mip.addConstr(2*y1 - 2*y2 <= 3)"
   ]
  },
  {
   "cell_type": "code",
   "execution_count": 55,
   "metadata": {},
   "outputs": [],
   "source": [
    "# definindo função objetivo\n",
    "mip.setObjective(4*y1 - y2, GRB.MAXIMIZE)"
   ]
  },
  {
   "cell_type": "code",
   "execution_count": 57,
   "metadata": {},
   "outputs": [],
   "source": [
    "mip.write('exemplo2_1_mip.lp')"
   ]
  },
  {
   "cell_type": "code",
   "execution_count": 58,
   "metadata": {},
   "outputs": [
    {
     "name": "stdout",
     "output_type": "stream",
     "text": [
      "Gurobi Optimizer version 9.1.2 build v9.1.2rc0 (linux64)\n",
      "Thread count: 4 physical cores, 8 logical processors, using up to 8 threads\n",
      "Optimize a model with 3 rows, 2 columns and 5 nonzeros\n",
      "Model fingerprint: 0x2cff5aeb\n",
      "Variable types: 0 continuous, 2 integer (0 binary)\n",
      "Coefficient statistics:\n",
      "  Matrix range     [1e+00, 7e+00]\n",
      "  Objective range  [1e+00, 4e+00]\n",
      "  Bounds range     [0e+00, 0e+00]\n",
      "  RHS range        [3e+00, 1e+01]\n",
      "Found heuristic solution: objective 4.0000000\n",
      "Presolve removed 3 rows and 2 columns\n",
      "Presolve time: 0.00s\n",
      "Presolve: All rows and columns removed\n",
      "\n",
      "Explored 0 nodes (0 simplex iterations) in 0.01 seconds\n",
      "Thread count was 1 (of 8 available processors)\n",
      "\n",
      "Solution count 2: 7 4 \n",
      "\n",
      "Optimal solution found (tolerance 1.00e-04)\n",
      "Best objective 7.000000000000e+00, best bound 7.000000000000e+00, gap 0.0000%\n"
     ]
    }
   ],
   "source": [
    "# resolvendo o problema\n",
    "mip.optimize()"
   ]
  },
  {
   "cell_type": "code",
   "execution_count": 59,
   "metadata": {},
   "outputs": [
    {
     "name": "stdout",
     "output_type": "stream",
     "text": [
      "Obj = 7\n"
     ]
    }
   ],
   "source": [
    "# imprimindo a solução ótima\n",
    "print('Obj = %g' % mip.objVal)"
   ]
  },
  {
   "cell_type": "code",
   "execution_count": 60,
   "metadata": {},
   "outputs": [
    {
     "name": "stdout",
     "output_type": "stream",
     "text": [
      "x1 = 2\n",
      "x2 = 1\n"
     ]
    }
   ],
   "source": [
    "# imprimindo as soluções\n",
    "for v in mip.getVars():\n",
    "    print('%s = %g' % (v.varName, v.x))"
   ]
  },
  {
   "cell_type": "markdown",
   "metadata": {},
   "source": [
    "# Exemplo 2.2, livro do Wolsey"
   ]
  },
  {
   "cell_type": "code",
   "execution_count": 70,
   "metadata": {},
   "outputs": [
    {
     "name": "stdout",
     "output_type": "stream",
     "text": [
      "Gurobi Optimizer version 9.1.2 build v9.1.2rc0 (linux64)\n",
      "Thread count: 4 physical cores, 8 logical processors, using up to 8 threads\n",
      "Optimize a model with 1 rows, 4 columns and 4 nonzeros\n",
      "Model fingerprint: 0xd07d84f6\n",
      "Variable types: 0 continuous, 4 integer (4 binary)\n",
      "Coefficient statistics:\n",
      "  Matrix range     [2e+00, 4e+00]\n",
      "  Objective range  [2e+00, 7e+00]\n",
      "  Bounds range     [1e+00, 1e+00]\n",
      "  RHS range        [6e+00, 6e+00]\n",
      "Found heuristic solution: objective 11.0000000\n",
      "Presolve removed 1 rows and 4 columns\n",
      "Presolve time: 0.00s\n",
      "Presolve: All rows and columns removed\n",
      "\n",
      "Explored 0 nodes (0 simplex iterations) in 0.01 seconds\n",
      "Thread count was 1 (of 8 available processors)\n",
      "\n",
      "Solution count 1: 11 \n",
      "\n",
      "Optimal solution found (tolerance 1.00e-04)\n",
      "Best objective 1.100000000000e+01, best bound 1.100000000000e+01, gap 0.0000%\n",
      "Obj = 11\n",
      "x1 = 1\n",
      "x2 = 1\n",
      "x3 = 0\n",
      "x4 = 0\n"
     ]
    }
   ],
   "source": [
    "# criando modelo do problema inteiro\n",
    "mip1 = gp.Model()\n",
    "\n",
    "# adicionando variáveis\n",
    "z1 = mip1.addVar(vtype=GRB.BINARY, name=\"x1\")\n",
    "z2 = mip1.addVar(vtype=GRB.BINARY, name=\"x2\")\n",
    "z3 = mip1.addVar(vtype=GRB.BINARY, name=\"x3\")\n",
    "z4 = mip1.addVar(vtype=GRB.BINARY, name=\"x4\")\n",
    "\n",
    "#relax = mip1.relax()\n",
    "\n",
    "# definindo função objetivo\n",
    "mip1.setObjective(7*z1 + 4*z2 + 5*z3 + 2*z4, GRB.MAXIMIZE)\n",
    "\n",
    "# adicionando restrições\n",
    "mip1.addConstr(3*z1 + 3*z2 + 4*z3 + 2*z4 <= 6)\n",
    "\n",
    "# solved the problem\n",
    "mip1.optimize()\n",
    "\n",
    "# imprimindo a solução ótima\n",
    "print('Obj = %g' % mip1.objVal)\n",
    "\n",
    "# imprimindo as soluções\n",
    "for v in mip1.getVars():\n",
    "    print('%s = %g' % (v.varName, v.x))"
   ]
  },
  {
   "cell_type": "code",
   "execution_count": null,
   "metadata": {},
   "outputs": [],
   "source": []
  }
 ],
 "metadata": {
  "kernelspec": {
   "display_name": "Python 3 (ipykernel)",
   "language": "python",
   "name": "python3"
  },
  "language_info": {
   "codemirror_mode": {
    "name": "ipython",
    "version": 3
   },
   "file_extension": ".py",
   "mimetype": "text/x-python",
   "name": "python",
   "nbconvert_exporter": "python",
   "pygments_lexer": "ipython3",
   "version": "3.8.10"
  }
 },
 "nbformat": 4,
 "nbformat_minor": 2
}
