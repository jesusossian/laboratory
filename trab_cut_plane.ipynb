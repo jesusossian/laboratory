{
 "cells": [
  {
   "cell_type": "code",
   "execution_count": 86,
   "id": "c14d8e1e",
   "metadata": {},
   "outputs": [],
   "source": [
    "import gurobipy as gp\n",
    "from gurobipy import GRB"
   ]
  },
  {
   "cell_type": "markdown",
   "id": "eb949aff",
   "metadata": {},
   "source": [
    "## Problema de dimensionamento de lotes capacitado"
   ]
  },
  {
   "cell_type": "markdown",
   "id": "2e9f8f43",
   "metadata": {},
   "source": [
    "Considere a formulação do problema da dimensionamento de lotes capacitado.\n",
    "\n",
    "$\n",
    "\\begin{align*}\n",
    "\\min \\ & \\sum_{t=1}^{n} p_{t} x_{t} + \\sum_{t=1}^{n} h_t s_t + \\sum_{t=1}^{n} f_t y_t \\\\\n",
    "& s_{t-1} + x_{t} = d_{t} + s_{t} \\ \\mbox{ para } t=1, \\ldots, n \\\\\n",
    "& x_{t} \\leq C \\cdot y_t \\mbox{ para } t=1, \\ldots n \\\\\n",
    "& s_{0} = s_{n} = 0 \\\\\n",
    "& s \\in \\mathbb{R}_{+}^{n+1} \\\\\n",
    "& x \\in \\mathbb{R}_{+}^{n} \\\\\n",
    "& y \\in \\mathbb{B}^{n}\n",
    "\\end{align*}\n",
    "$"
   ]
  },
  {
   "cell_type": "markdown",
   "id": "d7822d07",
   "metadata": {},
   "source": [
    "Considere a instância a seguir com 4 períodos."
   ]
  },
  {
   "cell_type": "code",
   "execution_count": 87,
   "id": "3c309719",
   "metadata": {},
   "outputs": [],
   "source": [
    "# demanda\n",
    "d = [2, 4, 5, 1]\n",
    "\n",
    "# custo de produção\n",
    "p = [3, 3, 3, 3]\n",
    "\n",
    "# capacidade\n",
    "C = 4\n",
    "\n",
    "# custo de estoque\n",
    "h = [1, 2, 1, 1]\n",
    "\n",
    "# custo fixo de cada fábrica\n",
    "f = [12, 20, 16, 8]\n",
    "\n",
    "# quantidade de períodos\n",
    "N = range(len(d))"
   ]
  },
  {
   "cell_type": "markdown",
   "id": "0e8c6332",
   "metadata": {},
   "source": [
    "Considere a desigualdade\n",
    "$$\n",
    "x_t \\leq d_t y_t \\mbox{ para } t=1, \\ldots, n\n",
    "$$\n",
    "e a desigualdade\n",
    "$$\n",
    "\\sum_{i=1}^{t} y_{i} \\geq \\left\\lceil  \\dfrac{\\sum_{i=1}^{t} d_{i}}{C} \\right\\rceil \\mbox{ para } t=1, \\ldots, n\n",
    "$$\n",
    "as quais são desigualdades válidas para o problema o problema de dimensionamento de lotes capacitado."
   ]
  },
  {
   "cell_type": "markdown",
   "id": "14172974",
   "metadata": {},
   "source": [
    "Implemente um algoritmo de plano de cortes usando estas duas desigualdades."
   ]
  },
  {
   "cell_type": "code",
   "execution_count": null,
   "id": "414e4885",
   "metadata": {},
   "outputs": [],
   "source": []
  }
 ],
 "metadata": {
  "kernelspec": {
   "display_name": "Python 3 (ipykernel)",
   "language": "python",
   "name": "python3"
  },
  "language_info": {
   "codemirror_mode": {
    "name": "ipython",
    "version": 3
   },
   "file_extension": ".py",
   "mimetype": "text/x-python",
   "name": "python",
   "nbconvert_exporter": "python",
   "pygments_lexer": "ipython3",
   "version": "3.8.10"
  }
 },
 "nbformat": 4,
 "nbformat_minor": 5
}
