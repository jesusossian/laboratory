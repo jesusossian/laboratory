{
 "cells": [
  {
   "cell_type": "markdown",
   "id": "14d9e274",
   "metadata": {},
   "source": [
    "# MIPLIB\n",
    "\n",
    "https://miplib.zib.de/index.html\n",
    "\n",
    "\n",
    "# MPS format\n",
    "https://www.gurobi.com/documentation/9.1/refman/mps_format.html\n",
    "\n",
    "\n",
    "# Status codes\n",
    "\n",
    "https://www.gurobi.com/documentation/9.1/refman/optimization_status_codes.html#sec:StatusCodes\n",
    "\n",
    "\n",
    "# Parameters\n",
    "\n",
    "https://www.gurobi.com/documentation/9.1/refman/parameter_descriptions.html\n",
    "\n",
    "- IterationLimit: \n",
    "https://www.gurobi.com/documentation/9.1/refman/iterationlimit.html\n",
    "\n",
    "- MIPGap: \n",
    "https://www.gurobi.com/documentation/9.1/refman/mipgap2.html\n",
    "\n",
    "- NodeLimit: \n",
    "https://www.gurobi.com/documentation/9.1/refman/nodelimit.html\n",
    "\n",
    "- NodeMethod: \n",
    "https://www.gurobi.com/documentation/9.1/refman/nodemethod.html\n",
    "\n",
    "- Method: \n",
    "https://www.gurobi.com/documentation/9.1/refman/method.html\n",
    "\n",
    "- Presolve\n",
    "https://www.gurobi.com/documentation/9.1/refman/presolve.html\n",
    "\n",
    "- Threads\n",
    "https://www.gurobi.com/documentation/9.1/refman/threads.html\n",
    "\n",
    "- TimeLimit\n",
    "https://www.gurobi.com/documentation/9.1/refman/timelimit.html\n",
    "\n",
    "\n",
    "# Attributes\n",
    "\n",
    "https://www.gurobi.com/documentation/9.1/refman/model_attributes.html\n",
    "\n",
    "https://www.gurobi.com/documentation/9.1/refman/python_attribute_examples.html\n",
    "\n",
    "\n",
    "- ObjVal\n",
    "https://www.gurobi.com/documentation/9.1/refman/objval.html\n",
    "\n",
    "- ObjBound\n",
    "https://www.gurobi.com/documentation/9.1/refman/objbound.html\n",
    "\n",
    "- Runtime\n",
    "https://www.gurobi.com/documentation/9.1/refman/runtime.html\n",
    "\n",
    "- MIPGap\n",
    "https://www.gurobi.com/documentation/9.1/refman/mipgap.html\n",
    "\n",
    "- Status\n",
    "https://www.gurobi.com/documentation/9.1/refman/model_attributes.html\n",
    "\n",
    "- NodeCount\n",
    "https://www.gurobi.com/documentation/9.1/refman/nodecount.html\n",
    "\n",
    "- IsMIP\n",
    "https://www.gurobi.com/documentation/9.1/refman/ismip.html\n",
    "\n",
    "- IterCount\n",
    "https://www.gurobi.com/documentation/9.1/refman/itercount.html"
   ]
  },
  {
   "cell_type": "code",
   "execution_count": 10,
   "id": "38500090",
   "metadata": {},
   "outputs": [],
   "source": [
    "import sys\n",
    "import gurobipy as gp\n",
    "from gurobipy import GRB"
   ]
  },
  {
   "cell_type": "code",
   "execution_count": 11,
   "id": "d64d3f1b",
   "metadata": {},
   "outputs": [
    {
     "name": "stdout",
     "output_type": "stream",
     "text": [
      "Read MPS format model from file mps/data.mps\n",
      "Reading time = 0.56 seconds\n",
      "bab2: 17245 rows, 147912 columns, 2027726 nonzeros\n"
     ]
    }
   ],
   "source": [
    "# Read model\n",
    "model = gp.read('mps/data.mps')"
   ]
  },
  {
   "cell_type": "code",
   "execution_count": 12,
   "id": "350d9445",
   "metadata": {},
   "outputs": [],
   "source": [
    "# exportando o modelo\n",
    "model.write(\"mps/data.lp\")"
   ]
  },
  {
   "cell_type": "code",
   "execution_count": 13,
   "id": "3c83828b",
   "metadata": {},
   "outputs": [
    {
     "name": "stdout",
     "output_type": "stream",
     "text": [
      "<gurobi.Model MIP instance bab2: 17245 constrs, 147912 vars, No parameter changes>\n"
     ]
    }
   ],
   "source": [
    "print(model)"
   ]
  },
  {
   "cell_type": "code",
   "execution_count": 14,
   "id": "235dfe66",
   "metadata": {},
   "outputs": [
    {
     "name": "stdout",
     "output_type": "stream",
     "text": [
      "O modelo é um mip\n"
     ]
    }
   ],
   "source": [
    "if model.isMIP == 1:\n",
    "    print('O modelo é um mip')\n",
    "else:\n",
    "    pritn(\"O modelo não é um mip\")"
   ]
  },
  {
   "cell_type": "code",
   "execution_count": 15,
   "id": "a343e3f0",
   "metadata": {},
   "outputs": [
    {
     "name": "stdout",
     "output_type": "stream",
     "text": [
      "Changed value of parameter TimeLimit to 120.0\n",
      "   Prev: inf  Min: 0.0  Max: inf  Default: inf\n",
      "Changed value of parameter MIPGap to 0.1\n",
      "   Prev: 0.0001  Min: 0.0  Max: inf  Default: 0.0001\n",
      "Changed value of parameter method to 1\n",
      "   Prev: -1  Min: -1  Max: 5  Default: -1\n",
      "Changed value of parameter NodeMethod to 1\n",
      "   Prev: -1  Min: -1  Max: 2  Default: -1\n",
      "Changed value of parameter Threads to 1\n",
      "   Prev: 0  Min: 0  Max: 1024  Default: 0\n"
     ]
    }
   ],
   "source": [
    "# configurando parametros\n",
    "#model.Params.IterationLimit = 1000 # define o número de iterações do simplex\n",
    "model.Params.TimeLimit = 120 # define tempo limite\n",
    "model.Params.MIPGap = 0.1 # define valor do gap\n",
    "model.Params.method = 1\n",
    "model.Params.NodeMethod = 1 #  -1=automatic, 0=primal simplex, 1=dual simplex, and 2=barrier\n",
    "model.Params.Threads = 1\n",
    "#model.Params.Presolve = 0"
   ]
  },
  {
   "cell_type": "code",
   "execution_count": 16,
   "id": "caee1880",
   "metadata": {},
   "outputs": [
    {
     "name": "stdout",
     "output_type": "stream",
     "text": [
      "Gurobi Optimizer version 9.1.2 build v9.1.2rc0 (linux64)\n",
      "Thread count: 4 physical cores, 8 logical processors, using up to 1 threads\n",
      "Optimize a model with 17245 rows, 147912 columns and 2027726 nonzeros\n",
      "Model fingerprint: 0xa1275643\n",
      "Variable types: 0 continuous, 147912 integer (0 binary)\n",
      "Coefficient statistics:\n",
      "  Matrix range     [9e-02, 8e+00]\n",
      "  Objective range  [2e+01, 4e+03]\n",
      "  Bounds range     [1e+00, 1e+00]\n",
      "  RHS range        [1e+00, 5e+01]\n",
      "Presolve removed 556 rows and 1849 columns\n",
      "Presolve time: 4.56s\n",
      "Presolved: 16689 rows, 146063 columns, 939394 nonzeros\n",
      "Variable types: 0 continuous, 146063 integer (146063 binary)\n",
      "\n",
      "Root simplex log...\n",
      "\n",
      "Iteration    Objective       Primal Inf.    Dual Inf.      Time\n",
      "       0   -5.9853192e+06   1.203150e+04   0.000000e+00      6s\n",
      "   61106   -3.8250917e+05   4.588016e+03   0.000000e+00     10s\n",
      "   75508   -3.7326303e+05   8.000000e+01   0.000000e+00     15s\n",
      "   75602   -3.7325999e+05   0.000000e+00   0.000000e+00     15s\n",
      "\n",
      "Root relaxation: objective -3.732600e+05, 75602 iterations, 9.70 seconds\n",
      "\n",
      "    Nodes    |    Current Node    |     Objective Bounds      |     Work\n",
      " Expl Unexpl |  Obj  Depth IntInf | Incumbent    BestBd   Gap | It/Node Time\n",
      "\n",
      "     0     0 -373259.99    0  295          - -373259.99      -     -   19s\n",
      "     0     0 -366941.65    0  339          - -366941.65      -     -   25s\n",
      "     0     0 -366918.15    0  380          - -366918.15      -     -   27s\n",
      "     0     0 -366879.54    0  346          - -366879.54      -     -   27s\n",
      "     0     0 -365429.22    0  557          - -365429.22      -     -   33s\n",
      "     0     0 -365427.18    0  419          - -365427.18      -     -   34s\n",
      "     0     0 -365046.86    0  646          - -365046.86      -     -   37s\n",
      "     0     0 -365046.81    0  658          - -365046.81      -     -   37s\n",
      "     0     0 -364639.95    0  532          - -364639.95      -     -   40s\n",
      "     0     0 -364639.95    0  528          - -364639.95      -     -   40s\n",
      "     0     0 -364609.67    0  737          - -364609.67      -     -   42s\n",
      "     0     0 -364609.67    0  748          - -364609.67      -     -   43s\n",
      "     0     0 -364528.34    0  558          - -364528.34      -     -   44s\n",
      "     0     0 -364528.30    0  610          - -364528.30      -     -   45s\n",
      "     0     0 -364495.57    0  786          - -364495.57      -     -   47s\n",
      "     0     0 -364450.72    0  752          - -364450.72      -     -   47s\n",
      "     0     0 -364450.72    0  788          - -364450.72      -     -   48s\n",
      "     0     0 -364402.68    0  585          - -364402.68      -     -   49s\n",
      "     0     0 -364394.29    0  676          - -364394.29      -     -   50s\n",
      "     0     0 -364389.52    0  660          - -364389.52      -     -   51s\n",
      "     0     0 -364389.52    0  830          - -364389.52      -     -   51s\n",
      "     0     0 -364353.30    0  565          - -364353.30      -     -   52s\n",
      "     0     0 -364307.79    0  655          - -364307.79      -     -   53s\n",
      "     0     0 -364305.07    0  845          - -364305.07      -     -   55s\n",
      "     0     0 -364301.09    0  769          - -364301.09      -     -   56s\n",
      "     0     0 -364301.09    0  797          - -364301.09      -     -   56s\n",
      "     0     0 -363924.73    0  755          - -363924.73      -     -   60s\n",
      "     0     0 -363924.73    0  777          - -363924.73      -     -   61s\n",
      "     0     0 -363858.69    0  789          - -363858.69      -     -   63s\n",
      "     0     0 -363858.07    0  854          - -363858.07      -     -   65s\n",
      "     0     0 -363827.56    0  819          - -363827.56      -     -   67s\n",
      "     0     0 -363827.56    0  839          - -363827.56      -     -   68s\n",
      "     0     0 -363809.98    0  892          - -363809.98      -     -   69s\n",
      "     0     0 -363807.16    0  754          - -363807.16      -     -   70s\n",
      "     0     0 -363807.05    0  771          - -363807.05      -     -   70s\n",
      "     0     0 -363732.48    0  789          - -363732.48      -     -   72s\n",
      "     0     0 -363732.00    0  826          - -363732.00      -     -   73s\n",
      "     0     0 -363727.38    0  923          - -363727.38      -     -   74s\n",
      "     0     0 -363727.10    0  922          - -363727.10      -     -   75s\n",
      "     0     0 -363710.41    0  902          - -363710.41      -     -   77s\n",
      "\n",
      "Cutting planes:\n",
      "  Gomory: 55\n",
      "  Cover: 377\n",
      "  Clique: 352\n",
      "  MIR: 43\n",
      "  StrongCG: 2\n",
      "  Zero half: 61\n",
      "  RLT: 91\n",
      "\n",
      "Explored 1 nodes (140208 simplex iterations) in 121.33 seconds\n",
      "Thread count was 1 (of 8 available processors)\n",
      "\n",
      "Solution count 0\n",
      "\n",
      "Time limit reached\n",
      "Best objective -, best bound -3.637104101663e+05, gap -\n"
     ]
    }
   ],
   "source": [
    "# resolvendo o problema\n",
    "model.optimize()"
   ]
  },
  {
   "cell_type": "code",
   "execution_count": 17,
   "id": "cb73f7ab",
   "metadata": {},
   "outputs": [
    {
     "name": "stdout",
     "output_type": "stream",
     "text": [
      "Otimização finalizou com status 9\n"
     ]
    }
   ],
   "source": [
    "print('Otimização finalizou com status %d' % (model.status))"
   ]
  },
  {
   "cell_type": "code",
   "execution_count": 18,
   "id": "d6dc1e47",
   "metadata": {},
   "outputs": [
    {
     "name": "stdout",
     "output_type": "stream",
     "text": [
      "Otimização finalizou com status 9\n"
     ]
    }
   ],
   "source": [
    "# imprimindo solução\n",
    "if model.status == GRB.OPTIMAL:\n",
    "    print('Valor ótimo: %g' % model.objVal)\n",
    "    for v in model.getVars():\n",
    "        print('%s = %g' % (v.varName, v.x))\n",
    "else:\n",
    "    print('Otimização finalizou com status %d' % (model.status))"
   ]
  },
  {
   "cell_type": "code",
   "execution_count": 19,
   "id": "7b4ab134",
   "metadata": {},
   "outputs": [
    {
     "name": "stdout",
     "output_type": "stream",
     "text": [
      "solução viável:  inf\n",
      "bound:  -363710.41\n",
      "tempo:  121.34\n",
      "gap:  inf\n",
      "iterações:  140208.0\n",
      "Número de vértices:  1.0\n"
     ]
    }
   ],
   "source": [
    "print('solução viável: ', round(model.objVal,2))\n",
    "print('bound: ', round(model.objBound,2))\n",
    "print('tempo: ', round(model.Runtime,2))\n",
    "print('gap: ', round(model.MIPGap,2))\n",
    "print('iterações: ', round(model.IterCount,2))\n",
    "print('Número de vértices: ', round(model.NodeCount,2))"
   ]
  },
  {
   "cell_type": "code",
   "execution_count": null,
   "id": "2c8961c4",
   "metadata": {},
   "outputs": [],
   "source": []
  },
  {
   "cell_type": "code",
   "execution_count": null,
   "id": "e1d61f8c",
   "metadata": {},
   "outputs": [],
   "source": []
  }
 ],
 "metadata": {
  "kernelspec": {
   "display_name": "Python 3 (ipykernel)",
   "language": "python",
   "name": "python3"
  },
  "language_info": {
   "codemirror_mode": {
    "name": "ipython",
    "version": 3
   },
   "file_extension": ".py",
   "mimetype": "text/x-python",
   "name": "python",
   "nbconvert_exporter": "python",
   "pygments_lexer": "ipython3",
   "version": "3.8.10"
  }
 },
 "nbformat": 4,
 "nbformat_minor": 5
}
