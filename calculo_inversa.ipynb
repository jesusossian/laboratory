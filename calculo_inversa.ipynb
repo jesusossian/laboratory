{
 "cells": [
  {
   "cell_type": "code",
   "execution_count": 1,
   "id": "0d64f155",
   "metadata": {},
   "outputs": [],
   "source": [
    "import numpy as np"
   ]
  },
  {
   "cell_type": "code",
   "execution_count": 21,
   "id": "a057477a",
   "metadata": {},
   "outputs": [],
   "source": [
    "a1 = np.array([2,1])\n",
    "a2 = np.array([1,2])\n",
    "a3 = np.array([-1,0,])\n",
    "a4 = np.array([0,-1])\n",
    "\n",
    "b = np.array([6,4])\n",
    "\n",
    "c1 = -1\n",
    "c2 = -1\n",
    "c3 = 0\n",
    "c4 = 0"
   ]
  },
  {
   "cell_type": "code",
   "execution_count": 25,
   "id": "4b29a7b4",
   "metadata": {},
   "outputs": [],
   "source": [
    "# base\n",
    "aB1 = a1\n",
    "aB2 = a2\n",
    "\n",
    "cB1 = c1\n",
    "cB2 = c2\n",
    "\n",
    "# não base\n",
    "aN1 = a3\n",
    "aN2 = a4\n",
    "\n",
    "cN1 = c3\n",
    "cN2 = c4"
   ]
  },
  {
   "cell_type": "code",
   "execution_count": 26,
   "id": "33aa0231",
   "metadata": {},
   "outputs": [
    {
     "name": "stdout",
     "output_type": "stream",
     "text": [
      "B =  [[2 1]\n",
      " [1 2]]\n",
      "cB =  [-1 -1]\n"
     ]
    }
   ],
   "source": [
    "B = np.array([aB1,aB2])\n",
    "\n",
    "N = np.array([aN1,aN2])\n",
    "\n",
    "B = B.T\n",
    "N = N.T\n",
    "\n",
    "print(\"B = \", B)\n",
    "\n",
    "cB = np.array([cB1,cB2])\n",
    "print(\"cB = \", cB)"
   ]
  },
  {
   "cell_type": "code",
   "execution_count": 27,
   "id": "0e3a4848",
   "metadata": {},
   "outputs": [
    {
     "name": "stdout",
     "output_type": "stream",
     "text": [
      "detB =  3.0\n",
      "iB =  [[ 0.667 -0.333]\n",
      " [-0.333  0.667]]\n"
     ]
    }
   ],
   "source": [
    "# inversa de B\n",
    "\n",
    "detB = np.linalg.det(B)\n",
    "print(\"detB = \", np.round(detB,3))\n",
    "\n",
    "if (detB != 0):\n",
    "    iB = np.linalg.inv(B)\n",
    "    print(\"iB = \", np.round(iB,3))\n",
    "else:\n",
    "    print(\"B não possui inversa!\")"
   ]
  },
  {
   "cell_type": "code",
   "execution_count": null,
   "id": "eb544347",
   "metadata": {},
   "outputs": [],
   "source": []
  },
  {
   "cell_type": "code",
   "execution_count": 5,
   "id": "5bcc109f",
   "metadata": {},
   "outputs": [
    {
     "name": "stdout",
     "output_type": "stream",
     "text": [
      "detB =  -13.0\n",
      "iB =  [[ 0.     -1.      0.      0.    ]\n",
      " [ 0.2308  0.6154  0.3846 -0.0769]\n",
      " [-0.     -0.     -1.     -0.    ]\n",
      " [-0.3846 -0.6923 -0.3077  0.4615]]\n"
     ]
    }
   ],
   "source": [
    "a1 = np.array([3,6,2,1])\n",
    "a2 = np.array([-1,0,0,0])\n",
    "a3 = np.array([0,0,-1,0])\n",
    "a4 = np.array([1,5,1,3])\n",
    "\n",
    "B = np.array([a1,a2,a3,a4])\n",
    "\n",
    "detB = np.linalg.det(B)\n",
    "print(\"detB = \", np.round(detB,3))\n",
    "\n",
    "if (detB != 0):\n",
    "    iB = np.linalg.inv(B)\n",
    "    print(\"iB = \", np.round(iB,4))\n",
    "else:\n",
    "    print(\"B não possui inversa!\")"
   ]
  },
  {
   "cell_type": "code",
   "execution_count": 3,
   "id": "ae4dad27",
   "metadata": {},
   "outputs": [
    {
     "data": {
      "text/plain": [
       "array([ 0.23076923,  0.61538462,  0.38461538, -0.07692308])"
      ]
     },
     "execution_count": 3,
     "metadata": {},
     "output_type": "execute_result"
    }
   ],
   "source": [
    "iB[1]"
   ]
  },
  {
   "cell_type": "code",
   "execution_count": 4,
   "id": "5cfc511c",
   "metadata": {},
   "outputs": [
    {
     "data": {
      "text/plain": [
       "array([[ 3,  6,  2,  1],\n",
       "       [-1,  0,  0,  0],\n",
       "       [ 0,  0, -1,  0],\n",
       "       [ 1,  5,  1,  3]])"
      ]
     },
     "execution_count": 4,
     "metadata": {},
     "output_type": "execute_result"
    }
   ],
   "source": [
    "B"
   ]
  },
  {
   "cell_type": "code",
   "execution_count": 7,
   "id": "5a7abb44",
   "metadata": {},
   "outputs": [],
   "source": [
    "ind = B.dot(iB)"
   ]
  },
  {
   "cell_type": "code",
   "execution_count": 8,
   "id": "4c9e3e50",
   "metadata": {},
   "outputs": [
    {
     "name": "stdout",
     "output_type": "stream",
     "text": [
      "[[ 1.  0. -0.  0.]\n",
      " [-0.  1.  0.  0.]\n",
      " [ 0.  0.  1.  0.]\n",
      " [ 0. -0. -0.  1.]]\n"
     ]
    }
   ],
   "source": [
    "print(np.round(ind,2))"
   ]
  },
  {
   "cell_type": "code",
   "execution_count": 14,
   "id": "e367bf18",
   "metadata": {},
   "outputs": [
    {
     "data": {
      "text/plain": [
       "(1385722962267845, 2251799813685248)"
      ]
     },
     "execution_count": 14,
     "metadata": {},
     "output_type": "execute_result"
    }
   ],
   "source": [
    "iB[1,1].as_integer_ratio()"
   ]
  },
  {
   "cell_type": "code",
   "execution_count": null,
   "id": "ed8fad40",
   "metadata": {},
   "outputs": [],
   "source": []
  }
 ],
 "metadata": {
  "kernelspec": {
   "display_name": "Python 3 (ipykernel)",
   "language": "python",
   "name": "python3"
  },
  "language_info": {
   "codemirror_mode": {
    "name": "ipython",
    "version": 3
   },
   "file_extension": ".py",
   "mimetype": "text/x-python",
   "name": "python",
   "nbconvert_exporter": "python",
   "pygments_lexer": "ipython3",
   "version": "3.8.10"
  }
 },
 "nbformat": 4,
 "nbformat_minor": 5
}
