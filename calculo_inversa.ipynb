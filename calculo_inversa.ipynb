{
 "cells": [
  {
   "cell_type": "code",
   "execution_count": 1,
   "id": "0d64f155",
   "metadata": {},
   "outputs": [],
   "source": [
    "import numpy as np"
   ]
  },
  {
   "cell_type": "code",
   "execution_count": 21,
   "id": "a057477a",
   "metadata": {},
   "outputs": [],
   "source": [
    "a1 = np.array([2,1])\n",
    "a2 = np.array([1,2])\n",
    "a3 = np.array([-1,0,])\n",
    "a4 = np.array([0,-1])\n",
    "\n",
    "b = np.array([6,4])\n",
    "\n",
    "c1 = -1\n",
    "c2 = -1\n",
    "c3 = 0\n",
    "c4 = 0"
   ]
  },
  {
   "cell_type": "code",
   "execution_count": 25,
   "id": "4b29a7b4",
   "metadata": {},
   "outputs": [],
   "source": [
    "# base\n",
    "aB1 = a1\n",
    "aB2 = a2\n",
    "\n",
    "cB1 = c1\n",
    "cB2 = c2\n",
    "\n",
    "# não base\n",
    "aN1 = a3\n",
    "aN2 = a4\n",
    "\n",
    "cN1 = c3\n",
    "cN2 = c4"
   ]
  },
  {
   "cell_type": "code",
   "execution_count": 26,
   "id": "33aa0231",
   "metadata": {},
   "outputs": [
    {
     "name": "stdout",
     "output_type": "stream",
     "text": [
      "B =  [[2 1]\n",
      " [1 2]]\n",
      "cB =  [-1 -1]\n"
     ]
    }
   ],
   "source": [
    "B = np.array([aB1,aB2])\n",
    "\n",
    "N = np.array([aN1,aN2])\n",
    "\n",
    "B = B.T\n",
    "N = N.T\n",
    "\n",
    "print(\"B = \", B)\n",
    "\n",
    "cB = np.array([cB1,cB2])\n",
    "print(\"cB = \", cB)"
   ]
  },
  {
   "cell_type": "code",
   "execution_count": 27,
   "id": "0e3a4848",
   "metadata": {},
   "outputs": [
    {
     "name": "stdout",
     "output_type": "stream",
     "text": [
      "detB =  3.0\n",
      "iB =  [[ 0.667 -0.333]\n",
      " [-0.333  0.667]]\n"
     ]
    }
   ],
   "source": [
    "# inversa de B\n",
    "\n",
    "detB = np.linalg.det(B)\n",
    "print(\"detB = \", np.round(detB,3))\n",
    "\n",
    "if (detB != 0):\n",
    "    iB = np.linalg.inv(B)\n",
    "    print(\"iB = \", np.round(iB,3))\n",
    "else:\n",
    "    print(\"B não possui inversa!\")"
   ]
  },
  {
   "cell_type": "code",
   "execution_count": null,
   "id": "eb544347",
   "metadata": {},
   "outputs": [],
   "source": []
  }
 ],
 "metadata": {
  "kernelspec": {
   "display_name": "Python 3 (ipykernel)",
   "language": "python",
   "name": "python3"
  },
  "language_info": {
   "codemirror_mode": {
    "name": "ipython",
    "version": 3
   },
   "file_extension": ".py",
   "mimetype": "text/x-python",
   "name": "python",
   "nbconvert_exporter": "python",
   "pygments_lexer": "ipython3",
   "version": "3.8.10"
  }
 },
 "nbformat": 4,
 "nbformat_minor": 5
}
