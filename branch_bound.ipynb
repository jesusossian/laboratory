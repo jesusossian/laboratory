{
 "cells": [
  {
   "cell_type": "code",
   "execution_count": 1,
   "id": "3765ce6a",
   "metadata": {},
   "outputs": [],
   "source": [
    "# import das bibliotecas\n",
    "import numpy as np\n",
    "import gurobipy as gb\n",
    "from gurobipy import GRB"
   ]
  },
  {
   "cell_type": "markdown",
   "id": "b79bd5f4",
   "metadata": {},
   "source": [
    "Considere o seguinte problema de programação inteira\n",
    "\n",
    "\\begin{align*}\n",
    "\\max \\ & 4 x_1 - 2 * x_2 \\\\\n",
    "& 7 x_1 - x_2 \\leq 14 \\\\\n",
    "& x_2 \\leq 3 \\\\\n",
    "& 2 x_1 - 2 x_2 \\leq 3 \\\\\n",
    "& x_1, x_2 \\in \\mathbb{Z}_{+}\n",
    "\\end{align*}"
   ]
  },
  {
   "cell_type": "code",
   "execution_count": 2,
   "id": "886665d8",
   "metadata": {},
   "outputs": [
    {
     "name": "stdout",
     "output_type": "stream",
     "text": [
      "Using license file /home/jossian/gurobi.lic\n",
      "Academic license - for non-commercial use only\n",
      "Changed value of parameter timeLimit to 60.0\n",
      "   Prev: inf  Min: 0.0  Max: inf  Default: inf\n",
      "Parameter MIPGap unchanged\n",
      "   Value: 0.0001  Min: 0.0  Max: inf  Default: 0.0001\n",
      "Gurobi Optimizer version 9.0.2 build v9.0.2rc0 (linux64)\n",
      "Optimize a model with 3 rows, 2 columns and 5 nonzeros\n",
      "Model fingerprint: 0x2fecc6d6\n",
      "Variable types: 0 continuous, 2 integer (0 binary)\n",
      "Coefficient statistics:\n",
      "  Matrix range     [1e+00, 7e+00]\n",
      "  Objective range  [1e+00, 4e+00]\n",
      "  Bounds range     [0e+00, 0e+00]\n",
      "  RHS range        [3e+00, 1e+01]\n",
      "Found heuristic solution: objective 4.0000000\n",
      "Presolve removed 3 rows and 2 columns\n",
      "Presolve time: 0.00s\n",
      "Presolve: All rows and columns removed\n",
      "\n",
      "Explored 0 nodes (0 simplex iterations) in 0.01 seconds\n",
      "Thread count was 1 (of 4 available processors)\n",
      "\n",
      "Solution count 2: 7 \n",
      "\n",
      "Optimal solution found (tolerance 1.00e-04)\n",
      "Best objective 7.000000000000e+00, best bound 7.000000000000e+00, gap 0.0000%\n",
      "Valor ótimo: 7\n",
      "x1 = 2\n",
      "x2 = 1\n",
      "Otimização finalizou com status 2\n"
     ]
    }
   ],
   "source": [
    "# modelo\n",
    "mip = gb.Model(\"mip\")\n",
    "\n",
    "# variáveis\n",
    "x1 = mip.addVar(vtype=GRB.INTEGER, name=\"x1\")\n",
    "x2 = mip.addVar(vtype=GRB.INTEGER, name=\"x2\")\n",
    "\n",
    "# função objetivo\n",
    "mip.setObjective(4 * x1 - x2, GRB.MAXIMIZE)\n",
    "\n",
    "# restrições\n",
    "mip.addConstr(7 * x1 - 2 * x2 <= 14, name='restricao1')\n",
    "mip.addConstr(x2 <= 3, name='restricao2')\n",
    "mip.addConstr(2 * x1 - 2 * x2 <= 3, name='restricao3')\n",
    "\n",
    "# escrevendo .LP\n",
    "mip.write(\"mip.lp\")\n",
    "\n",
    "# configurando parametros\n",
    "mip.Params.timeLimit = 60\n",
    "mip.Params.MIPGap = 0.0001\n",
    "#mip.params.outputflag = 0 # desabilitando o log\n",
    "\n",
    "# resolvendo o problema\n",
    "mip.optimize()\n",
    "\n",
    "# imprimindo solução\n",
    "if mip.status == GRB.OPTIMAL:\n",
    "    print('Valor ótimo: %g' % mip.objVal)\n",
    "    for v in mip.getVars():\n",
    "        print('%s = %g' % (v.varName, v.x))\n",
    "    print('Otimização finalizou com status %d' % mip.status)\n",
    "elif mip.status == GRB.INFEASIBLE:\n",
    "    print('Modelo é inviável')\n",
    "elif mip.status == GRB.UNBOUNDED:\n",
    "    print('Modelo é ilimitado')\n",
    "else:\n",
    "    print('Otimização finalizou com status %d' % mip.status)"
   ]
  },
  {
   "cell_type": "markdown",
   "id": "407ae329",
   "metadata": {},
   "source": [
    "### Considere a relaxação linear do MIP, a qual denominamos por $S$. \n",
    "\n",
    "\\begin{align*}\n",
    "\\min \\ & 4 x_1 - x_2 \\\\\n",
    "& 7 x_1 - x_2 \\leq 14 \\\\\n",
    "& x_2 \\leq 3 \\\\\n",
    "& 2 x_1 - 2 x_2 \\leq 3 \\\\\n",
    "& x_1, x_2 \\in \\mathbb{R}_{+}\n",
    "\\end{align*}"
   ]
  },
  {
   "cell_type": "markdown",
   "id": "b1303e0d",
   "metadata": {},
   "source": [
    "## Crie uma lista $L$ e coloque $S$ nesta lista: $L = \\{ S \\}$."
   ]
  },
  {
   "cell_type": "markdown",
   "id": "8d17042a",
   "metadata": {},
   "source": [
    "## Retire $S$ de $L$ e resolva $S$."
   ]
  },
  {
   "cell_type": "code",
   "execution_count": 5,
   "id": "e0ae17dc",
   "metadata": {},
   "outputs": [
    {
     "name": "stdout",
     "output_type": "stream",
     "text": [
      "Changed value of parameter timeLimit to 60.0\n",
      "   Prev: inf  Min: 0.0  Max: inf  Default: inf\n",
      "Gurobi Optimizer version 9.0.2 build v9.0.2rc0 (linux64)\n",
      "Optimize a model with 3 rows, 2 columns and 5 nonzeros\n",
      "Model fingerprint: 0xa0c41c97\n",
      "Coefficient statistics:\n",
      "  Matrix range     [1e+00, 7e+00]\n",
      "  Objective range  [1e+00, 4e+00]\n",
      "  Bounds range     [0e+00, 0e+00]\n",
      "  RHS range        [3e+00, 1e+01]\n",
      "Presolve removed 1 rows and 0 columns\n",
      "Presolve time: 0.02s\n",
      "Presolved: 2 rows, 2 columns, 4 nonzeros\n",
      "\n",
      "Iteration    Objective       Primal Inf.    Dual Inf.      Time\n",
      "       0    8.4305000e+00   1.350000e-02   0.000000e+00      0s\n",
      "       1    8.4285714e+00   0.000000e+00   0.000000e+00      0s\n",
      "\n",
      "Solved in 1 iterations and 0.02 seconds\n",
      "Optimal objective  8.428571429e+00\n",
      "Valor ótimo: 8.4\n",
      "x1 = 2.9\n",
      "x2 = 3\n"
     ]
    }
   ],
   "source": [
    "# modelo\n",
    "S = gb.Model(\"S\")\n",
    "\n",
    "# variáveis\n",
    "x1 = S.addVar(name=\"x1\")\n",
    "x2 = S.addVar(name=\"x2\")\n",
    "\n",
    "# função objetivo\n",
    "S.setObjective(4 * x1 - x2, GRB.MAXIMIZE)\n",
    "\n",
    "# restrições\n",
    "S.addConstr(7 * x1 - 2 * x2 <= 14)\n",
    "S.addConstr(x2 <= 3)\n",
    "S.addConstr(2 * x1 - 2 * x2 <= 3)\n",
    "\n",
    "# configurando parametros\n",
    "S.Params.timeLimit = 60\n",
    "\n",
    "# resolvendo o modelo\n",
    "S.optimize()\n",
    "\n",
    "# imprimindo as solução\n",
    "if S.status == GRB.OPTIMAL:\n",
    "    print('Valor ótimo: %g' % np.round(S.objVal,1))\n",
    "    for v in S.getVars():\n",
    "        print('%s = %g' % (v.varName, np.round(v.x,1)))\n",
    "elif S.status == GRB.INF_OR_UNBD:\n",
    "    print('Modelo é inviável ou ilimitado')\n",
    "else:\n",
    "    print('Otimização finalizou com status %d' % S.status)"
   ]
  },
  {
   "cell_type": "markdown",
   "id": "8a086812",
   "metadata": {},
   "source": [
    "## A solução de $S$ é $\\overline{x} = (2.9, 3)$ com $\\overline{z} = 8.4$.\n",
    "\n",
    "## Defina $\\underline{z} = -\\infty$.\n",
    "\n",
    "## A variável $x_1$ não é inteira.\n",
    "\n",
    "## Crie dois novos problemas $S_1$ e $S_2$, onde $S_1 = S \\cup \\{ x_1 \\leq 2 \\}$ e \n",
    "$S_2 = S \\cup \\{ x_1 \\geq 3 \\}$.\n",
    "\n",
    "## Adicione $S_1$ e $S_2$ a lista de vértices ativos:\n",
    "$L = \\{ S_1, S_2 \\}$."
   ]
  },
  {
   "cell_type": "markdown",
   "id": "cc28275e",
   "metadata": {},
   "source": [
    "## Retire $S_1$ de $L$ e resolva $S_1$,  $L = \\{ S_2 \\}$."
   ]
  },
  {
   "cell_type": "code",
   "execution_count": 6,
   "id": "f4245f00",
   "metadata": {},
   "outputs": [
    {
     "name": "stdout",
     "output_type": "stream",
     "text": [
      "Gurobi Optimizer version 9.0.2 build v9.0.2rc0 (linux64)\n",
      "Optimize a model with 4 rows, 2 columns and 6 nonzeros\n",
      "Model fingerprint: 0xbfd26051\n",
      "Coefficient statistics:\n",
      "  Matrix range     [1e+00, 7e+00]\n",
      "  Objective range  [1e+00, 4e+00]\n",
      "  Bounds range     [0e+00, 0e+00]\n",
      "  RHS range        [2e+00, 1e+01]\n",
      "Presolve removed 3 rows and 0 columns\n",
      "Presolve time: 0.01s\n",
      "Presolved: 1 rows, 2 columns, 2 nonzeros\n",
      "\n",
      "Iteration    Objective       Primal Inf.    Dual Inf.      Time\n",
      "       0    7.5000000e+00   0.000000e+00   0.000000e+00      0s\n",
      "       0    7.5000000e+00   0.000000e+00   0.000000e+00      0s\n",
      "\n",
      "Solved in 0 iterations and 0.02 seconds\n",
      "Optimal objective  7.500000000e+00\n",
      "Valor ótimo: 7.5\n",
      "x1 = 2\n",
      "x2 = 0.5\n"
     ]
    }
   ],
   "source": [
    "# modelo\n",
    "S1 = gb.Model(\"S1\")\n",
    "\n",
    "# variáveis\n",
    "x1 = S1.addVar(name=\"x1\")\n",
    "x2 = S1.addVar(name=\"x2\")\n",
    "\n",
    "# função objetivo\n",
    "S1.setObjective(4 * x1 - x2, GRB.MAXIMIZE)\n",
    "\n",
    "# restrições\n",
    "S1.addConstr(7 * x1 - 2 * x2 <= 14)\n",
    "S1.addConstr(x2 <= 3)\n",
    "S1.addConstr(2 * x1 - 2 * x2 <= 3)\n",
    "S1.addConstr(x1 <= 2) # nova restrição\n",
    "\n",
    "# resolvendo o modelo\n",
    "S1.optimize()\n",
    "\n",
    "# imprimindo as solução\n",
    "if S1.status == GRB.OPTIMAL:\n",
    "    print('Valor ótimo: %g' % np.round(S1.objVal,1))\n",
    "    for v in S1.getVars():\n",
    "        print('%s = %g' % (v.varName, np.round(v.x,1)))\n",
    "elif S1.status == GRB.INF_OR_UNBD:\n",
    "    print('Modelo é inviável ou ilimitado')\n",
    "else:\n",
    "    print('Otimização finalizou com status %d' % S1.status)"
   ]
  },
  {
   "cell_type": "markdown",
   "id": "3a666834",
   "metadata": {},
   "source": [
    "## Ao resolve $S_{1}$ temos que $\\overline{x}^{1} = (2, 0.5)$ e $\\overline{z}^1 = 7.5$.\n",
    "\n",
    "## A variável $x_2 = 0.5$ não é inteira.\n",
    "\n",
    "## Crie dois novos problemas $S_{11}$ e $S_{12}$, onde \n",
    "$S_{11} = S_1 \\cup \\{ x_2 \\leq 0 \\}$ e \n",
    "$S_{12} = S_1 \\cup \\{ x_2 \\geq 1 \\}$.\n",
    "\n",
    "## Adicione $S_{11}$ e $S_{12}$ a lista de vértices ativos: \n",
    "$L = \\{ S_2, S_{11}, S_{12} \\}$"
   ]
  },
  {
   "cell_type": "markdown",
   "id": "1461c0b6",
   "metadata": {},
   "source": [
    "## Retire $S_2$ de $L$ para ser resolvido, $L = \\{ S_{11}, S_{12} \\}$ "
   ]
  },
  {
   "cell_type": "code",
   "execution_count": 7,
   "id": "96bb5de0",
   "metadata": {},
   "outputs": [
    {
     "name": "stdout",
     "output_type": "stream",
     "text": [
      "Gurobi Optimizer version 9.0.2 build v9.0.2rc0 (linux64)\n",
      "Optimize a model with 4 rows, 2 columns and 6 nonzeros\n",
      "Model fingerprint: 0xaf020f90\n",
      "Coefficient statistics:\n",
      "  Matrix range     [1e+00, 7e+00]\n",
      "  Objective range  [1e+00, 4e+00]\n",
      "  Bounds range     [0e+00, 0e+00]\n",
      "  RHS range        [3e+00, 1e+01]\n",
      "Presolve removed 2 rows and 0 columns\n",
      "Presolve time: 0.01s\n",
      "\n",
      "Solved in 0 iterations and 0.01 seconds\n",
      "Infeasible or unbounded model\n",
      "Modelo é inviável ou ilimitado\n"
     ]
    }
   ],
   "source": [
    "# modelo\n",
    "S2 = gb.Model(\"S2\")\n",
    "\n",
    "# variáveis\n",
    "x1 = S2.addVar(name=\"x1\")\n",
    "x2 = S2.addVar(name=\"x2\")\n",
    "\n",
    "# função objetivo\n",
    "S2.setObjective(4 * x1 - x2, GRB.MAXIMIZE)\n",
    "\n",
    "# restrições\n",
    "S2.addConstr(7 * x1 - 2 * x2 <= 14)\n",
    "S2.addConstr(x2 <= 3)\n",
    "S2.addConstr(2 * x1 - 2 * x2 <= 3)\n",
    "S2.addConstr(x1 >= 3)\n",
    "\n",
    "# resolvendo o modelo\n",
    "S2.optimize()\n",
    "\n",
    "# imprimindo as solução\n",
    "if S2.status == GRB.OPTIMAL:\n",
    "    print('Valor ótimo: %g' % S2.objVal)\n",
    "    for v in S2.getVars():\n",
    "        print('%s = %g' % (v.varName, v.x))\n",
    "elif S2.status == GRB.INF_OR_UNBD:\n",
    "    print('Modelo é inviável ou ilimitado')\n",
    "else:\n",
    "    print('Otimização finalizou com status %d' % S2.status)"
   ]
  },
  {
   "cell_type": "markdown",
   "id": "a583100c",
   "metadata": {},
   "source": [
    "## O problema $S_2$ é inviável ou ilimitado.\n",
    "\n",
    "## O ramo de $S_2$ é eliminado por inviabilidade ou por ser ilimitado."
   ]
  },
  {
   "cell_type": "markdown",
   "id": "47986c1d",
   "metadata": {},
   "source": [
    "## Retire $S_{12}$ de $L$ e resolva $S_{12}$, $L = \\{ S_{11} \\}$. "
   ]
  },
  {
   "cell_type": "code",
   "execution_count": 8,
   "id": "717ebeef",
   "metadata": {},
   "outputs": [
    {
     "name": "stdout",
     "output_type": "stream",
     "text": [
      "Gurobi Optimizer version 9.0.2 build v9.0.2rc0 (linux64)\n",
      "Optimize a model with 5 rows, 2 columns and 7 nonzeros\n",
      "Model fingerprint: 0xd7015d77\n",
      "Coefficient statistics:\n",
      "  Matrix range     [1e+00, 7e+00]\n",
      "  Objective range  [1e+00, 4e+00]\n",
      "  Bounds range     [0e+00, 0e+00]\n",
      "  RHS range        [1e+00, 1e+01]\n",
      "Presolve removed 5 rows and 2 columns\n",
      "Presolve time: 0.01s\n",
      "Presolve: All rows and columns removed\n",
      "Iteration    Objective       Primal Inf.    Dual Inf.      Time\n",
      "       0    7.0000000e+00   0.000000e+00   0.000000e+00      0s\n",
      "\n",
      "Solved in 0 iterations and 0.01 seconds\n",
      "Optimal objective  7.000000000e+00\n",
      "Valor ótimo: 7\n",
      "x1 = 2\n",
      "x2 = 1\n"
     ]
    }
   ],
   "source": [
    "# modelo\n",
    "S12 = gb.Model(\"S12\")\n",
    "\n",
    "# variáveis\n",
    "x1 = S12.addVar(name=\"x1\")\n",
    "x2 = S12.addVar(name=\"x2\")\n",
    "\n",
    "# função objetivo\n",
    "S12.setObjective(4 * x1 - x2, GRB.MAXIMIZE)\n",
    "\n",
    "# restrições\n",
    "S12.addConstr(7 * x1 - 2 * x2 <= 14)\n",
    "S12.addConstr(x2 <= 3)\n",
    "S12.addConstr(2 * x1 - 2 * x2 <= 3)\n",
    "S12.addConstr(x1 <= 2) # restrição adicionada em S_1\n",
    "S12.addConstr(x2 >= 1) # nova restrição adicionada\n",
    "\n",
    "# resolvendo\n",
    "S12.optimize()\n",
    "\n",
    "# imprimindo solução\n",
    "if S12.status == GRB.OPTIMAL:\n",
    "    print('Valor ótimo: %g' % S12.objVal)\n",
    "    for v in S12.getVars():\n",
    "        print('%s = %g' % (v.varName, v.x))\n",
    "elif S2.status == GRB.INF_OR_UNBD:\n",
    "    print('Modelo é inviável ou ilimitado')\n",
    "else:\n",
    "    print('Otimização finalizou com status %d' % S12.status)"
   ]
  },
  {
   "cell_type": "markdown",
   "id": "89aad7e5",
   "metadata": {},
   "source": [
    "## O problema $S_{12}$ possui solução inteira $\\overline{x}^{12} = (2,1)$ e \n",
    "$\\overline{z}^{12} = 7$.\n",
    "\n",
    "## Defina $\\underline{z} = 7$.\n",
    "\n",
    "## O vértice $S_{12}$ é eliminado por otimalidade, pois $\\overline{z}^{12} = \\underline{z}^{12} = 7$"
   ]
  },
  {
   "cell_type": "markdown",
   "id": "f9ae75d9",
   "metadata": {},
   "source": [
    "## Retire $S_{11}$ de $L$ e resolva $S_{11}$, $L = \\{ \\}$. "
   ]
  },
  {
   "cell_type": "code",
   "execution_count": 9,
   "id": "30d58c17",
   "metadata": {},
   "outputs": [
    {
     "name": "stdout",
     "output_type": "stream",
     "text": [
      "Gurobi Optimizer version 9.0.2 build v9.0.2rc0 (linux64)\n",
      "Optimize a model with 5 rows, 2 columns and 7 nonzeros\n",
      "Model fingerprint: 0x6c92db9c\n",
      "Coefficient statistics:\n",
      "  Matrix range     [1e+00, 7e+00]\n",
      "  Objective range  [1e+00, 4e+00]\n",
      "  Bounds range     [0e+00, 0e+00]\n",
      "  RHS range        [2e+00, 1e+01]\n",
      "Presolve removed 5 rows and 2 columns\n",
      "Presolve time: 0.01s\n",
      "Presolve: All rows and columns removed\n",
      "Iteration    Objective       Primal Inf.    Dual Inf.      Time\n",
      "       0    6.0000000e+00   0.000000e+00   0.000000e+00      0s\n",
      "\n",
      "Solved in 0 iterations and 0.01 seconds\n",
      "Optimal objective  6.000000000e+00\n",
      "Valor ótimo: 6\n",
      "x1 = 1.5\n",
      "x2 = 0\n"
     ]
    }
   ],
   "source": [
    "# modelo\n",
    "S11 = gb.Model(\"S11\")\n",
    "\n",
    "# variáveis\n",
    "x1 = S11.addVar(name=\"x1\")\n",
    "x2 = S11.addVar(name=\"x2\")\n",
    "\n",
    "# função objetivo\n",
    "S11.setObjective(4 * x1 - x2, GRB.MAXIMIZE)\n",
    "\n",
    "# restrições\n",
    "S11.addConstr(7 * x1 - 2 * x2 <= 14)\n",
    "S11.addConstr(x2 <= 3)\n",
    "S11.addConstr(2 * x1 - 2 * x2 <= 3)\n",
    "S11.addConstr(x1 <= 2) # restrição de S_{1}\n",
    "S11.addConstr(x2 <= 0) # nova restrição\n",
    "\n",
    "# resolvendo o modelo\n",
    "S11.optimize()\n",
    "\n",
    "# imprimindo as solução\n",
    "if S11.status == GRB.OPTIMAL:\n",
    "    print('Valor ótimo: %g' % S11.objVal)\n",
    "    for v in S11.getVars():\n",
    "        print('%s = %g' % (v.varName, v.x))\n",
    "elif S11.status == GRB.INF_OR_UNBD:\n",
    "    print('Modelo é inviável ou ilimitado')\n",
    "else:\n",
    "    print('Otimização finalizou com status %d' % S2.status)"
   ]
  },
  {
   "cell_type": "markdown",
   "id": "7938c803",
   "metadata": {},
   "source": [
    "## O problema $S_{11}$ possui valor ótimo, $\\overline{z}^{11} = 6$, menor que a melhor solução inteira encontrada até agora, $\\underline{z}=7$.\n",
    "\n",
    "## Elimine o ramo de $S_{11}$ por limite.\n",
    "\n",
    "## A lista $L$ está vazia, assim o problema foi resolvido.\n",
    "\n",
    "## Solução ótima do MIP: $z^{*} = 7$ e $x^{*} = (2,1)$."
   ]
  },
  {
   "cell_type": "code",
   "execution_count": null,
   "id": "ffe1ff5c",
   "metadata": {},
   "outputs": [],
   "source": []
  }
 ],
 "metadata": {
  "kernelspec": {
   "display_name": "Python 3 (ipykernel)",
   "language": "python",
   "name": "python3"
  },
  "language_info": {
   "codemirror_mode": {
    "name": "ipython",
    "version": 3
   },
   "file_extension": ".py",
   "mimetype": "text/x-python",
   "name": "python",
   "nbconvert_exporter": "python",
   "pygments_lexer": "ipython3",
   "version": "3.8.10"
  }
 },
 "nbformat": 4,
 "nbformat_minor": 5
}
