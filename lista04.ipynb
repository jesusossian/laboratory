{
 "cells": [
  {
   "cell_type": "code",
   "execution_count": 1,
   "metadata": {},
   "outputs": [],
   "source": [
    "# importando biblioteca\n",
    "import numpy as np\n",
    "import gurobipy as gp\n",
    "from gurobipy import GRB"
   ]
  },
  {
   "cell_type": "code",
   "execution_count": 3,
   "metadata": {},
   "outputs": [
    {
     "name": "stdout",
     "output_type": "stream",
     "text": [
      "Gurobi Optimizer version 9.1.2 build v9.1.2rc0 (linux64)\n",
      "Thread count: 4 physical cores, 8 logical processors, using up to 8 threads\n",
      "Optimize a model with 3 rows, 2 columns and 5 nonzeros\n",
      "Model fingerprint: 0xfc0bdad0\n",
      "Coefficient statistics:\n",
      "  Matrix range     [1e+00, 9e+00]\n",
      "  Objective range  [5e+00, 9e+00]\n",
      "  Bounds range     [0e+00, 0e+00]\n",
      "  RHS range        [1e+00, 4e+01]\n",
      "Presolve removed 1 rows and 0 columns\n",
      "Presolve time: 0.01s\n",
      "Presolved: 2 rows, 2 columns, 4 nonzeros\n",
      "\n",
      "Iteration    Objective       Primal Inf.    Dual Inf.      Time\n",
      "       0    7.8750000e+01   6.875000e-01   0.000000e+00      0s\n",
      "       1    6.0111111e+01   0.000000e+00   0.000000e+00      0s\n",
      "\n",
      "Solved in 1 iterations and 0.01 seconds\n",
      "Optimal objective  6.011111111e+01\n",
      "otimo:  60.11\n",
      "x1 6.0\n",
      "x2 1.22\n"
     ]
    }
   ],
   "source": [
    "# raiz\n",
    "\n",
    "# modelo\n",
    "m0 = gp.Model()\n",
    "\n",
    "# variáveis\n",
    "x1 = m0.addVar(name=\"x1\")\n",
    "x2 = m0.addVar(name=\"x2\")\n",
    "\n",
    "# restrições\n",
    "m0.addConstr(4*x1 + 9*x2 <= 35)\n",
    "m0.addConstr(x1 <= 6)\n",
    "m0.addConstr(-x1 + 3*x2 <= -1)\n",
    "#m0.addConstr(3*x1 - 3*x2 <= 19)\n",
    "\n",
    "# função objetivo\n",
    "m0.setObjective(9*x1 + 5*x2, GRB.MAXIMIZE)\n",
    "\n",
    "m0.write('lista05_ex2_raiz.lp')\n",
    "\n",
    "# resolvendo o problema\n",
    "m0.optimize()\n",
    "\n",
    "# valor ótimo\n",
    "print(\"otimo: \", np.round(m0.objval,2))\n",
    "\n",
    "# solução\n",
    "for v in m0.getVars():\n",
    "    print(v.varName, np.round(v.x,2))"
   ]
  },
  {
   "cell_type": "code",
   "execution_count": 4,
   "metadata": {},
   "outputs": [
    {
     "name": "stdout",
     "output_type": "stream",
     "text": [
      "Gurobi Optimizer version 9.1.2 build v9.1.2rc0 (linux64)\n",
      "Thread count: 4 physical cores, 8 logical processors, using up to 8 threads\n",
      "Optimize a model with 4 rows, 2 columns and 6 nonzeros\n",
      "Model fingerprint: 0x91df0026\n",
      "Coefficient statistics:\n",
      "  Matrix range     [1e+00, 9e+00]\n",
      "  Objective range  [5e+00, 9e+00]\n",
      "  Bounds range     [0e+00, 0e+00]\n",
      "  RHS range        [1e+00, 4e+01]\n",
      "Presolve removed 4 rows and 2 columns\n",
      "Presolve time: 0.00s\n",
      "Presolve: All rows and columns removed\n",
      "Iteration    Objective       Primal Inf.    Dual Inf.      Time\n",
      "       0    5.9000000e+01   0.000000e+00   0.000000e+00      0s\n",
      "\n",
      "Solved in 0 iterations and 0.01 seconds\n",
      "Optimal objective  5.900000000e+01\n",
      "otimo:  59.0\n",
      "x1 6.0\n",
      "x2 1.0\n"
     ]
    }
   ],
   "source": [
    "# x2 <= 1\n",
    "\n",
    "# modelo\n",
    "m1 = gp.Model()\n",
    "\n",
    "# variáveis\n",
    "x1 = m1.addVar(name=\"x1\")\n",
    "x2 = m1.addVar(name=\"x2\")\n",
    "\n",
    "# restrições\n",
    "m1.addConstr(4*x1 + 9*x2 <= 35)\n",
    "m1.addConstr(x1 <= 6)\n",
    "m1.addConstr(-x1 + 3*x2 <= -1)\n",
    "#m1.addConstr(3*x1 - 3*x2 <= 19)\n",
    "m1.addConstr(x2 <= 1)\n",
    "\n",
    "# função objetivo\n",
    "m1.setObjective(9*x1 + 5*x2, GRB.MAXIMIZE)\n",
    "\n",
    "m1.write('lista05_ex2_node1.lp')\n",
    "\n",
    "# resolvendo o problema\n",
    "m1.optimize()\n",
    "\n",
    "# valor ótimo\n",
    "print(\"otimo: \", np.round(m1.objval,2))\n",
    "\n",
    "# solução\n",
    "for v in m1.getVars():\n",
    "    print(v.varName, np.round(v.x,2))"
   ]
  },
  {
   "cell_type": "code",
   "execution_count": 5,
   "metadata": {},
   "outputs": [
    {
     "name": "stdout",
     "output_type": "stream",
     "text": [
      "Gurobi Optimizer version 9.1.2 build v9.1.2rc0 (linux64)\n",
      "Thread count: 4 physical cores, 8 logical processors, using up to 8 threads\n",
      "Optimize a model with 4 rows, 2 columns and 6 nonzeros\n",
      "Model fingerprint: 0x09ba02c2\n",
      "Coefficient statistics:\n",
      "  Matrix range     [1e+00, 9e+00]\n",
      "  Objective range  [5e+00, 9e+00]\n",
      "  Bounds range     [0e+00, 0e+00]\n",
      "  RHS range        [1e+00, 4e+01]\n",
      "Presolve removed 2 rows and 0 columns\n",
      "Presolve time: 0.00s\n",
      "\n",
      "Solved in 0 iterations and 0.00 seconds\n",
      "Infeasible or unbounded model\n"
     ]
    }
   ],
   "source": [
    "# x2 >= 2\n",
    "\n",
    "# modelo\n",
    "m2 = gp.Model()\n",
    "\n",
    "# variáveis\n",
    "x1 = m2.addVar(name=\"x1\")\n",
    "x2 = m2.addVar(name=\"x2\")\n",
    "\n",
    "# restrições\n",
    "m2.addConstr(4*x1 + 9*x2 <= 35)\n",
    "m2.addConstr(x1 <= 6)\n",
    "m2.addConstr(-x1 + 3*x2 <= -1)\n",
    "#m2.addConstr(3*x1 - 3*x2 <= 19)\n",
    "m2.addConstr(-x2 <= -2)\n",
    "\n",
    "# função objetivo\n",
    "m2.setObjective(9*x1 + 5*x2, GRB.MAXIMIZE)\n",
    "\n",
    "m2.write('lista05_ex2_node2.lp')\n",
    "\n",
    "# resolvendo o problema\n",
    "m2.optimize()\n",
    "\n",
    "# valor ótimo\n",
    "#print(\"otimo: \", np.round(m2.objval,2))\n",
    "\n",
    "# solução\n",
    "#for v in m2.getVars():\n",
    "#    print(v.varName, np.round(v.x,2))"
   ]
  },
  {
   "cell_type": "code",
   "execution_count": 6,
   "metadata": {},
   "outputs": [
    {
     "name": "stdout",
     "output_type": "stream",
     "text": [
      "Gurobi Optimizer version 9.1.2 build v9.1.2rc0 (linux64)\n",
      "Thread count: 4 physical cores, 8 logical processors, using up to 8 threads\n",
      "Optimize a model with 3 rows, 2 columns and 5 nonzeros\n",
      "Model fingerprint: 0xfc0bdad0\n",
      "Coefficient statistics:\n",
      "  Matrix range     [1e+00, 9e+00]\n",
      "  Objective range  [5e+00, 9e+00]\n",
      "  Bounds range     [0e+00, 0e+00]\n",
      "  RHS range        [1e+00, 4e+01]\n",
      "Presolve removed 1 rows and 0 columns\n",
      "Presolve time: 0.00s\n",
      "Presolved: 2 rows, 2 columns, 4 nonzeros\n",
      "\n",
      "Iteration    Objective       Primal Inf.    Dual Inf.      Time\n",
      "       0    7.8750000e+01   6.875000e-01   0.000000e+00      0s\n",
      "       1    6.0111111e+01   0.000000e+00   0.000000e+00      0s\n",
      "\n",
      "Solved in 1 iterations and 0.01 seconds\n",
      "Optimal objective  6.011111111e+01\n",
      "otimo:  60.11\n",
      "x1 6.0\n",
      "x2 1.22\n"
     ]
    }
   ],
   "source": [
    "# raiz\n",
    "\n",
    "# modelo\n",
    "m = gp.Model()\n",
    "\n",
    "# variáveis\n",
    "x1 = m.addVar(name=\"x1\")\n",
    "x2 = m.addVar(name=\"x2\")\n",
    "\n",
    "# restrições\n",
    "m.addConstr(4*x1 + 9*x2 <= 35)\n",
    "m.addConstr(x1 <= 6)\n",
    "m.addConstr(-x1 + 3*x2 <= -1)\n",
    "\n",
    "# função objetivo\n",
    "m.setObjective(9*x1 + 5*x2, GRB.MAXIMIZE)\n",
    "\n",
    "m.write('lista05_ex2.lp')\n",
    "\n",
    "# resolvendo o problema\n",
    "m.optimize()\n",
    "\n",
    "# valor ótimo\n",
    "print(\"otimo: \", np.round(m.objval,2))\n",
    "\n",
    "# solução\n",
    "for v in m.getVars():\n",
    "    print(v.varName, np.round(v.x,2))"
   ]
  },
  {
   "cell_type": "code",
   "execution_count": null,
   "metadata": {},
   "outputs": [],
   "source": []
  },
  {
   "cell_type": "code",
   "execution_count": 7,
   "metadata": {},
   "outputs": [],
   "source": [
    "a1 = np.array([4,1,-1])\n",
    "a2 = np.array([9,0,3])\n",
    "a3 = np.array([1,0,0])\n",
    "a4 = np.array([0,1,0])\n",
    "a5 = np.array([0,0,1])\n",
    "\n",
    "b = np.array([35,6,-1])\n",
    "\n",
    "c1 = 9\n",
    "c2 = 5\n",
    "c3 = 0\n",
    "c4 = 0\n",
    "c5 = 0"
   ]
  },
  {
   "cell_type": "code",
   "execution_count": 8,
   "metadata": {},
   "outputs": [],
   "source": [
    "# base\n",
    "aB1 = a1\n",
    "aB2 = a2\n",
    "aB3 = a3\n",
    "\n",
    "cB1 = c1\n",
    "cB2 = c2\n",
    "cB3 = c3\n",
    "\n",
    "# não base\n",
    "aN1 = a4\n",
    "aN2 = a5\n",
    "\n",
    "cN1 = c4\n",
    "cN2 = c5"
   ]
  },
  {
   "cell_type": "code",
   "execution_count": 9,
   "metadata": {},
   "outputs": [
    {
     "name": "stdout",
     "output_type": "stream",
     "text": [
      "B =  [[ 4  9  1]\n",
      " [ 1  0  0]\n",
      " [-1  3  0]]\n",
      "cB =  [9 5 0]\n"
     ]
    }
   ],
   "source": [
    "B = np.array([aB1,aB2,aB3])\n",
    "\n",
    "N = np.array([aN1,aN2])\n",
    "\n",
    "B = B.T\n",
    "N = N.T\n",
    "\n",
    "print(\"B = \", B)\n",
    "\n",
    "cB = np.array([cB1,cB2,cB3])\n",
    "print(\"cB = \", cB)"
   ]
  },
  {
   "cell_type": "code",
   "execution_count": 10,
   "metadata": {},
   "outputs": [
    {
     "name": "stdout",
     "output_type": "stream",
     "text": [
      "detB =  3.0\n",
      "iB =  [[ 0.     1.     0.   ]\n",
      " [ 0.     0.333  0.333]\n",
      " [ 1.    -7.    -3.   ]]\n"
     ]
    }
   ],
   "source": [
    "# inversa de B\n",
    "\n",
    "detB = np.linalg.det(B)\n",
    "print(\"detB = \", np.round(detB,3))\n",
    "\n",
    "if (detB != 0):\n",
    "    iB = np.linalg.inv(B)\n",
    "    print(\"iB = \", np.round(iB,3))\n",
    "else:\n",
    "    print(\"B não possui inversa!\")"
   ]
  },
  {
   "cell_type": "code",
   "execution_count": 11,
   "metadata": {},
   "outputs": [
    {
     "name": "stdout",
     "output_type": "stream",
     "text": [
      "xB =  [ 6.    1.67 -4.  ]\n",
      "B não é primal viável!\n",
      "z =  62.33\n"
     ]
    }
   ],
   "source": [
    "# solução\n",
    "# verificar se B é primal viável\n",
    "\n",
    "xB = iB.dot(b.T)\n",
    "print(\"xB = \", np.round(xB,2))\n",
    "\n",
    "temp = 0\n",
    "for x in xB:\n",
    "    if x < 0:\n",
    "        temp += 1\n",
    "        print(\"B não é primal viável!\")\n",
    "        break\n",
    "\n",
    "if temp == 0:\n",
    "    print(\"B é primal viável\")\n",
    "\n",
    "z = cB.dot(xB)\n",
    "print(\"z = \", np.round(z,2))"
   ]
  },
  {
   "cell_type": "code",
   "execution_count": 13,
   "metadata": {},
   "outputs": [
    {
     "name": "stdout",
     "output_type": "stream",
     "text": [
      "mu =  [ 0.   10.67  1.67]\n",
      "crN1 =  10.67\n",
      "crN2 =  1.67\n",
      "B é dual viável\n"
     ]
    }
   ],
   "source": [
    "# custos reduzidos\n",
    "\n",
    "mu = cB.dot(iB)\n",
    "print(\"mu = \", np.round(mu,2))\n",
    "\n",
    "crN1 = mu.dot(aN1.T) - cN1 \n",
    "print(\"crN1 = \", np.round(crN1,2))\n",
    "\n",
    "crN2 = mu.dot(aN2.T) - cN2 \n",
    "print(\"crN2 = \", np.round(crN2,2))\n",
    "\n",
    "if (crN1 >= 0 and crN2 >= 0):\n",
    "    print(\"B é dual viável\")\n",
    "else:\n",
    "    print(\"B não é dual viável\")"
   ]
  },
  {
   "cell_type": "code",
   "execution_count": 16,
   "metadata": {},
   "outputs": [
    {
     "name": "stdout",
     "output_type": "stream",
     "text": [
      "Y =  [[ 1.    0.  ]\n",
      " [ 0.33  0.33]\n",
      " [-7.   -3.  ]]\n",
      "\n",
      "yB =  [-7. -3.]\n"
     ]
    }
   ],
   "source": [
    "# escolha do item a entrar na base\n",
    "\n",
    "# Y = B^{-1} N\n",
    "\n",
    "Y = iB.dot(N)\n",
    "print(\"Y = \", np.round(Y,2))\n",
    "print('')\n",
    "\n",
    "yB = iB[2].dot(N)\n",
    "print(\"yB = \", yB)"
   ]
  },
  {
   "cell_type": "code",
   "execution_count": 17,
   "metadata": {},
   "outputs": [
    {
     "name": "stdout",
     "output_type": "stream",
     "text": [
      "-1.52\n",
      "-0.56\n",
      "-0.56\n"
     ]
    }
   ],
   "source": [
    "#l =  max_{j \\in J} {(z_j - c_j)/y_{kj} : y_{kj} < 0}\n",
    "# onde k é o indice da coluna que sairá da base e l é o indice coluna que entrará na base \n",
    "\n",
    "v1 = crN1/yB[0]\n",
    "v2 = crN2/yB[1]\n",
    "print(np.round(v1,2))\n",
    "print(np.round(v2,2))\n",
    "\n",
    "v = max(v1,v2)\n",
    "print(np.round(v,2))\n",
    "\n",
    "# a coluna a5 entrará na base na próxima iteração\n",
    "# a coluna a3 sairá na base na próxima iteração"
   ]
  },
  {
   "cell_type": "code",
   "execution_count": 18,
   "metadata": {},
   "outputs": [],
   "source": [
    "# base\n",
    "aB1 = a1\n",
    "aB2 = a2\n",
    "aB3 = a5\n",
    "\n",
    "cB1 = c1\n",
    "cB2 = c2\n",
    "cB3 = c5\n",
    "\n",
    "# não base\n",
    "aN1 = a4\n",
    "aN2 = a3\n",
    "\n",
    "cN1 = c4\n",
    "cN2 = c3"
   ]
  },
  {
   "cell_type": "code",
   "execution_count": 20,
   "metadata": {},
   "outputs": [
    {
     "name": "stdout",
     "output_type": "stream",
     "text": [
      "B =  [[ 4  9  0]\n",
      " [ 1  0  0]\n",
      " [-1  3  1]]\n",
      "\n",
      "cB =  [9 5 0]\n"
     ]
    }
   ],
   "source": [
    "B = np.array([aB1,aB2,aB3])\n",
    "\n",
    "N = np.array([aN1,aN2])\n",
    "\n",
    "B = B.T\n",
    "N = N.T\n",
    "\n",
    "print(\"B = \", B)\n",
    "print('')\n",
    "\n",
    "cB = np.array([cB1,cB2,cB3])\n",
    "print(\"cB = \", cB)"
   ]
  },
  {
   "cell_type": "code",
   "execution_count": 21,
   "metadata": {},
   "outputs": [
    {
     "name": "stdout",
     "output_type": "stream",
     "text": [
      "detB =  -9.0\n",
      "iB =  [[ 0.     1.     0.   ]\n",
      " [ 0.111 -0.444  0.   ]\n",
      " [-0.333  2.333  1.   ]]\n"
     ]
    }
   ],
   "source": [
    "# inversa de B\n",
    "\n",
    "detB = np.linalg.det(B)\n",
    "print(\"detB = \", np.round(detB,3))\n",
    "\n",
    "if (detB != 0):\n",
    "    iB = np.linalg.inv(B)\n",
    "    print(\"iB = \", np.round(iB,3))\n",
    "else:\n",
    "    print(\"B não possui inversa!\")"
   ]
  },
  {
   "cell_type": "code",
   "execution_count": null,
   "metadata": {},
   "outputs": [],
   "source": []
  },
  {
   "cell_type": "code",
   "execution_count": 22,
   "metadata": {},
   "outputs": [
    {
     "name": "stdout",
     "output_type": "stream",
     "text": [
      "xB =  [6.   1.22 1.33]\n",
      "B é primal viável\n",
      "z =  60.11\n"
     ]
    }
   ],
   "source": [
    "# solução\n",
    "# verificar se B é primal viável\n",
    "\n",
    "xB = iB.dot(b.T)\n",
    "print(\"xB = \", np.round(xB,2))\n",
    "\n",
    "temp = 0\n",
    "for x in xB:\n",
    "    if x < 0:\n",
    "        temp += 1\n",
    "        print(\"B não é primal viável!\")\n",
    "        break\n",
    "\n",
    "if temp == 0:\n",
    "    print(\"B é primal viável\")\n",
    "\n",
    "z = cB.dot(xB)\n",
    "print(\"z = \", np.round(z,2))"
   ]
  },
  {
   "cell_type": "code",
   "execution_count": 23,
   "metadata": {},
   "outputs": [
    {
     "name": "stdout",
     "output_type": "stream",
     "text": [
      "mu =  [0.56 6.78 0.  ]\n",
      "crN1 =  6.78\n",
      "crN2 =  0.56\n",
      "B é dual viável\n"
     ]
    }
   ],
   "source": [
    "# custos reduzidos\n",
    "\n",
    "mu = cB.dot(iB)\n",
    "print(\"mu = \", np.round(mu,2))\n",
    "\n",
    "crN1 = mu.dot(aN1.T) - cN1 \n",
    "print(\"crN1 = \", np.round(crN1,2))\n",
    "\n",
    "crN2 = mu.dot(aN2.T) - cN2 \n",
    "print(\"crN2 = \", np.round(crN2,2))\n",
    "\n",
    "if (crN1 >= 0 and crN2 >= 0):\n",
    "    print(\"B é dual viável\")\n",
    "else:\n",
    "    print(\"B não é dual viável\")"
   ]
  },
  {
   "cell_type": "markdown",
   "metadata": {},
   "source": [
    "# logo B é ótima"
   ]
  },
  {
   "cell_type": "markdown",
   "metadata": {},
   "source": [
    "$x_2$ é fracionária, assim criaremos dois novos problemas:\n",
    "\n",
    "- node1\n",
    "\n",
    "\\begin{align*}\n",
    "\\max \\ & 9 x_1 + 5 x_2 \\\\\n",
    "& 4 x_1 + 9 x_2 \\leq 9 \\\\\n",
    "& x_1 \\leq 6 \\\\\n",
    "& - x_1 + 3 x_2 \\leq -1 \\\\\n",
    "& x_2 \\leq 1 \\\\\n",
    "& x_j \\geq 0, \\ j = 1, \\ldots, 5.\n",
    "\\end{align*}\n",
    "\n",
    "- node2\n",
    "\n",
    "\\begin{align*}\n",
    "\\max \\ & 9 x_1 + 5 x_2 \\\\\n",
    "& 4 x_1 + 9 x_2 \\leq 9 \\\\\n",
    "& x_1 \\leq 6 \\\\\n",
    "& - x_1 + 3 x_2 \\leq -1 \\\\\n",
    "& x_2 \\geq 2 \\\\\n",
    "& x_j \\geq 0, \\ j = 1, \\ldots, 5.\n",
    "\\end{align*}"
   ]
  },
  {
   "cell_type": "markdown",
   "metadata": {},
   "source": [
    "# Resolvendo node1"
   ]
  },
  {
   "cell_type": "code",
   "execution_count": 24,
   "metadata": {},
   "outputs": [],
   "source": [
    "a1 = np.array([4,1,-1,0])\n",
    "a2 = np.array([9,0,3,1])\n",
    "a3 = np.array([1,0,0,0])\n",
    "a4 = np.array([0,1,0,0])\n",
    "a5 = np.array([0,0,1,0])\n",
    "a6 = np.array([0,0,0,1])\n",
    "\n",
    "b = np.array([35,6,-1,1])\n",
    "\n",
    "c1 = 9\n",
    "c2 = 5\n",
    "c3 = 0\n",
    "c4 = 0\n",
    "c5 = 0\n",
    "c6 = 0"
   ]
  },
  {
   "cell_type": "code",
   "execution_count": 25,
   "metadata": {},
   "outputs": [],
   "source": [
    "# base\n",
    "aB1 = a1\n",
    "aB2 = a2\n",
    "aB3 = a5\n",
    "aB4 = a6\n",
    "\n",
    "cB1 = c1\n",
    "cB2 = c2\n",
    "cB3 = c5\n",
    "cB4 = c6\n",
    "\n",
    "# não base\n",
    "aN1 = a4\n",
    "aN2 = a3\n",
    "\n",
    "cN1 = c4\n",
    "cN2 = c3"
   ]
  },
  {
   "cell_type": "code",
   "execution_count": 26,
   "metadata": {},
   "outputs": [
    {
     "name": "stdout",
     "output_type": "stream",
     "text": [
      "B =  [[ 4  9  0  0]\n",
      " [ 1  0  0  0]\n",
      " [-1  3  1  0]\n",
      " [ 0  1  0  1]]\n",
      "cB =  [9 5 0 0]\n"
     ]
    }
   ],
   "source": [
    "B = np.array([aB1,aB2,aB3,aB4])\n",
    "\n",
    "N = np.array([aN1,aN2])\n",
    "\n",
    "B = B.T\n",
    "N = N.T\n",
    "\n",
    "print(\"B = \", B)\n",
    "\n",
    "cB = np.array([cB1,cB2,cB3,cB4])\n",
    "print(\"cB = \", cB)"
   ]
  },
  {
   "cell_type": "code",
   "execution_count": 27,
   "metadata": {},
   "outputs": [
    {
     "name": "stdout",
     "output_type": "stream",
     "text": [
      "detB =  -9.0\n",
      "iB =  [[ 0.     1.     0.     0.   ]\n",
      " [ 0.111 -0.444  0.     0.   ]\n",
      " [-0.333  2.333  1.     0.   ]\n",
      " [-0.111  0.444  0.     1.   ]]\n"
     ]
    }
   ],
   "source": [
    "# inversa de B\n",
    "\n",
    "detB = np.linalg.det(B)\n",
    "print(\"detB = \", np.round(detB,3))\n",
    "\n",
    "if (detB != 0):\n",
    "    iB = np.linalg.inv(B)\n",
    "    print(\"iB = \", np.round(iB,3))\n",
    "else:\n",
    "    print(\"B não possui inversa!\")"
   ]
  },
  {
   "cell_type": "code",
   "execution_count": 28,
   "metadata": {},
   "outputs": [
    {
     "name": "stdout",
     "output_type": "stream",
     "text": [
      "xB =  [ 6.    1.22  1.33 -0.22]\n",
      "B não é primal viável!\n",
      "z =  60.11\n"
     ]
    }
   ],
   "source": [
    "# solução\n",
    "\n",
    "xB = iB.dot(b.T)\n",
    "print(\"xB = \", np.round(xB,2))\n",
    "\n",
    "temp = 0\n",
    "for x in xB:\n",
    "    if x < 0:\n",
    "        temp += 1\n",
    "        print(\"B não é primal viável!\")\n",
    "        break\n",
    "\n",
    "if temp == 0:\n",
    "    print(\"B é primal viável\")\n",
    "\n",
    "z = cB.dot(xB)\n",
    "print(\"z = \", np.round(z,2))"
   ]
  },
  {
   "cell_type": "code",
   "execution_count": 29,
   "metadata": {},
   "outputs": [
    {
     "name": "stdout",
     "output_type": "stream",
     "text": [
      "mu =  [0.56 6.78 0.   0.  ]\n",
      "crN1 =  6.78\n",
      "crN2 =  0.56\n",
      "B é dual viável\n"
     ]
    }
   ],
   "source": [
    "# custos reduzidos\n",
    "\n",
    "mu = cB.dot(iB)\n",
    "print(\"mu = \", np.round(mu,2))\n",
    "\n",
    "crN1 = mu.dot(aN1.T) - cN1 \n",
    "print(\"crN1 = \", np.round(crN1,2))\n",
    "\n",
    "crN2 = mu.dot(aN2.T) - cN2 \n",
    "print(\"crN2 = \", np.round(crN2,2))\n",
    "\n",
    "if (crN1 >= 0 and crN2 >= 0):\n",
    "    print(\"B é dual viável\")\n",
    "else:\n",
    "    print(\"B não é dual viável\")"
   ]
  },
  {
   "cell_type": "code",
   "execution_count": 31,
   "metadata": {},
   "outputs": [
    {
     "name": "stdout",
     "output_type": "stream",
     "text": [
      "Y =  [[ 1.00000000e+00  4.51028104e-17]\n",
      " [-4.44444444e-01  1.11111111e-01]\n",
      " [ 2.33333333e+00 -3.33333333e-01]\n",
      " [ 4.44444444e-01 -1.11111111e-01]]\n",
      "\n",
      "yB =  [ 0.44444444 -0.11111111]\n"
     ]
    }
   ],
   "source": [
    "# escolha do item a entrar na base\n",
    "\n",
    "# Y = B^{-1} N\n",
    "\n",
    "Y = iB.dot(N)\n",
    "print(\"Y = \", Y)\n",
    "print('')\n",
    "\n",
    "yB = iB[3].dot(N)\n",
    "print(\"yB = \", yB)"
   ]
  },
  {
   "cell_type": "code",
   "execution_count": 32,
   "metadata": {},
   "outputs": [
    {
     "name": "stdout",
     "output_type": "stream",
     "text": [
      "-5.0\n",
      "-1.52\n"
     ]
    }
   ],
   "source": [
    "#l =  max_{j \\in J} {(z_j - c_j)/y_{kj} : y_{kj} < 0}\n",
    "# onde k é o indice da coluna que sairá da base e l é o indice coluna que entrará na base \n",
    "\n",
    "#if (yB[0] < 0):\n",
    "#    v1 = crN1/yB[0]\n",
    "#    print(np.round(v1,2))\n",
    "    \n",
    "#if (yB[1] < 0):\n",
    "#    v2 = crN2/yB[1]\n",
    "#    print(np.round(v2,2))\n",
    "\n",
    "\n",
    "#v = max(v1,v2)\n",
    "#print(np.round(v,2))\n",
    "\n",
    "# a coluna a3 entrará na base na próxima iteração\n",
    "# a coluna a6 sairá na base na próxima iteração"
   ]
  },
  {
   "cell_type": "code",
   "execution_count": 33,
   "metadata": {},
   "outputs": [],
   "source": [
    "# base\n",
    "aB1 = a1\n",
    "aB2 = a2\n",
    "aB3 = a5\n",
    "aB4 = a3\n",
    "\n",
    "cB1 = c1\n",
    "cB2 = c2\n",
    "cB3 = c5\n",
    "cB4 = c3\n",
    "\n",
    "# não base\n",
    "aN1 = a4\n",
    "aN2 = a6\n",
    "\n",
    "cN1 = c4\n",
    "cN2 = c6"
   ]
  },
  {
   "cell_type": "code",
   "execution_count": 34,
   "metadata": {},
   "outputs": [
    {
     "name": "stdout",
     "output_type": "stream",
     "text": [
      "B =  [[ 4  9  0  1]\n",
      " [ 1  0  0  0]\n",
      " [-1  3  1  0]\n",
      " [ 0  1  0  0]]\n",
      "cB =  [9 5 0 0]\n"
     ]
    }
   ],
   "source": [
    "B = np.array([aB1,aB2,aB3,aB4])\n",
    "\n",
    "N = np.array([aN1,aN2])\n",
    "\n",
    "B = B.T\n",
    "N = N.T\n",
    "\n",
    "print(\"B = \", B)\n",
    "\n",
    "cB = np.array([cB1,cB2,cB3,cB4])\n",
    "print(\"cB = \", cB)"
   ]
  },
  {
   "cell_type": "code",
   "execution_count": 35,
   "metadata": {},
   "outputs": [
    {
     "name": "stdout",
     "output_type": "stream",
     "text": [
      "detB =  1.0\n",
      "iB =  [[ 0.  1.  0.  0.]\n",
      " [ 0. -0.  0.  1.]\n",
      " [ 0.  1.  1. -3.]\n",
      " [ 1. -4. -0. -9.]]\n"
     ]
    }
   ],
   "source": [
    "# inversa de B\n",
    "\n",
    "detB = np.linalg.det(B)\n",
    "print(\"detB = \", np.round(detB,3))\n",
    "\n",
    "if (detB != 0):\n",
    "    iB = np.linalg.inv(B)\n",
    "    print(\"iB = \", np.round(iB,3))\n",
    "else:\n",
    "    print(\"B não possui inversa!\")"
   ]
  },
  {
   "cell_type": "code",
   "execution_count": 36,
   "metadata": {},
   "outputs": [
    {
     "name": "stdout",
     "output_type": "stream",
     "text": [
      "xB =  [6. 1. 2. 2.]\n",
      "B é primal viável\n",
      "z =  59.0\n"
     ]
    }
   ],
   "source": [
    "# solução\n",
    "\n",
    "xB = iB.dot(b.T)\n",
    "print(\"xB = \", np.round(xB,2))\n",
    "\n",
    "temp = 0\n",
    "for x in xB:\n",
    "    if x < 0:\n",
    "        temp += 1\n",
    "        print(\"B não é primal viável!\")\n",
    "        break\n",
    "\n",
    "if temp == 0:\n",
    "    print(\"B é primal viável\")\n",
    "\n",
    "z = cB.dot(xB)\n",
    "print(\"z = \", np.round(z,2))"
   ]
  },
  {
   "cell_type": "code",
   "execution_count": 37,
   "metadata": {},
   "outputs": [
    {
     "name": "stdout",
     "output_type": "stream",
     "text": [
      "mu =  [0. 9. 0. 5.]\n",
      "crN1 =  9.0\n",
      "crN2 =  5.0\n",
      "B é dual viável\n"
     ]
    }
   ],
   "source": [
    "# custos reduzidos\n",
    "\n",
    "mu = cB.dot(iB)\n",
    "print(\"mu = \", np.round(mu,2))\n",
    "\n",
    "crN1 = mu.dot(aN1.T) - cN1 \n",
    "print(\"crN1 = \", np.round(crN1,2))\n",
    "\n",
    "crN2 = mu.dot(aN2.T) - cN2 \n",
    "print(\"crN2 = \", np.round(crN2,2))\n",
    "\n",
    "if (crN1 > 0 and crN2 > 0):\n",
    "    print(\"B é dual viável\")\n",
    "else:\n",
    "    print(\"B não é dual viável\")"
   ]
  },
  {
   "cell_type": "markdown",
   "metadata": {},
   "source": [
    "# logo B é dual viável"
   ]
  },
  {
   "cell_type": "code",
   "execution_count": null,
   "metadata": {},
   "outputs": [],
   "source": []
  }
 ],
 "metadata": {
  "kernelspec": {
   "display_name": "Python 3 (ipykernel)",
   "language": "python",
   "name": "python3"
  },
  "language_info": {
   "codemirror_mode": {
    "name": "ipython",
    "version": 3
   },
   "file_extension": ".py",
   "mimetype": "text/x-python",
   "name": "python",
   "nbconvert_exporter": "python",
   "pygments_lexer": "ipython3",
   "version": "3.8.10"
  }
 },
 "nbformat": 4,
 "nbformat_minor": 2
}
