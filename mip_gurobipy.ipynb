{
 "cells": [
  {
   "cell_type": "code",
   "execution_count": 1,
   "id": "b07dfe70",
   "metadata": {},
   "outputs": [],
   "source": [
    "# importando as bibliotecas\n",
    "import gurobipy as gp\n",
    "from gurobipy import GRB"
   ]
  },
  {
   "cell_type": "markdown",
   "id": "3a3809fd",
   "metadata": {},
   "source": [
    "## Um simples exemplo"
   ]
  },
  {
   "cell_type": "code",
   "execution_count": null,
   "id": "192852c7",
   "metadata": {},
   "outputs": [],
   "source": [
    "# criando o modelo\n",
    "binario = gp.Model()"
   ]
  },
  {
   "cell_type": "code",
   "execution_count": null,
   "id": "f6e4564e",
   "metadata": {},
   "outputs": [],
   "source": [
    "# adicionando as variaveis\n",
    "x = binario.addVar(vtype = GRB.BINARY, name = \"x\")\n",
    "y = binario.addVar(vtype = GRB.BINARY, name = \"y\")\n",
    "z = binario.addVar(vtype = GRB.BINARY, name = \"z\")"
   ]
  },
  {
   "cell_type": "code",
   "execution_count": null,
   "id": "e823940b",
   "metadata": {},
   "outputs": [],
   "source": [
    "# definindo a funcao objetivo\n",
    "binario.setObjective(x + y + 2*z, GRB.MAXIMIZE)"
   ]
  },
  {
   "cell_type": "code",
   "execution_count": null,
   "id": "74327059",
   "metadata": {},
   "outputs": [],
   "source": [
    "# adicionando as restrições\n",
    "rest1 = binario.addConstr(x + 2*y + 3*z <= 4)\n",
    "rest2 = binario.addConstr(x + y >= 1)"
   ]
  },
  {
   "cell_type": "code",
   "execution_count": null,
   "id": "cb6e80e3",
   "metadata": {},
   "outputs": [],
   "source": [
    "# exportando o modelo\n",
    "binario.write(\"binario.lp\")"
   ]
  },
  {
   "cell_type": "code",
   "execution_count": null,
   "id": "77bafca8",
   "metadata": {},
   "outputs": [],
   "source": [
    "# resolvendo o modelo\n",
    "binario.optimize()"
   ]
  },
  {
   "cell_type": "code",
   "execution_count": null,
   "id": "b6d09f74",
   "metadata": {},
   "outputs": [],
   "source": [
    "# imprimindo solução\n",
    "for i in binario.getVars():\n",
    "    print(i.varName,'=', i.x)"
   ]
  },
  {
   "cell_type": "code",
   "execution_count": null,
   "id": "d6bf9ef7",
   "metadata": {},
   "outputs": [],
   "source": [
    "# imprimindo valor ótimo\n",
    "print(\"Valor maximo = \", binario.objVal)"
   ]
  },
  {
   "cell_type": "code",
   "execution_count": null,
   "id": "eb21e557",
   "metadata": {},
   "outputs": [],
   "source": []
  },
  {
   "cell_type": "markdown",
   "id": "1d98eaf8",
   "metadata": {},
   "source": [
    "## Problema da dieta"
   ]
  },
  {
   "cell_type": "code",
   "execution_count": null,
   "id": "dfca25b6",
   "metadata": {},
   "outputs": [],
   "source": [
    "# criando problema\n",
    "dieta = gp.Model()"
   ]
  },
  {
   "cell_type": "code",
   "execution_count": null,
   "id": "fce39310",
   "metadata": {},
   "outputs": [],
   "source": [
    "x1 = dieta.addVar(obj=20, name=\"x1\")\n",
    "x2 = dieta.addVar(obj=10, name=\"x2\")\n",
    "x3 = dieta.addVar(obj=31, name=\"x3\")\n",
    "x4 = dieta.addVar(obj=11, name=\"x4\")\n",
    "x5 = dieta.addVar(obj=12, name=\"x5\")"
   ]
  },
  {
   "cell_type": "code",
   "execution_count": null,
   "id": "10f64a05",
   "metadata": {},
   "outputs": [],
   "source": [
    "restricao1 = dieta.addConstr(2*x1 + 3*x3 + x4 + 2*x5 >= 21, \"restricao1\")\n",
    "restricao2 = dieta.addConstr(x2 + 2*x3 + 2*x4 + x5 >= 12, \"restricao2\")"
   ]
  },
  {
   "cell_type": "code",
   "execution_count": null,
   "id": "2b5d012f",
   "metadata": {},
   "outputs": [],
   "source": [
    "# definindo sentido da funcao objetivo\n",
    "dieta.modelSense = GRB.MINIMIZE"
   ]
  },
  {
   "cell_type": "code",
   "execution_count": null,
   "id": "7ee1237b",
   "metadata": {},
   "outputs": [],
   "source": [
    "dieta.optimize()"
   ]
  },
  {
   "cell_type": "code",
   "execution_count": null,
   "id": "b8642569",
   "metadata": {},
   "outputs": [],
   "source": [
    "# imprimindo solução\n",
    "for i in dieta.getVars():\n",
    "    print(i.varName,'=', i.x)"
   ]
  },
  {
   "cell_type": "code",
   "execution_count": null,
   "id": "d903c09a",
   "metadata": {},
   "outputs": [],
   "source": [
    "# imprimindo valor ótimo\n",
    "print(\"Valor maximo = \", dieta.objVal)"
   ]
  },
  {
   "cell_type": "code",
   "execution_count": null,
   "id": "f67b3954",
   "metadata": {},
   "outputs": [],
   "source": []
  },
  {
   "cell_type": "markdown",
   "id": "54ab6d99",
   "metadata": {},
   "source": [
    "## Problema da Mochila"
   ]
  },
  {
   "cell_type": "code",
   "execution_count": null,
   "id": "c0d21e1c",
   "metadata": {},
   "outputs": [],
   "source": [
    "###### definindo os dados\n",
    "n = 7\n",
    "p = [6, 5, 8, 9, 6, 7, 3]\n",
    "w = [2, 3, 6, 7, 5, 9, 4]\n",
    "c = 9"
   ]
  },
  {
   "cell_type": "code",
   "execution_count": null,
   "id": "4480a652",
   "metadata": {},
   "outputs": [],
   "source": [
    "# criando o modelo\n",
    "mochila = gp.Model()"
   ]
  },
  {
   "cell_type": "code",
   "execution_count": null,
   "id": "67cdcb6f",
   "metadata": {},
   "outputs": [],
   "source": [
    "# adicionando as variáveis\n",
    "x = mochila.addVars(n, vtype=GRB.BINARY, name='x')"
   ]
  },
  {
   "cell_type": "code",
   "execution_count": null,
   "id": "f6cd164b",
   "metadata": {},
   "outputs": [],
   "source": [
    "mochila.update()"
   ]
  },
  {
   "cell_type": "code",
   "execution_count": null,
   "id": "3c1f8772",
   "metadata": {},
   "outputs": [],
   "source": [
    "# adicionando restrição\n",
    "mochila.addConstr((x.prod(w)) <= c, name='mochila')"
   ]
  },
  {
   "cell_type": "code",
   "execution_count": null,
   "id": "e00ef2ce",
   "metadata": {},
   "outputs": [],
   "source": [
    "mochila.update()"
   ]
  },
  {
   "cell_type": "code",
   "execution_count": null,
   "id": "c3188164",
   "metadata": {},
   "outputs": [],
   "source": [
    "# definindo a função objetivo\n",
    "mochila.setObjective(x.prod(p), GRB.MAXIMIZE)"
   ]
  },
  {
   "cell_type": "code",
   "execution_count": null,
   "id": "4eb5c3ef",
   "metadata": {},
   "outputs": [],
   "source": [
    "mochila.write(\"mochila.lp\")"
   ]
  },
  {
   "cell_type": "code",
   "execution_count": null,
   "id": "6b68b02e",
   "metadata": {},
   "outputs": [],
   "source": [
    "# resolvendo o problema\n",
    "mochila.optimize()"
   ]
  },
  {
   "cell_type": "code",
   "execution_count": null,
   "id": "ba6db464",
   "metadata": {},
   "outputs": [],
   "source": [
    "mochila.printAttr('x')"
   ]
  },
  {
   "cell_type": "code",
   "execution_count": null,
   "id": "118f3d32",
   "metadata": {},
   "outputs": [],
   "source": [
    "# imprimindo solução\n",
    "for i in mochila.getVars():\n",
    "    print(i.varName,'=', i.x)"
   ]
  },
  {
   "cell_type": "code",
   "execution_count": null,
   "id": "f52347d1",
   "metadata": {},
   "outputs": [],
   "source": [
    "mochila.objVal"
   ]
  },
  {
   "cell_type": "code",
   "execution_count": null,
   "id": "e070776e",
   "metadata": {},
   "outputs": [],
   "source": []
  },
  {
   "cell_type": "markdown",
   "id": "5b59090c",
   "metadata": {},
   "source": [
    "## Fábrica de Móveis"
   ]
  },
  {
   "cell_type": "code",
   "execution_count": null,
   "id": "f65b102b",
   "metadata": {},
   "outputs": [],
   "source": [
    "# criando o modelo\n",
    "moveis = gp.Model()"
   ]
  },
  {
   "cell_type": "code",
   "execution_count": null,
   "id": "8ca13b68",
   "metadata": {},
   "outputs": [],
   "source": [
    "# criando as variaveis\n",
    "#x1 refere-se a cadeiras\n",
    "#x2 refere-se a mesas\n",
    "#x1 = moveis.addVar(name=\"x1\")\n",
    "#x2 = moveis.addVar(name=\"x2\")\n",
    "x1 = moveis.addVar(vtype=GRB.INTEGER,name=\"x1\")\n",
    "x2 = moveis.addVar(vtype=GRB.INTEGER,name=\"x2\")"
   ]
  },
  {
   "cell_type": "code",
   "execution_count": null,
   "id": "f39e20df",
   "metadata": {},
   "outputs": [],
   "source": [
    "# definindo função objetivo\n",
    "moveis.setObjective(45*x1 + 80*x2,GRB.MAXIMIZE)"
   ]
  },
  {
   "cell_type": "code",
   "execution_count": null,
   "id": "c5a705c5",
   "metadata": {},
   "outputs": [],
   "source": [
    "# adicionar as restrições\n",
    "con1 = moveis.addConstr(5*x1 + 20*x2 <= 400, \"mogno\")\n",
    "con2 = moveis.addConstr(10*x1 + 15*x2 <= 450, \"mao-de-obra\")"
   ]
  },
  {
   "cell_type": "code",
   "execution_count": null,
   "id": "fbef89bc",
   "metadata": {},
   "outputs": [],
   "source": [
    "# salvando modelo\n",
    "moveis.write(\"moveis.lp\")"
   ]
  },
  {
   "cell_type": "code",
   "execution_count": null,
   "id": "6c39c8d2",
   "metadata": {},
   "outputs": [],
   "source": [
    "moveis.optimize()"
   ]
  },
  {
   "cell_type": "code",
   "execution_count": null,
   "id": "15078ecb",
   "metadata": {},
   "outputs": [],
   "source": [
    "for v in moveis.getVars():\n",
    "    print(v.varName, v.x)"
   ]
  },
  {
   "cell_type": "code",
   "execution_count": null,
   "id": "e762d180",
   "metadata": {},
   "outputs": [],
   "source": [
    "print(\"Receita = \", moveis.objVal)"
   ]
  },
  {
   "cell_type": "code",
   "execution_count": null,
   "id": "b6238f1b",
   "metadata": {},
   "outputs": [],
   "source": []
  },
  {
   "cell_type": "markdown",
   "id": "5a01e2d5",
   "metadata": {},
   "source": [
    "## Problema de atribuição"
   ]
  },
  {
   "cell_type": "code",
   "execution_count": 2,
   "id": "a56cfc3e",
   "metadata": {},
   "outputs": [],
   "source": [
    "# conjuntos: recursos e trabalhos\n",
    "I = ['Carlos', 'Jonas', 'Monica']\n",
    "J = ['Cientista', 'Desenvolvedor', 'Arquiteto']\n",
    "\n",
    "# matriz percentual\n",
    "key, perc = gp.multidict({\n",
    "    ('Carlos', 'Cientista'): 53,\n",
    "    ('Carlos', 'Desenvolvedor'): 27,\n",
    "    ('Carlos', 'Arquiteto'): 13,\n",
    "    ('Jonas', 'Cientista'): 80,\n",
    "    ('Jonas', 'Desenvolvedor'): 47,\n",
    "    ('Jonas', 'Arquiteto'): 67,\n",
    "    ('Monica', 'Cientista'): 53,\n",
    "    ('Monica', 'Desenvolvedor'): 73,\n",
    "    ('Monica', 'Arquiteto'): 47\n",
    "})"
   ]
  },
  {
   "cell_type": "code",
   "execution_count": 3,
   "id": "7c83cd83",
   "metadata": {},
   "outputs": [
    {
     "name": "stdout",
     "output_type": "stream",
     "text": [
      "Academic license - for non-commercial use only - expires 2023-01-08\n",
      "Using license file /opt/gurobi912/gurobi.lic\n"
     ]
    }
   ],
   "source": [
    "# definindo o modelo\n",
    "atribuicao = gp.Model(\"atribuicao\")"
   ]
  },
  {
   "cell_type": "code",
   "execution_count": 4,
   "id": "1a7abdba",
   "metadata": {},
   "outputs": [],
   "source": [
    "# adicionando variaveis\n",
    "x = atribuicao.addVars(key, name='x')"
   ]
  },
  {
   "cell_type": "code",
   "execution_count": 5,
   "id": "abec379d",
   "metadata": {},
   "outputs": [],
   "source": [
    "# adicionando restricoes de trabalho\n",
    "trabalho = atribuicao.addConstrs((x.sum('*',j) == 1 for j in J), 'trabalho')"
   ]
  },
  {
   "cell_type": "code",
   "execution_count": 6,
   "id": "d91b4d3b",
   "metadata": {},
   "outputs": [],
   "source": [
    "# adicionando restricoes de recursos(pessoas)\n",
    "pessoa = atribuicao.addConstrs((x.sum(i,'*') <= 1 for i in I),'pessoa')"
   ]
  },
  {
   "cell_type": "code",
   "execution_count": 7,
   "id": "e39b8cee",
   "metadata": {},
   "outputs": [],
   "source": [
    "# definindo a funcao objetivo\n",
    "atribuicao.setObjective(x.prod(perc),GRB.MAXIMIZE)"
   ]
  },
  {
   "cell_type": "code",
   "execution_count": 8,
   "id": "b283c4ee",
   "metadata": {},
   "outputs": [],
   "source": [
    "atribuicao.write('atribuicao.lp')"
   ]
  },
  {
   "cell_type": "code",
   "execution_count": 9,
   "id": "d383ad82",
   "metadata": {},
   "outputs": [
    {
     "name": "stdout",
     "output_type": "stream",
     "text": [
      "Gurobi Optimizer version 9.1.2 build v9.1.2rc0 (linux64)\n",
      "Thread count: 4 physical cores, 8 logical processors, using up to 8 threads\n",
      "Optimize a model with 6 rows, 9 columns and 18 nonzeros\n",
      "Model fingerprint: 0xb343b6eb\n",
      "Coefficient statistics:\n",
      "  Matrix range     [1e+00, 1e+00]\n",
      "  Objective range  [1e+01, 8e+01]\n",
      "  Bounds range     [0e+00, 0e+00]\n",
      "  RHS range        [1e+00, 1e+00]\n",
      "Presolve time: 0.01s\n",
      "Presolved: 6 rows, 9 columns, 18 nonzeros\n",
      "\n",
      "Iteration    Objective       Primal Inf.    Dual Inf.      Time\n",
      "       0    4.6000000e+32   1.800000e+31   4.600000e+02      0s\n",
      "       5    1.9300000e+02   0.000000e+00   0.000000e+00      0s\n",
      "\n",
      "Solved in 5 iterations and 0.01 seconds\n",
      "Optimal objective  1.930000000e+02\n"
     ]
    }
   ],
   "source": [
    "atribuicao.optimize()"
   ]
  },
  {
   "cell_type": "code",
   "execution_count": 10,
   "id": "ca521020",
   "metadata": {},
   "outputs": [
    {
     "name": "stdout",
     "output_type": "stream",
     "text": [
      "x[Carlos,Cientista] = 1.0\n",
      "x[Jonas,Arquiteto] = 1.0\n",
      "x[Monica,Desenvolvedor] = 1.0\n"
     ]
    }
   ],
   "source": [
    "#imprimindo solucao\n",
    "for var in atribuicao.getVars():\n",
    "    if abs(var.x) > 1e-6:\n",
    "        print(var.varName, '=', var.x)"
   ]
  },
  {
   "cell_type": "code",
   "execution_count": 11,
   "id": "ffde5e54",
   "metadata": {},
   "outputs": [
    {
     "name": "stdout",
     "output_type": "stream",
     "text": [
      "Percentual total = 193.0\n"
     ]
    }
   ],
   "source": [
    "# imprimindo valor objetivo\n",
    "print('Percentual total =', atribuicao.objVal)"
   ]
  },
  {
   "cell_type": "code",
   "execution_count": null,
   "id": "b2e18661",
   "metadata": {},
   "outputs": [],
   "source": []
  },
  {
   "cell_type": "markdown",
   "id": "e8c1443c",
   "metadata": {},
   "source": [
    "## Faciliy location problem"
   ]
  },
  {
   "cell_type": "code",
   "execution_count": 12,
   "id": "1a11f847",
   "metadata": {},
   "outputs": [],
   "source": [
    "# instancia do problema\n",
    "\n",
    "# demandas dos clientes\n",
    "d = [1, 1, 1, 1, 1, 1]\n",
    "\n",
    "# custo fixo dos depósitos\n",
    "f = [21, 16, 11, 24]\n",
    "\n",
    "# custo de transporte\n",
    "c = [\n",
    "    [6, 2, 3, 4],\n",
    "    [1, 9, 4, 11],\n",
    "    [15, 2, 6, 3],\n",
    "    [9, 11, 4, 8],\n",
    "    [7, 23, 2, 9],\n",
    "    [4, 3, 1, 5]\n",
    "    ]\n",
    "\n",
    "# range dos clientes e depósitos\n",
    "M = range(len(d))\n",
    "N = range(len(f))"
   ]
  },
  {
   "cell_type": "code",
   "execution_count": 13,
   "id": "33506a3f",
   "metadata": {},
   "outputs": [],
   "source": [
    "# Modelo\n",
    "flp = gp.Model(\"facility\")"
   ]
  },
  {
   "cell_type": "code",
   "execution_count": 14,
   "id": "bddae870",
   "metadata": {},
   "outputs": [],
   "source": [
    "# define variáveis\n",
    "\n",
    "# y[j] == 1 se o depósito j é aberto, 0 caso contrário\n",
    "y = []\n",
    "for j in N:\n",
    "    y.append(flp.addVar(vtype=GRB.BINARY, name=\"y[%d]\" % j))\n",
    "\n",
    "# x[i,j] é quantidade transportada do depósito i para o cliente j\n",
    "x = []\n",
    "for i in M:\n",
    "    x.append([])\n",
    "    for j in N:\n",
    "        x[i].append(flp.addVar(name=\"x[%d,%d]\" % (i, j)))"
   ]
  },
  {
   "cell_type": "code",
   "execution_count": 15,
   "id": "4f0b6a44",
   "metadata": {},
   "outputs": [],
   "source": [
    "# definindo a função objetivo\n",
    "obj = None\n",
    "for j in N:\n",
    "    obj += f[j] * y[j]\n",
    "    for i in M:\n",
    "        obj += c[i][j] * x[i][j]\n",
    "\n",
    "flp.setObjective(obj, GRB.MINIMIZE)"
   ]
  },
  {
   "cell_type": "code",
   "execution_count": 16,
   "id": "87c94368",
   "metadata": {},
   "outputs": [],
   "source": [
    "# link entre x e y\n",
    "for j in N:\n",
    "    flp.addConstr(sum(x[i][j] for i in M) <= len(d) * y[j], \"link[%d]\" % j)"
   ]
  },
  {
   "cell_type": "code",
   "execution_count": 17,
   "id": "0c98cd58",
   "metadata": {},
   "outputs": [],
   "source": [
    "# restrição de demanda\n",
    "for i in M:\n",
    "    flp.addConstr(sum(x[i][j] for j in N) == d[i], \"Demand[%d]\" % i)"
   ]
  },
  {
   "cell_type": "code",
   "execution_count": 18,
   "id": "42c0f0a8",
   "metadata": {},
   "outputs": [],
   "source": [
    "# salva modelo\n",
    "flp.write('facility.lp')"
   ]
  },
  {
   "cell_type": "code",
   "execution_count": 19,
   "id": "bf42eef3",
   "metadata": {},
   "outputs": [
    {
     "name": "stdout",
     "output_type": "stream",
     "text": [
      "Gurobi Optimizer version 9.1.2 build v9.1.2rc0 (linux64)\n",
      "Thread count: 4 physical cores, 8 logical processors, using up to 8 threads\n",
      "Optimize a model with 10 rows, 28 columns and 52 nonzeros\n",
      "Model fingerprint: 0xdf3c3ef7\n",
      "Variable types: 24 continuous, 4 integer (4 binary)\n",
      "Coefficient statistics:\n",
      "  Matrix range     [1e+00, 6e+00]\n",
      "  Objective range  [1e+00, 2e+01]\n",
      "  Bounds range     [1e+00, 1e+00]\n",
      "  RHS range        [1e+00, 1e+00]\n",
      "Presolve time: 0.01s\n",
      "Presolved: 10 rows, 28 columns, 52 nonzeros\n",
      "Variable types: 24 continuous, 4 integer (4 binary)\n",
      "\n",
      "Root relaxation: objective 2.633333e+01, 5 iterations, 0.00 seconds\n",
      "\n",
      "    Nodes    |    Current Node    |     Objective Bounds      |     Work\n",
      " Expl Unexpl |  Obj  Depth IntInf | Incumbent    BestBd   Gap | It/Node Time\n",
      "\n",
      "     0     0   26.33333    0    3          -   26.33333      -     -    0s\n",
      "H    0     0                      60.0000000   26.33333  56.1%     -    0s\n",
      "H    0     0                      31.0000000   26.33333  15.1%     -    0s\n",
      "\n",
      "Explored 1 nodes (5 simplex iterations) in 0.04 seconds\n",
      "Thread count was 8 (of 8 available processors)\n",
      "\n",
      "Solution count 2: 31 60 \n",
      "\n",
      "Optimal solution found (tolerance 1.00e-04)\n",
      "Best objective 3.100000000000e+01, best bound 3.100000000000e+01, gap 0.0000%\n"
     ]
    }
   ],
   "source": [
    "# Resolve o problema\n",
    "flp.optimize()"
   ]
  },
  {
   "cell_type": "code",
   "execution_count": 20,
   "id": "f1b4d425",
   "metadata": {},
   "outputs": [
    {
     "name": "stdout",
     "output_type": "stream",
     "text": [
      "Custo total: 31\n",
      "\n",
      "Solução:\n",
      "Depósito 0 não é aberto!\n",
      "Depósito 1 não é aberto!\n",
      "Depósito 2 é aberto\n",
      "  Transporte de 1 unidades para o cliente 0\n",
      "  Transporte de 1 unidades para o cliente 1\n",
      "  Transporte de 1 unidades para o cliente 2\n",
      "  Transporte de 1 unidades para o cliente 3\n",
      "  Transporte de 1 unidades para o cliente 4\n",
      "  Transporte de 1 unidades para o cliente 5\n",
      "Depósito 3 não é aberto!\n"
     ]
    }
   ],
   "source": [
    "# Imprimindo solução\n",
    "print('Custo total: %g' % flp.objVal)\n",
    "print('\\nSolução:')\n",
    "for j in N:\n",
    "    if y[j].x > 0.99:\n",
    "        print('Depósito %s é aberto' % j)\n",
    "        for i in M:\n",
    "            if x[i][j].x > 0:\n",
    "                print('  Transporte de %g unidades para o cliente %s' % (x[i][j].x, i))\n",
    "    else:\n",
    "        print('Depósito %s não é aberto!' % j)"
   ]
  },
  {
   "cell_type": "code",
   "execution_count": null,
   "id": "ef408f7d",
   "metadata": {},
   "outputs": [],
   "source": []
  },
  {
   "cell_type": "markdown",
   "id": "fabb4e7d",
   "metadata": {},
   "source": [
    "## Uncapacitated lot sizing"
   ]
  },
  {
   "cell_type": "code",
   "execution_count": 21,
   "id": "45369c74",
   "metadata": {},
   "outputs": [],
   "source": [
    "# demanda\n",
    "d = [2, 4, 5, 1]\n",
    "\n",
    "# custo de produção\n",
    "p = [3, 3, 3, 3]\n",
    "\n",
    "# custo de estoque\n",
    "h = [1, 2, 1, 1]\n",
    "\n",
    "# custo fixo de cada fábrica\n",
    "f = [12, 20, 16, 8]\n",
    "\n",
    "# quantidade de períodos\n",
    "N = range(len(d))"
   ]
  },
  {
   "cell_type": "code",
   "execution_count": 22,
   "id": "cf50ac19",
   "metadata": {},
   "outputs": [],
   "source": [
    "# criando modelo\n",
    "uls = gp.Model(\"uls\")"
   ]
  },
  {
   "cell_type": "code",
   "execution_count": 23,
   "id": "275c470b",
   "metadata": {},
   "outputs": [],
   "source": [
    "# variáveis e função objetivo\n",
    "y = uls.addVars(N,vtype=GRB.BINARY,obj=f,name=\"y\")\n",
    "x = uls.addVars(N, obj=p, name=\"x\")\n",
    "s = uls.addVars(N, obj=h, name=\"s\")"
   ]
  },
  {
   "cell_type": "code",
   "execution_count": 24,
   "id": "3b7c939f",
   "metadata": {},
   "outputs": [],
   "source": [
    "# sentido da função objetivo\n",
    "uls.modelSense = GRB.MINIMIZE"
   ]
  },
  {
   "cell_type": "code",
   "execution_count": 25,
   "id": "7a380a05",
   "metadata": {},
   "outputs": [],
   "source": [
    "# restrições\n",
    "for t in N:\n",
    "    if t == 0:\n",
    "        uls.addConstr((x[t] == d[t] + s[t]))\n",
    "    else:\n",
    "        uls.addConstr((s[t-1] + x[t] == d[t] + s[t]))\n",
    "        \n",
    "uls.addConstrs((x[t] <=  100 * y[t] for t in N))\n",
    "\n",
    "s[0] = 0\n",
    "\n",
    "s[len(d)] = 0"
   ]
  },
  {
   "cell_type": "code",
   "execution_count": 26,
   "id": "774a8bc4",
   "metadata": {},
   "outputs": [],
   "source": [
    "# salva o modelo\n",
    "uls.write('uls.lp')"
   ]
  },
  {
   "cell_type": "code",
   "execution_count": 27,
   "id": "a7d1fd1b",
   "metadata": {},
   "outputs": [
    {
     "name": "stdout",
     "output_type": "stream",
     "text": [
      "Gurobi Optimizer version 9.1.2 build v9.1.2rc0 (linux64)\n",
      "Thread count: 4 physical cores, 8 logical processors, using up to 8 threads\n",
      "Optimize a model with 8 rows, 12 columns and 19 nonzeros\n",
      "Model fingerprint: 0xf0f804bd\n",
      "Variable types: 8 continuous, 4 integer (4 binary)\n",
      "Coefficient statistics:\n",
      "  Matrix range     [1e+00, 1e+02]\n",
      "  Objective range  [1e+00, 2e+01]\n",
      "  Bounds range     [1e+00, 1e+00]\n",
      "  RHS range        [1e+00, 5e+00]\n",
      "Presolve removed 2 rows and 2 columns\n",
      "Presolve time: 0.00s\n",
      "Presolved: 6 rows, 10 columns, 15 nonzeros\n",
      "Variable types: 7 continuous, 3 integer (3 binary)\n",
      "\n",
      "Root relaxation: objective 4.968000e+01, 7 iterations, 0.00 seconds\n",
      "\n",
      "    Nodes    |    Current Node    |     Objective Bounds      |     Work\n",
      " Expl Unexpl |  Obj  Depth IntInf | Incumbent    BestBd   Gap | It/Node Time\n",
      "\n",
      "     0     0   49.68000    0    3          -   49.68000      -     -    0s\n",
      "H    0     0                      92.0000000   49.68000  46.0%     -    0s\n",
      "H    0     0                      71.0000000   49.68000  30.0%     -    0s\n",
      "     0     0   68.16063    0    1   71.00000   68.16063  4.00%     -    0s\n",
      "H    0     0                      69.0000000   68.16063  1.22%     -    0s\n",
      "\n",
      "Cutting planes:\n",
      "  Gomory: 1\n",
      "  Implied bound: 5\n",
      "  Flow cover: 1\n",
      "\n",
      "Explored 1 nodes (11 simplex iterations) in 0.01 seconds\n",
      "Thread count was 8 (of 8 available processors)\n",
      "\n",
      "Solution count 3: 69 71 92 \n",
      "\n",
      "Optimal solution found (tolerance 1.00e-04)\n",
      "Best objective 6.900000000000e+01, best bound 6.900000000000e+01, gap 0.0000%\n"
     ]
    }
   ],
   "source": [
    "# resolve o problema\n",
    "uls.optimize()"
   ]
  },
  {
   "cell_type": "code",
   "execution_count": 28,
   "id": "022e2249",
   "metadata": {},
   "outputs": [
    {
     "name": "stdout",
     "output_type": "stream",
     "text": [
      "valor ótimo = 69\n"
     ]
    }
   ],
   "source": [
    "# imprimindo a solução ótima\n",
    "print('valor ótimo = %g' % uls.objVal)"
   ]
  },
  {
   "cell_type": "code",
   "execution_count": 29,
   "id": "bee947dc",
   "metadata": {},
   "outputs": [
    {
     "name": "stdout",
     "output_type": "stream",
     "text": [
      "y[0] = 1\n",
      "y[1] = 0\n",
      "y[2] = 1\n",
      "y[3] = 0\n",
      "x[0] = 6\n",
      "x[1] = 0\n",
      "x[2] = 6\n",
      "x[3] = 5.68434e-13\n",
      "s[0] = 4\n",
      "s[1] = 0\n",
      "s[2] = 1\n",
      "s[3] = 0\n"
     ]
    }
   ],
   "source": [
    "# imprimindo as soluções\n",
    "for v in uls.getVars():\n",
    "    print('%s = %g' % (v.varName, v.x))"
   ]
  },
  {
   "cell_type": "code",
   "execution_count": null,
   "id": "92d63908",
   "metadata": {},
   "outputs": [],
   "source": []
  }
 ],
 "metadata": {
  "kernelspec": {
   "display_name": "Python 3 (ipykernel)",
   "language": "python",
   "name": "python3"
  },
  "language_info": {
   "codemirror_mode": {
    "name": "ipython",
    "version": 3
   },
   "file_extension": ".py",
   "mimetype": "text/x-python",
   "name": "python",
   "nbconvert_exporter": "python",
   "pygments_lexer": "ipython3",
   "version": "3.8.10"
  }
 },
 "nbformat": 4,
 "nbformat_minor": 5
}
