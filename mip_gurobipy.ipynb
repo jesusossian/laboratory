{
 "cells": [
  {
   "cell_type": "code",
   "execution_count": 2,
   "id": "b07dfe70",
   "metadata": {},
   "outputs": [],
   "source": [
    "# importando as bibliotecas\n",
    "import gurobipy as gp\n",
    "from gurobipy import GRB"
   ]
  },
  {
   "cell_type": "markdown",
   "id": "3a3809fd",
   "metadata": {},
   "source": [
    "## Um simples exemplo"
   ]
  },
  {
   "cell_type": "code",
   "execution_count": 3,
   "id": "192852c7",
   "metadata": {},
   "outputs": [
    {
     "name": "stdout",
     "output_type": "stream",
     "text": [
      "Academic license - for non-commercial use only - expires 2022-01-08\n",
      "Using license file /opt/gurobi912/gurobi.lic\n"
     ]
    }
   ],
   "source": [
    "# criando o modelo\n",
    "binario = gp.Model()"
   ]
  },
  {
   "cell_type": "code",
   "execution_count": 4,
   "id": "f6e4564e",
   "metadata": {},
   "outputs": [],
   "source": [
    "# adicionando as variaveis\n",
    "x = binario.addVar(vtype = GRB.BINARY, name = \"x\")\n",
    "y = binario.addVar(vtype = GRB.BINARY, name = \"y\")\n",
    "z = binario.addVar(vtype = GRB.BINARY, name = \"z\")"
   ]
  },
  {
   "cell_type": "code",
   "execution_count": 5,
   "id": "e823940b",
   "metadata": {},
   "outputs": [],
   "source": [
    "# definindo a funcao objetivo\n",
    "binario.setObjective(x + y + 2*z, GRB.MAXIMIZE)"
   ]
  },
  {
   "cell_type": "code",
   "execution_count": 6,
   "id": "74327059",
   "metadata": {},
   "outputs": [],
   "source": [
    "# adicionando as restrições\n",
    "rest1 = binario.addConstr(x + 2*y + 3*z <= 4)\n",
    "rest2 = binario.addConstr(x + y >= 1)"
   ]
  },
  {
   "cell_type": "code",
   "execution_count": 7,
   "id": "cb6e80e3",
   "metadata": {},
   "outputs": [],
   "source": [
    "# exportando o modelo\n",
    "binario.write(\"binario.lp\")"
   ]
  },
  {
   "cell_type": "code",
   "execution_count": 8,
   "id": "77bafca8",
   "metadata": {},
   "outputs": [
    {
     "name": "stdout",
     "output_type": "stream",
     "text": [
      "Gurobi Optimizer version 9.1.2 build v9.1.2rc0 (linux64)\n",
      "Thread count: 4 physical cores, 8 logical processors, using up to 8 threads\n",
      "Optimize a model with 2 rows, 3 columns and 5 nonzeros\n",
      "Model fingerprint: 0x98886187\n",
      "Variable types: 0 continuous, 3 integer (3 binary)\n",
      "Coefficient statistics:\n",
      "  Matrix range     [1e+00, 3e+00]\n",
      "  Objective range  [1e+00, 2e+00]\n",
      "  Bounds range     [1e+00, 1e+00]\n",
      "  RHS range        [1e+00, 4e+00]\n",
      "Found heuristic solution: objective 2.0000000\n",
      "Presolve removed 2 rows and 3 columns\n",
      "Presolve time: 0.00s\n",
      "Presolve: All rows and columns removed\n",
      "\n",
      "Explored 0 nodes (0 simplex iterations) in 0.01 seconds\n",
      "Thread count was 1 (of 8 available processors)\n",
      "\n",
      "Solution count 2: 3 2 \n",
      "\n",
      "Optimal solution found (tolerance 1.00e-04)\n",
      "Best objective 3.000000000000e+00, best bound 3.000000000000e+00, gap 0.0000%\n"
     ]
    }
   ],
   "source": [
    "# resolvendo o modelo\n",
    "binario.optimize()"
   ]
  },
  {
   "cell_type": "code",
   "execution_count": 11,
   "id": "b6d09f74",
   "metadata": {},
   "outputs": [
    {
     "name": "stdout",
     "output_type": "stream",
     "text": [
      "x = 1.0\n",
      "y = 0.0\n",
      "z = 1.0\n"
     ]
    }
   ],
   "source": [
    "# imprimindo solução\n",
    "for i in binario.getVars():\n",
    "    print(i.varName,'=', i.x)"
   ]
  },
  {
   "cell_type": "code",
   "execution_count": 13,
   "id": "d6bf9ef7",
   "metadata": {},
   "outputs": [
    {
     "name": "stdout",
     "output_type": "stream",
     "text": [
      "Valor maximo =  3.0\n"
     ]
    }
   ],
   "source": [
    "# imprimindo valor ótimo\n",
    "print(\"Valor maximo = \", binario.objVal)"
   ]
  },
  {
   "cell_type": "code",
   "execution_count": null,
   "id": "eb21e557",
   "metadata": {},
   "outputs": [],
   "source": []
  },
  {
   "cell_type": "markdown",
   "id": "1d98eaf8",
   "metadata": {},
   "source": [
    "## Problema da dieta"
   ]
  },
  {
   "cell_type": "code",
   "execution_count": 20,
   "id": "dfca25b6",
   "metadata": {},
   "outputs": [],
   "source": [
    "# criando problema\n",
    "dieta = gp.Model()"
   ]
  },
  {
   "cell_type": "code",
   "execution_count": 21,
   "id": "fce39310",
   "metadata": {},
   "outputs": [],
   "source": [
    "x1 = dieta.addVar(obj=20, name=\"x1\")\n",
    "x2 = dieta.addVar(obj=10, name=\"x2\")\n",
    "x3 = dieta.addVar(obj=31, name=\"x3\")\n",
    "x4 = dieta.addVar(obj=11, name=\"x4\")\n",
    "x5 = dieta.addVar(obj=12, name=\"x5\")"
   ]
  },
  {
   "cell_type": "code",
   "execution_count": 22,
   "id": "10f64a05",
   "metadata": {},
   "outputs": [],
   "source": [
    "restricao1 = dieta.addConstr(2*x1 + 3*x3 + x4 + 2*x5 >= 21, \"restricao1\")\n",
    "restricao2 = dieta.addConstr(x2 + 2*x3 + 2*x4 + x5 >= 12, \"restricao2\")"
   ]
  },
  {
   "cell_type": "code",
   "execution_count": 25,
   "id": "2b5d012f",
   "metadata": {},
   "outputs": [],
   "source": [
    "# definindo sentido da funcao objetivo\n",
    "dieta.modelSense = GRB.MINIMIZE"
   ]
  },
  {
   "cell_type": "code",
   "execution_count": 26,
   "id": "7ee1237b",
   "metadata": {},
   "outputs": [
    {
     "name": "stdout",
     "output_type": "stream",
     "text": [
      "Gurobi Optimizer version 9.1.2 build v9.1.2rc0 (linux64)\n",
      "Thread count: 4 physical cores, 8 logical processors, using up to 8 threads\n",
      "Optimize a model with 2 rows, 5 columns and 8 nonzeros\n",
      "Coefficient statistics:\n",
      "  Matrix range     [1e+00, 3e+00]\n",
      "  Objective range  [1e+01, 3e+01]\n",
      "  Bounds range     [0e+00, 0e+00]\n",
      "  RHS range        [1e+01, 2e+01]\n",
      "\n",
      "Solved in 0 iterations and 0.00 seconds\n",
      "Optimal objective  1.310000000e+02\n"
     ]
    }
   ],
   "source": [
    "dieta.optimize()"
   ]
  },
  {
   "cell_type": "code",
   "execution_count": 27,
   "id": "b8642569",
   "metadata": {},
   "outputs": [
    {
     "name": "stdout",
     "output_type": "stream",
     "text": [
      "x1 = 0.0\n",
      "x2 = 0.0\n",
      "x3 = 0.0\n",
      "x4 = 1.0\n",
      "x5 = 10.0\n"
     ]
    }
   ],
   "source": [
    "# imprimindo solução\n",
    "for i in dieta.getVars():\n",
    "    print(i.varName,'=', i.x)"
   ]
  },
  {
   "cell_type": "code",
   "execution_count": 28,
   "id": "d903c09a",
   "metadata": {},
   "outputs": [
    {
     "name": "stdout",
     "output_type": "stream",
     "text": [
      "Valor maximo =  131.0\n"
     ]
    }
   ],
   "source": [
    "# imprimindo valor ótimo\n",
    "print(\"Valor maximo = \", dieta.objVal)"
   ]
  },
  {
   "cell_type": "code",
   "execution_count": null,
   "id": "f67b3954",
   "metadata": {},
   "outputs": [],
   "source": []
  },
  {
   "cell_type": "markdown",
   "id": "54ab6d99",
   "metadata": {},
   "source": [
    "## Problema da Mochila"
   ]
  },
  {
   "cell_type": "code",
   "execution_count": null,
   "id": "c0d21e1c",
   "metadata": {},
   "outputs": [],
   "source": [
    "###### definindo os dados\n",
    "n = 7\n",
    "p = [6, 5, 8, 9, 6, 7, 3]\n",
    "w = [2, 3, 6, 7, 5, 9, 4]\n",
    "c = 9"
   ]
  },
  {
   "cell_type": "code",
   "execution_count": null,
   "id": "4480a652",
   "metadata": {},
   "outputs": [],
   "source": [
    "# criando o modelo\n",
    "m = gp.Model()"
   ]
  },
  {
   "cell_type": "code",
   "execution_count": null,
   "id": "67cdcb6f",
   "metadata": {},
   "outputs": [],
   "source": [
    "# adicionando as variáveis\n",
    "# x = m.addVars(n, vtype=GRB.BINARY, name='x') # binário\n",
    "x = m.addVars(n, lb= 0, ub = 1, name='x') # relaxação linear"
   ]
  },
  {
   "cell_type": "code",
   "execution_count": null,
   "id": "f6cd164b",
   "metadata": {},
   "outputs": [],
   "source": [
    "m.update()"
   ]
  },
  {
   "cell_type": "code",
   "execution_count": null,
   "id": "8771e0c3",
   "metadata": {},
   "outputs": [],
   "source": [
    "print(x)"
   ]
  },
  {
   "cell_type": "code",
   "execution_count": null,
   "id": "3c1f8772",
   "metadata": {},
   "outputs": [],
   "source": [
    "# adicionando restrição\n",
    "m.addConstr((x.prod(w)) <= c, name='mochila')"
   ]
  },
  {
   "cell_type": "code",
   "execution_count": null,
   "id": "c3188164",
   "metadata": {},
   "outputs": [],
   "source": [
    "# definindo a função objetivo\n",
    "m.setObjective(x.prod(p), GRB.MAXIMIZE)"
   ]
  },
  {
   "cell_type": "code",
   "execution_count": null,
   "id": "6b68b02e",
   "metadata": {},
   "outputs": [],
   "source": [
    "# resolvendo o problema\n",
    "m.optimize()"
   ]
  },
  {
   "cell_type": "code",
   "execution_count": null,
   "id": "ba6db464",
   "metadata": {},
   "outputs": [],
   "source": [
    "m.printAttr('x')"
   ]
  },
  {
   "cell_type": "code",
   "execution_count": null,
   "id": "f52347d1",
   "metadata": {},
   "outputs": [],
   "source": [
    "m.objVal"
   ]
  },
  {
   "cell_type": "code",
   "execution_count": null,
   "id": "e070776e",
   "metadata": {},
   "outputs": [],
   "source": []
  },
  {
   "cell_type": "markdown",
   "id": "5b59090c",
   "metadata": {},
   "source": [
    "## Fábrica de Móveis"
   ]
  },
  {
   "cell_type": "code",
   "execution_count": null,
   "id": "f65b102b",
   "metadata": {},
   "outputs": [],
   "source": [
    "# criando o modelo\n",
    "moveis = gp.Model()"
   ]
  },
  {
   "cell_type": "code",
   "execution_count": null,
   "id": "8ca13b68",
   "metadata": {},
   "outputs": [],
   "source": [
    "# criando as variaveis\n",
    "#x1 refere-se a cadeiras\n",
    "#x2 refere-se a mesas\n",
    "#x1 = moveis.addVar(name=\"x1\")\n",
    "#x2 = moveis.addVar(name=\"x2\")\n",
    "x1 = moveis.addVar(vtype=GRB.INTEGER,name=\"x1\")\n",
    "x2 = moveis.addVar(vtype=GRB.INTEGER,name=\"x2\")"
   ]
  },
  {
   "cell_type": "code",
   "execution_count": null,
   "id": "f39e20df",
   "metadata": {},
   "outputs": [],
   "source": [
    "# definindo função objetivo\n",
    "moveis.setObjective(45*x1 + 80*x2,GRB.MAXIMIZE)"
   ]
  },
  {
   "cell_type": "code",
   "execution_count": null,
   "id": "c5a705c5",
   "metadata": {},
   "outputs": [],
   "source": [
    "# adicionar as restrições\n",
    "con1 = moveis.addConstr(5*x1 + 20*x2 <= 400, \"mogno\")\n",
    "con2 = moveis.addConstr(10*x1 + 15*x2 <= 450, \"mao-de-obra\")"
   ]
  },
  {
   "cell_type": "code",
   "execution_count": null,
   "id": "fbef89bc",
   "metadata": {},
   "outputs": [],
   "source": [
    "# salvando modelo\n",
    "moveis.write(\"moveis.lp\")"
   ]
  },
  {
   "cell_type": "code",
   "execution_count": null,
   "id": "6c39c8d2",
   "metadata": {},
   "outputs": [],
   "source": [
    "moveis.optimize()"
   ]
  },
  {
   "cell_type": "code",
   "execution_count": null,
   "id": "15078ecb",
   "metadata": {},
   "outputs": [],
   "source": [
    "for v in moveis.getVars():\n",
    "    print(v.varName, v.x)"
   ]
  },
  {
   "cell_type": "code",
   "execution_count": null,
   "id": "e762d180",
   "metadata": {},
   "outputs": [],
   "source": [
    "print(\"Receita = \", moveis.objVal)"
   ]
  },
  {
   "cell_type": "code",
   "execution_count": null,
   "id": "b6238f1b",
   "metadata": {},
   "outputs": [],
   "source": []
  },
  {
   "cell_type": "markdown",
   "id": "5a01e2d5",
   "metadata": {},
   "source": [
    "## Problema de atribuição"
   ]
  },
  {
   "cell_type": "code",
   "execution_count": null,
   "id": "a56cfc3e",
   "metadata": {},
   "outputs": [],
   "source": [
    "# conjuntos: recursos e trabalhos\n",
    "I = ['Carlos', 'Jonas', 'Monica']\n",
    "J = ['Cientista', 'Desenvolvedor', 'Arquiteto']"
   ]
  },
  {
   "cell_type": "code",
   "execution_count": null,
   "id": "fc6f218f",
   "metadata": {},
   "outputs": [],
   "source": [
    "# matriz percentual\n",
    "key, perc = gp.multidict({\n",
    "    ('Carlos', 'Cientista'): 53,\n",
    "    ('Carlos', 'Desenvolvedor'): 27,\n",
    "    ('Carlos', 'Arquiteto'): 13,\n",
    "    ('Jonas', 'Cientista'): 80,\n",
    "    ('Jonas', 'Desenvolvedor'): 47,\n",
    "    ('Jonas', 'Arquiteto'): 67,\n",
    "    ('Monica', 'Cientista'): 53,\n",
    "    ('Monica', 'Desenvolvedor'): 73,\n",
    "    ('Monica', 'Arquiteto'): 47\n",
    "})"
   ]
  },
  {
   "cell_type": "code",
   "execution_count": null,
   "id": "7c83cd83",
   "metadata": {},
   "outputs": [],
   "source": [
    "# definindo o modelo\n",
    "atribuicao = gp.Model(\"atribuicao\")"
   ]
  },
  {
   "cell_type": "code",
   "execution_count": null,
   "id": "1a7abdba",
   "metadata": {},
   "outputs": [],
   "source": [
    "# adicionando variaveis\n",
    "x = atribuicao.addVars(key, name='x')"
   ]
  },
  {
   "cell_type": "code",
   "execution_count": null,
   "id": "abec379d",
   "metadata": {},
   "outputs": [],
   "source": [
    "# adicionando restricoes de trabalho\n",
    "trabalho = atribuicao.addConstrs((x.sum('*',j) == 1 for j in J), 'trabalho')"
   ]
  },
  {
   "cell_type": "code",
   "execution_count": null,
   "id": "d91b4d3b",
   "metadata": {},
   "outputs": [],
   "source": [
    "# adicionando restricoes de recursos(pessoas)\n",
    "pessoa = atribuicao.addConstrs((x.sum(i,'*') <= 1 for i in I),'pessoa')"
   ]
  },
  {
   "cell_type": "code",
   "execution_count": null,
   "id": "e39b8cee",
   "metadata": {},
   "outputs": [],
   "source": [
    "# definindo a funcao objetivo\n",
    "atribuicao.setObjective(x.prod(perc),GRB.MAXIMIZE)"
   ]
  },
  {
   "cell_type": "code",
   "execution_count": null,
   "id": "b283c4ee",
   "metadata": {},
   "outputs": [],
   "source": [
    "atribuicao.write('atribuicao.lp')"
   ]
  },
  {
   "cell_type": "code",
   "execution_count": null,
   "id": "d383ad82",
   "metadata": {},
   "outputs": [],
   "source": [
    "atribuicao.optimize()"
   ]
  },
  {
   "cell_type": "code",
   "execution_count": null,
   "id": "ca521020",
   "metadata": {},
   "outputs": [],
   "source": [
    "#imprimindo solucao\n",
    "for var in atribuicao.getVars():\n",
    "    if abs(var.x) > 1e-6:\n",
    "        print(var.varName, '=', var.x)"
   ]
  },
  {
   "cell_type": "code",
   "execution_count": null,
   "id": "ffde5e54",
   "metadata": {},
   "outputs": [],
   "source": [
    "# imprimindo valor objetivo\n",
    "print('Percentual total =', atribuicao.objVal)"
   ]
  },
  {
   "cell_type": "code",
   "execution_count": null,
   "id": "b2e18661",
   "metadata": {},
   "outputs": [],
   "source": []
  }
 ],
 "metadata": {
  "kernelspec": {
   "display_name": "Python 3 (ipykernel)",
   "language": "python",
   "name": "python3"
  },
  "language_info": {
   "codemirror_mode": {
    "name": "ipython",
    "version": 3
   },
   "file_extension": ".py",
   "mimetype": "text/x-python",
   "name": "python",
   "nbconvert_exporter": "python",
   "pygments_lexer": "ipython3",
   "version": "3.8.10"
  }
 },
 "nbformat": 4,
 "nbformat_minor": 5
}
