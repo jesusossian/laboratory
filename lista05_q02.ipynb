{
 "cells": [
  {
   "cell_type": "code",
   "execution_count": 2,
   "id": "30e45f7f",
   "metadata": {},
   "outputs": [],
   "source": [
    "import numpy as np"
   ]
  },
  {
   "cell_type": "markdown",
   "id": "4dc2ef46",
   "metadata": {},
   "source": [
    "## item a)"
   ]
  },
  {
   "cell_type": "markdown",
   "id": "8cfbfcb2",
   "metadata": {},
   "source": [
    "$\n",
    "\\begin{align*}\n",
    "\\min \\ & 3 x_1 + 2 x_2 \\\\\n",
    "& x_1 + 3 x_2 - x_3 = 9 \\\\\n",
    "& 5 x_1 + 6 x_2 - x_4 = 30 \\\\\n",
    "& x_1 + 2 x_2 - x_5 = 8 \\\\\n",
    "& x_j \\geq 0, \\ j = 1, \\ldots, 5\n",
    "\\end{align*}\n",
    "$"
   ]
  },
  {
   "cell_type": "code",
   "execution_count": 3,
   "id": "52d7f2b6",
   "metadata": {},
   "outputs": [],
   "source": [
    "# instancia\n",
    "\n",
    "a1 = np.array([1,5,1])\n",
    "a2 = np.array([3,6,2])\n",
    "a3 = np.array([-1,0,0])\n",
    "a4 = np.array([0,-1,0])\n",
    "a5 = np.array([0,0,-1])\n",
    "\n",
    "b = np.array([9,30,8])\n",
    "\n",
    "c1 = 3\n",
    "c2 = 2\n",
    "c3 = 0\n",
    "c4 = 0\n",
    "c5 = 0"
   ]
  },
  {
   "cell_type": "code",
   "execution_count": 4,
   "id": "21870eea",
   "metadata": {},
   "outputs": [],
   "source": [
    "# base\n",
    "\n",
    "aB1 = a2\n",
    "aB2 = a3\n",
    "aB3 = a5\n",
    "\n",
    "cB1 = c2\n",
    "cB2 = c3\n",
    "cB3 = c5\n",
    "\n",
    "# não base\n",
    "\n",
    "aN1 = a1\n",
    "    aN2 = a4\n",
    "\n",
    "cN1 = c1\n",
    "cN2 = c4"
   ]
  },
  {
   "cell_type": "code",
   "execution_count": 5,
   "id": "8fc39165",
   "metadata": {},
   "outputs": [
    {
     "name": "stdout",
     "output_type": "stream",
     "text": [
      "B =  [[ 3 -1  0]\n",
      " [ 6  0  0]\n",
      " [ 2  0 -1]]\n",
      "cB =  [2 0 0]\n"
     ]
    }
   ],
   "source": [
    "B = np.array([aB1,aB2,aB3])\n",
    "\n",
    "N = np.array([aN1,aN2])\n",
    "\n",
    "B = B.T\n",
    "N = N.T\n",
    "\n",
    "print(\"B = \", B)\n",
    "\n",
    "cB = np.array([cB1,cB2,cB3])\n",
    "print(\"cB = \", cB)"
   ]
  },
  {
   "cell_type": "code",
   "execution_count": 6,
   "id": "9e4c2d18",
   "metadata": {},
   "outputs": [
    {
     "name": "stdout",
     "output_type": "stream",
     "text": [
      "detB =  -6.0\n",
      "iB =  [[ 0.     0.167  0.   ]\n",
      " [-1.     0.5   -0.   ]\n",
      " [-0.     0.333 -1.   ]]\n"
     ]
    }
   ],
   "source": [
    "# inversa de B\n",
    "\n",
    "detB = np.linalg.det(B)\n",
    "print(\"detB = \", np.round(detB,3))\n",
    "\n",
    "if (detB != 0):\n",
    "    iB = np.linalg.inv(B)\n",
    "    print(\"iB = \", np.round(iB,3))\n",
    "else:\n",
    "    print(\"B não possui inversa!\")"
   ]
  },
  {
   "cell_type": "code",
   "execution_count": 7,
   "id": "866c89db",
   "metadata": {},
   "outputs": [
    {
     "name": "stdout",
     "output_type": "stream",
     "text": [
      "xB =  [5. 6. 2.]\n",
      "B é primal viável\n",
      "z =  10.0\n"
     ]
    }
   ],
   "source": [
    "# solução\n",
    "\n",
    "xB = iB.dot(b.T)\n",
    "print(\"xB = \", np.round(xB,2))\n",
    "\n",
    "temp = 0\n",
    "for x in xB:\n",
    "    if x < 0:\n",
    "        temp += 1\n",
    "        print(\"B não é primal viável!\")\n",
    "        break\n",
    "\n",
    "if temp == 0:\n",
    "    print(\"B é primal viável\")\n",
    "    z = cB.dot(xB)\n",
    "    print(\"z = \", np.round(z,2))"
   ]
  },
  {
   "cell_type": "code",
   "execution_count": 8,
   "id": "8f4c13f2",
   "metadata": {},
   "outputs": [
    {
     "name": "stdout",
     "output_type": "stream",
     "text": [
      "mu =  [0.   0.33 0.  ]\n",
      "crN1 =  -1.33\n",
      "crN2 =  -0.33\n",
      "B é dual viável\n"
     ]
    }
   ],
   "source": [
    "# custos reduzidos\n",
    "\n",
    "mu = cB.dot(iB)\n",
    "print(\"mu = \", np.round(mu,2))\n",
    "\n",
    "crN1 = mu.dot(aN1.T) - cN1 \n",
    "print(\"crN1 = \", np.round(crN1,2))\n",
    "\n",
    "crN2 = mu.dot(aN2.T) - cN2 \n",
    "print(\"crN2 = \", np.round(crN2,2))\n",
    "\n",
    "if (crN1 < 0 and crN2 < 0):\n",
    "    print(\"B é dual viável\")\n",
    "else:\n",
    "    print(\"B não é dual viável\")"
   ]
  },
  {
   "cell_type": "markdown",
   "id": "5ce263c2",
   "metadata": {},
   "source": [
    "Como $B$ é primal viável e dual viável para o problema, $B$ é uma base ótima para o problema."
   ]
  },
  {
   "cell_type": "markdown",
   "id": "ce334157",
   "metadata": {},
   "source": [
    "## item b)"
   ]
  },
  {
   "cell_type": "markdown",
   "id": "5aef8015",
   "metadata": {},
   "source": [
    "$\n",
    "\\begin{align*}\n",
    "\\min \\ & 3 x_1 + 2 x_2 \\\\\n",
    "& x_1 + 3 x_2 - x_3 = 9 \\\\\n",
    "& 5 x_1 + 6 x_2 - x_4 = 30 \\\\\n",
    "& x_1 + 2 x_2 - x_5 = 8 \\\\\n",
    "& 3 x_1 + x_2 - x_6 = 6 \\\\\n",
    "& x_j \\geq 0, \\ j = 1, \\ldots, 5\n",
    "\\end{align*}\n",
    "$"
   ]
  },
  {
   "cell_type": "code",
   "execution_count": 10,
   "id": "7ba04519",
   "metadata": {},
   "outputs": [],
   "source": [
    "# instância\n",
    "\n",
    "a1 = np.array([1,5,1,3])\n",
    "a2 = np.array([3,6,2,1])\n",
    "a3 = np.array([-1,0,0,0])\n",
    "a4 = np.array([0,-1,0,0])\n",
    "a5 = np.array([0,0,-1,0])\n",
    "a6 = np.array([0,0,0,-1])\n",
    "\n",
    "b = np.array([9,30,8,6])\n",
    "\n",
    "c1 = 3\n",
    "c2 = 2\n",
    "c3 = 0\n",
    "c4 = 0\n",
    "c5 = 0\n",
    "c6 = 0"
   ]
  },
  {
   "cell_type": "code",
   "execution_count": 11,
   "id": "18063017",
   "metadata": {},
   "outputs": [],
   "source": [
    "# base\n",
    "aB1 = a2\n",
    "aB2 = a3\n",
    "aB3 = a5\n",
    "aB4 = a6\n",
    "\n",
    "cB1 = c2\n",
    "cB2 = c3\n",
    "cB3 = c5\n",
    "cB4 = c6\n",
    "\n",
    "# não base\n",
    "aN1 = a1\n",
    "aN2 = a4\n",
    "\n",
    "cN1 = c1\n",
    "cN2 = c4"
   ]
  },
  {
   "cell_type": "code",
   "execution_count": 12,
   "id": "87c555eb",
   "metadata": {},
   "outputs": [
    {
     "name": "stdout",
     "output_type": "stream",
     "text": [
      "B =  [[ 3 -1  0  0]\n",
      " [ 6  0  0  0]\n",
      " [ 2  0 -1  0]\n",
      " [ 1  0  0 -1]]\n",
      "cB =  [2 0 0 0]\n"
     ]
    }
   ],
   "source": [
    "B = np.array([aB1,aB2,aB3,aB4])\n",
    "\n",
    "N = np.array([aN1,aN2])\n",
    "\n",
    "B = B.T\n",
    "N = N.T\n",
    "\n",
    "print(\"B = \", B)\n",
    "\n",
    "cB = np.array([cB1,cB2,cB3,cB4])\n",
    "print(\"cB = \", cB)"
   ]
  },
  {
   "cell_type": "code",
   "execution_count": 13,
   "id": "83f932e1",
   "metadata": {},
   "outputs": [
    {
     "name": "stdout",
     "output_type": "stream",
     "text": [
      "detB =  6.0\n",
      "iB =  [[ 0.     0.167  0.     0.   ]\n",
      " [-1.     0.5   -0.    -0.   ]\n",
      " [-0.     0.333 -1.    -0.   ]\n",
      " [-0.     0.167 -0.    -1.   ]]\n"
     ]
    }
   ],
   "source": [
    "# inversa de B\n",
    "\n",
    "detB = np.linalg.det(B)\n",
    "print(\"detB = \", np.round(detB,3))\n",
    "\n",
    "if (detB != 0):\n",
    "    iB = np.linalg.inv(B)\n",
    "    print(\"iB = \", np.round(iB,3))\n",
    "else:\n",
    "    print(\"B não possui inversa!\")"
   ]
  },
  {
   "cell_type": "code",
   "execution_count": 14,
   "id": "10801ac5",
   "metadata": {},
   "outputs": [
    {
     "name": "stdout",
     "output_type": "stream",
     "text": [
      "xB =  [ 5.  6.  2. -1.]\n",
      "B não é primal viável!\n"
     ]
    }
   ],
   "source": [
    "# solução\n",
    "\n",
    "xB = iB.dot(b.T)\n",
    "print(\"xB = \", np.round(xB,2))\n",
    "\n",
    "temp = 0\n",
    "for x in xB:\n",
    "    if x < 0:\n",
    "        temp += 1\n",
    "        print(\"B não é primal viável!\")\n",
    "        break\n",
    "\n",
    "if temp == 0:\n",
    "    print(\"B é primal viável\")\n",
    "    z = cB.dot(xB)\n",
    "    print(\"z = \", np.round(z,2))"
   ]
  },
  {
   "cell_type": "code",
   "execution_count": 15,
   "id": "872f124c",
   "metadata": {},
   "outputs": [
    {
     "name": "stdout",
     "output_type": "stream",
     "text": [
      "mu =  [0.   0.33 0.   0.  ]\n",
      "crN1 =  -1.33\n",
      "crN2 =  -0.33\n",
      "B é dual viável\n"
     ]
    }
   ],
   "source": [
    "# custos reduzidos\n",
    "\n",
    "mu = cB.dot(iB)\n",
    "print(\"mu = \", np.round(mu,2))\n",
    "\n",
    "crN1 = mu.dot(aN1.T) - cN1 \n",
    "print(\"crN1 = \", np.round(crN1,2))\n",
    "\n",
    "crN2 = mu.dot(aN2.T) - cN2 \n",
    "print(\"crN2 = \", np.round(crN2,2))\n",
    "\n",
    "if (crN1 < 0 and crN2 < 0):\n",
    "    print(\"B é dual viável\")\n",
    "else:\n",
    "    print(\"B não é dual viável\")"
   ]
  },
  {
   "cell_type": "markdown",
   "id": "439be33e",
   "metadata": {},
   "source": [
    "## $x_6$ sairá da base"
   ]
  },
  {
   "cell_type": "code",
   "execution_count": 16,
   "id": "87d561f4",
   "metadata": {},
   "outputs": [
    {
     "name": "stdout",
     "output_type": "stream",
     "text": [
      "yB4 =  [-2.16666667 -0.16666667]\n"
     ]
    }
   ],
   "source": [
    "# escolha do item a entrar na base\n",
    "\n",
    "# Y = B^{-1} N\n",
    "\n",
    "# Y = iB.dot(N)\n",
    "# print(\"Y = \", Y)\n",
    "\n",
    "yB4 = iB[3].dot(N)\n",
    "print(\"yB4 = \", yB4)"
   ]
  },
  {
   "cell_type": "markdown",
   "id": "930df169",
   "metadata": {},
   "source": [
    "$\n",
    "\\min_{j \\in J} \\left\\{ \\frac{z_j - c_j}{y_{kj}} \\ : \\ y_{kj} < 0 \\right\\}\n",
    "$"
   ]
  },
  {
   "cell_type": "code",
   "execution_count": 17,
   "id": "ca0c4fa5",
   "metadata": {},
   "outputs": [
    {
     "name": "stdout",
     "output_type": "stream",
     "text": [
      "0.62\n",
      "2.0\n",
      "0.62\n"
     ]
    }
   ],
   "source": [
    "#l =  min_{j \\in J} {(z_j - c_j)/y_{kj} : y_{kj} < 0}\n",
    "# onde k é o indice da coluna que sairá da base e l é o indice coluna que entrará na base \n",
    "\n",
    "# a coluna a1 entrará na base na próxima iteração\n",
    "# a coluna a6 sairá na base na próxima iteração\n",
    "\n",
    "v1 = crN1/yB4[0]\n",
    "v2 = crN2/yB4[1]\n",
    "print(np.round(v1,2))\n",
    "print(np.round(v2,2))\n",
    "\n",
    "v = min(v1,v2)\n",
    "print(np.round(v,2))"
   ]
  },
  {
   "cell_type": "markdown",
   "id": "2fd302e9",
   "metadata": {},
   "source": [
    "### nova base"
   ]
  },
  {
   "cell_type": "code",
   "execution_count": 18,
   "id": "48ba06c5",
   "metadata": {},
   "outputs": [],
   "source": [
    "# instância\n",
    "\n",
    "aB1 = a2\n",
    "aB2 = a3\n",
    "aB3 = a5\n",
    "aB4 = a1\n",
    "\n",
    "cB1 = c2\n",
    "cB2 = c3\n",
    "cB3 = c5\n",
    "cB4 = c1\n",
    "\n",
    "# não base\n",
    "aN1 = a6\n",
    "aN2 = a4\n",
    "\n",
    "cN1 = c6\n",
    "cN2 = c4"
   ]
  },
  {
   "cell_type": "code",
   "execution_count": 19,
   "id": "d50a8625",
   "metadata": {},
   "outputs": [
    {
     "name": "stdout",
     "output_type": "stream",
     "text": [
      "B =  [[ 3 -1  0  1]\n",
      " [ 6  0  0  5]\n",
      " [ 2  0 -1  1]\n",
      " [ 1  0  0  3]]\n",
      "cB =  [2 0 0 3]\n"
     ]
    }
   ],
   "source": [
    "# nova base\n",
    "\n",
    "B = np.array([aB1,aB2,aB3,aB4])\n",
    "\n",
    "N = np.array([aN1,aN2])\n",
    "\n",
    "B = B.T\n",
    "N = N.T\n",
    "\n",
    "print(\"B = \", B)\n",
    "\n",
    "cB = np.array([cB1,cB2,cB3,cB4])\n",
    "print(\"cB = \", cB)"
   ]
  },
  {
   "cell_type": "code",
   "execution_count": 20,
   "id": "478bd0f5",
   "metadata": {},
   "outputs": [
    {
     "name": "stdout",
     "output_type": "stream",
     "text": [
      "detB =  -13.0\n",
      "iB =  [[ 0.     0.231  0.    -0.385]\n",
      " [-1.     0.615 -0.    -0.692]\n",
      " [-0.     0.385 -1.    -0.308]\n",
      " [ 0.    -0.077  0.     0.462]]\n"
     ]
    }
   ],
   "source": [
    "# inversa de B\n",
    "\n",
    "detB = np.linalg.det(B)\n",
    "print(\"detB = \", np.round(detB,3))\n",
    "\n",
    "if (detB != 0):\n",
    "    iB = np.linalg.inv(B)\n",
    "    print(\"iB = \", np.round(iB,3))\n",
    "else:\n",
    "    print(\"B não possui inversa!\")"
   ]
  },
  {
   "cell_type": "code",
   "execution_count": 22,
   "id": "ba551024",
   "metadata": {},
   "outputs": [
    {
     "name": "stdout",
     "output_type": "stream",
     "text": [
      "xB =  [4.62 5.31 1.69 0.46]\n",
      "B é primal viável\n",
      "z =  10.62\n"
     ]
    }
   ],
   "source": [
    "# solução\n",
    "\n",
    "xB = iB.dot(b.T)\n",
    "print(\"xB = \", np.round(xB,2))\n",
    "\n",
    "temp = 0\n",
    "for x in xB:\n",
    "    if x < 0:\n",
    "        temp += 1\n",
    "        print(\"B não é primal viável!\")\n",
    "        break\n",
    "\n",
    "if temp == 0:\n",
    "    print(\"B é primal viável\")\n",
    "    z = cB.dot(xB)\n",
    "    print(\"z = \", np.round(z,2))"
   ]
  },
  {
   "cell_type": "markdown",
   "id": "6b7a6a40",
   "metadata": {},
   "source": [
    "Temos que $B$ é uma base primal viável. Como $B$ também é dual viável, $B$ é uma base ótima para o problema."
   ]
  },
  {
   "cell_type": "code",
   "execution_count": null,
   "id": "f473ebc3",
   "metadata": {},
   "outputs": [],
   "source": []
  }
 ],
 "metadata": {
  "kernelspec": {
   "display_name": "Python 3 (ipykernel)",
   "language": "python",
   "name": "python3"
  },
  "language_info": {
   "codemirror_mode": {
    "name": "ipython",
    "version": 3
   },
   "file_extension": ".py",
   "mimetype": "text/x-python",
   "name": "python",
   "nbconvert_exporter": "python",
   "pygments_lexer": "ipython3",
   "version": "3.8.10"
  }
 },
 "nbformat": 4,
 "nbformat_minor": 5
}
