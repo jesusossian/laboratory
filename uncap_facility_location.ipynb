{
 "cells": [
  {
   "cell_type": "code",
   "execution_count": 1,
   "id": "7d94d6ea",
   "metadata": {},
   "outputs": [],
   "source": [
    "# importando bibliotecas\n",
    "import gurobipy as gp\n",
    "from gurobipy import GRB"
   ]
  },
  {
   "cell_type": "markdown",
   "id": "ed57cd4d",
   "metadata": {},
   "source": [
    "# Uncapacitated facility location problem\n",
    "\n",
    "Considere a formulação do problema de localização de facilidades não capacitado.\n",
    "\n",
    "$\n",
    "\\begin{align*}\n",
    "\\min \\ & \\sum_{i \\in M} \\sum_{j \\in N} c_{ij} x_{ij} + \\sum_{j \\in N} f_j y_j \\\\\n",
    "& \\sum_{j \\in N} x_{ij} = 1 \\ \\mbox{ for } i=1, \\ldots, m \\\\\n",
    "& \\sum_{i \\in M} x_{ij} \\leq m \\cdot y_j \\mbox{ for } j \\in N \\\\\n",
    "& x_{ij} \\geq 0 \\mbox{ for } i \\in M, j \\in N \\\\\n",
    "& y_j \\in \\{ 0, 1 \\} \\mbox{ for } j \\in N\n",
    "\\end{align*}\n",
    "$\n",
    "\n",
    "Resolva uma instância do uncapacitated facility problem onde $f_j$ é o custo do depósito $j$ aberto, e $c_{ij}$ é o custo da satisfação da demanda de todos os clientes $i$'s pelo depósito $j$, com \n",
    "\n",
    "* número de clientes: 6\n",
    "\n",
    "* número de depósitos: 5\n",
    "\n",
    "* custos fixo:\n",
    "\n",
    "$\n",
    "f = [4,3,4,4,7]\n",
    "$\n",
    "\n",
    "* custo de transporte:\n",
    "\n",
    "$\n",
    "c = \n",
    "\\left[\n",
    "\\begin{array}{ccccc}\n",
    "12 & 13 & 6 & 0 & 1 \\\\\n",
    "8 & 4 & 9 & 1 & 2 \\\\\n",
    "2 & 6 & 6 & 0 & 1 \\\\\n",
    "3 & 5 & 2 & 1 & 8 \\\\\n",
    "8 & 0 & 5 & 10 & 8 \\\\\n",
    "2 & 0 & 3 & 4 & 1\n",
    "\\end{array}\n",
    "\\right]\n",
    "$"
   ]
  },
  {
   "cell_type": "markdown",
   "id": "0279e5cc",
   "metadata": {},
   "source": [
    "## Dados"
   ]
  },
  {
   "cell_type": "code",
   "execution_count": 2,
   "id": "297b5e9a",
   "metadata": {},
   "outputs": [],
   "source": [
    "# dimensões\n",
    "m = 6\n",
    "n = 5\n",
    "\n",
    "# custos fixo\n",
    "f = [4, 3, 4, 4, 7]\n",
    "\n",
    "# custo de transporte\n",
    "c = [[12, 13, 6, 0, 1],\n",
    "     [8, 4, 9, 1, 2],\n",
    "     [2, 6, 6, 0, 1],\n",
    "     [3, 5, 2, 1, 8],\n",
    "     [8, 0, 5, 10, 8],\n",
    "     [2, 0, 3, 4, 1]]\n",
    "\n",
    "# conjuntos\n",
    "N = range(n)\n",
    "M = range(m)"
   ]
  },
  {
   "cell_type": "markdown",
   "id": "71e67f97",
   "metadata": {},
   "source": [
    "## Formulação MIP"
   ]
  },
  {
   "cell_type": "code",
   "execution_count": 3,
   "id": "e8ceec5c",
   "metadata": {},
   "outputs": [
    {
     "name": "stdout",
     "output_type": "stream",
     "text": [
      "Academic license - for non-commercial use only - expires 2023-01-08\n",
      "Using license file /opt/gurobi912/gurobi.lic\n"
     ]
    }
   ],
   "source": [
    "# criando o modelo\n",
    "model = gp.Model(\"ufl\")\n",
    "\n",
    "# definindo a variável binária y\n",
    "y = model.addVars(n,vtype=GRB.BINARY,obj=f,name=\"y\")\n",
    "\n",
    "# definindo a variável de produção x\n",
    "x = model.addVars(m,n,obj=c,name=\"x\")\n",
    "\n",
    "# restrição de demanda\n",
    "model.addConstrs((x.sum(i) == 1 for i in M), \"demanda\")\n",
    "\n",
    "# restrição link entre y e x\n",
    "model.addConstrs((x.sum('*', j) <= m*y[j] for j in N ), \"limite\")\n",
    "\n",
    "# problema de minimização\n",
    "model.modelSense = GRB.MINIMIZE\n",
    "\n",
    "# escrevendo o modelo\n",
    "model.write('facility.lp')"
   ]
  },
  {
   "cell_type": "markdown",
   "id": "b1d0613c",
   "metadata": {},
   "source": [
    "## Definindo os parametros"
   ]
  },
  {
   "cell_type": "code",
   "execution_count": 4,
   "id": "3d71aa5b",
   "metadata": {},
   "outputs": [
    {
     "name": "stdout",
     "output_type": "stream",
     "text": [
      "Changed value of parameter TimeLimit to 60.0\n",
      "   Prev: inf  Min: 0.0  Max: inf  Default: inf\n",
      "Changed value of parameter method to 1\n",
      "   Prev: -1  Min: -1  Max: 5  Default: -1\n",
      "Changed value of parameter Threads to 1\n",
      "   Prev: 0  Min: 0  Max: 1024  Default: 0\n"
     ]
    }
   ],
   "source": [
    "# configurando parametros\n",
    "model.Params.TimeLimit = 60 # define tempo limite\n",
    "model.Params.method = 1\n",
    "model.Params.Threads = 1"
   ]
  },
  {
   "cell_type": "markdown",
   "id": "55760c75",
   "metadata": {},
   "source": [
    "## Resolvendo o problema"
   ]
  },
  {
   "cell_type": "code",
   "execution_count": 5,
   "id": "146a2511",
   "metadata": {},
   "outputs": [
    {
     "name": "stdout",
     "output_type": "stream",
     "text": [
      "Gurobi Optimizer version 9.1.2 build v9.1.2rc0 (linux64)\n",
      "Thread count: 4 physical cores, 8 logical processors, using up to 1 threads\n",
      "Optimize a model with 11 rows, 35 columns and 65 nonzeros\n",
      "Model fingerprint: 0x8463997b\n",
      "Variable types: 30 continuous, 5 integer (5 binary)\n",
      "Coefficient statistics:\n",
      "  Matrix range     [1e+00, 6e+00]\n",
      "  Objective range  [1e+00, 1e+01]\n",
      "  Bounds range     [1e+00, 1e+00]\n",
      "  RHS range        [1e+00, 1e+00]\n",
      "Presolve time: 0.01s\n",
      "Presolved: 11 rows, 35 columns, 65 nonzeros\n",
      "Variable types: 30 continuous, 5 integer (5 binary)\n",
      "\n",
      "Root relaxation: objective 5.666667e+00, 2 iterations, 0.00 seconds\n",
      "\n",
      "    Nodes    |    Current Node    |     Objective Bounds      |     Work\n",
      " Expl Unexpl |  Obj  Depth IntInf | Incumbent    BestBd   Gap | It/Node Time\n",
      "\n",
      "     0     0    5.66667    0    2          -    5.66667      -     -    0s\n",
      "H    0     0                       9.0000000    5.66667  37.0%     -    0s\n",
      "     0     0     cutoff    0         9.00000    9.00000  0.00%     -    0s\n",
      "\n",
      "Explored 1 nodes (3 simplex iterations) in 0.02 seconds\n",
      "Thread count was 1 (of 8 available processors)\n",
      "\n",
      "Solution count 1: 9 \n",
      "\n",
      "Optimal solution found (tolerance 1.00e-04)\n",
      "Best objective 9.000000000000e+00, best bound 9.000000000000e+00, gap 0.0000%\n"
     ]
    }
   ],
   "source": [
    "# resolvendo o problema\n",
    "model.optimize()"
   ]
  },
  {
   "cell_type": "markdown",
   "id": "1da3cea8",
   "metadata": {},
   "source": [
    "## Imprimindo Solução MIP"
   ]
  },
  {
   "cell_type": "code",
   "execution_count": 6,
   "id": "4edd7507",
   "metadata": {},
   "outputs": [
    {
     "name": "stdout",
     "output_type": "stream",
     "text": [
      "Valor ótimo: 9\n",
      "y[1] = 1\n",
      "y[3] = 1\n",
      "x[0,3] = 1\n",
      "x[1,3] = 1\n",
      "x[2,3] = 1\n",
      "x[3,3] = 1\n",
      "x[4,1] = 1\n",
      "x[5,1] = 1\n",
      "Tempo:  0.03\n"
     ]
    }
   ],
   "source": [
    "if model.status == GRB.OPTIMAL:\n",
    "    print('Valor ótimo: %g' % model.objVal)\n",
    "    for j in model.getVars():\n",
    "        if j.x > 0:\n",
    "            print('%s = %g' % (j.varName, j.x))\n",
    "else:\n",
    "    print('Otimização finalizou com status %d' % (model.status))\n",
    "    \n",
    "print('Tempo: ', round(model.Runtime,2))"
   ]
  },
  {
   "cell_type": "code",
   "execution_count": 7,
   "id": "a764dbec",
   "metadata": {},
   "outputs": [
    {
     "name": "stdout",
     "output_type": "stream",
     "text": [
      "O modelo é um MIP\n"
     ]
    }
   ],
   "source": [
    "# verificando se o modelo é MIP\n",
    "if model.isMIP == 1:\n",
    "    print('O modelo é um MIP')\n",
    "else:\n",
    "    print('O modelo não é um MIP')"
   ]
  },
  {
   "cell_type": "code",
   "execution_count": 8,
   "id": "c62acc29",
   "metadata": {},
   "outputs": [],
   "source": [
    "# relaxando a variáveis inteiras\n",
    "for v in model.getVars():\n",
    "    if v.vType != GRB.CONTINUOUS:\n",
    "        v.vType = GRB.CONTINUOUS"
   ]
  },
  {
   "cell_type": "code",
   "execution_count": 9,
   "id": "4f7f4649",
   "metadata": {},
   "outputs": [
    {
     "name": "stdout",
     "output_type": "stream",
     "text": [
      "Gurobi Optimizer version 9.1.2 build v9.1.2rc0 (linux64)\n",
      "Thread count: 4 physical cores, 8 logical processors, using up to 1 threads\n",
      "Optimize a model with 11 rows, 35 columns and 65 nonzeros\n",
      "Model fingerprint: 0x487a44f7\n",
      "Coefficient statistics:\n",
      "  Matrix range     [1e+00, 6e+00]\n",
      "  Objective range  [1e+00, 1e+01]\n",
      "  Bounds range     [1e+00, 1e+00]\n",
      "  RHS range        [1e+00, 1e+00]\n",
      "Presolve time: 0.00s\n",
      "Presolved: 11 rows, 35 columns, 65 nonzeros\n",
      "\n",
      "Iteration    Objective       Primal Inf.    Dual Inf.      Time\n",
      "       0    2.0000000e+00   7.500000e-01   0.000000e+00      0s\n",
      "       2    5.6666667e+00   0.000000e+00   0.000000e+00      0s\n",
      "\n",
      "Solved in 2 iterations and 0.01 seconds\n",
      "Optimal objective  5.666666667e+00\n"
     ]
    }
   ],
   "source": [
    "# resolvendo o problema relaxado\n",
    "model.optimize()"
   ]
  },
  {
   "cell_type": "markdown",
   "id": "4b9d6e26",
   "metadata": {},
   "source": [
    "## Imprimindo solução da relaxação linear"
   ]
  },
  {
   "cell_type": "code",
   "execution_count": 10,
   "id": "e66a0396",
   "metadata": {},
   "outputs": [
    {
     "name": "stdout",
     "output_type": "stream",
     "text": [
      "Valor ótimo: 5.66667\n",
      "y[1] = 0.333333\n",
      "y[3] = 0.666667\n",
      "x[0,3] = 1\n",
      "x[1,3] = 1\n",
      "x[2,3] = 1\n",
      "x[3,3] = 1\n",
      "x[4,1] = 1\n",
      "x[5,1] = 1\n",
      "tempo:  0.01\n"
     ]
    }
   ],
   "source": [
    "# imprimindo solução\n",
    "if model.status == GRB.OPTIMAL:\n",
    "    print('Valor ótimo: %g' % model.objVal)\n",
    "    for j in model.getVars():\n",
    "        if j.x > 0:\n",
    "            print('%s = %g' % (j.varName, j.x))\n",
    "else:\n",
    "    print('Otimização finalizou com status %d' % (model.status))\n",
    "    \n",
    "print('tempo: ', round(model.Runtime,2))"
   ]
  },
  {
   "cell_type": "markdown",
   "id": "3c501584",
   "metadata": {},
   "source": [
    "## Tarefa\n",
    "\n",
    "\n",
    "1. Implemente uma heurística gulosa para encontrar uma solução viável para o problema. Sugestão: Para servir cada cliente utilize o depósito que serve o respectivo cliente com o menor custo.\n",
    "\n",
    "2. Implemente uma estratégia de busca local vista em sala de aula: Encontrar uma vizinhança próximo da solução viável inicial e em seguida buscar uma nova solução nesta vizinhança. Se a nova solução for melhor que a solução anterior, a nova solução passa a ser a solução viável para o problema e o procedimento se repete. Caso contrário a solução viável atual é um ótimo local com respeito a vizinhança atual, e a heurı́stica termina."
   ]
  },
  {
   "cell_type": "code",
   "execution_count": null,
   "id": "901c808d",
   "metadata": {},
   "outputs": [],
   "source": []
  },
  {
   "cell_type": "code",
   "execution_count": null,
   "id": "61f3f064",
   "metadata": {},
   "outputs": [],
   "source": []
  }
 ],
 "metadata": {
  "kernelspec": {
   "display_name": "Python 3 (ipykernel)",
   "language": "python",
   "name": "python3"
  },
  "language_info": {
   "codemirror_mode": {
    "name": "ipython",
    "version": 3
   },
   "file_extension": ".py",
   "mimetype": "text/x-python",
   "name": "python",
   "nbconvert_exporter": "python",
   "pygments_lexer": "ipython3",
   "version": "3.8.10"
  }
 },
 "nbformat": 4,
 "nbformat_minor": 5
}
