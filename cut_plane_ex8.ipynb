{
 "cells": [
  {
   "cell_type": "code",
   "execution_count": null,
   "id": "98080655",
   "metadata": {},
   "outputs": [],
   "source": [
    "# importando bibliotecas\n",
    "import gurobipy as gp\n",
    "from gurobipy import GRB"
   ]
  },
  {
   "cell_type": "markdown",
   "id": "d5873c52",
   "metadata": {},
   "source": [
    "## MIP"
   ]
  },
  {
   "cell_type": "code",
   "execution_count": null,
   "id": "1184ba79",
   "metadata": {},
   "outputs": [],
   "source": [
    "# criando modelo\n",
    "model = gp.Model(\"cut_plane\")\n",
    "\n",
    "# adicionando variáveis\n",
    "x1 = model.addVar(vtype=GRB.INTEGER, name=\"x1\")\n",
    "x2 = model.addVar(vtype=GRB.INTEGER, name=\"x2\")\n",
    "\n",
    "# definindo a função objetivo\n",
    "model.setObjective(4*x1 - x2, GRB.MAXIMIZE)\n",
    "\n",
    "# adicionando restrições\n",
    "model.addConstr(7*x1 - 2*x2 <= 14, \"restricao1\")\n",
    "model.addConstr(x2 <= 3, \"restricao2\")\n",
    "model.addConstr(2*x1 - 2*x2 <= 3, \"restricao3\")\n",
    "\n",
    "# resolvendo o modelo\n",
    "model.optimize()"
   ]
  },
  {
   "cell_type": "code",
   "execution_count": null,
   "id": "260721ef",
   "metadata": {},
   "outputs": [],
   "source": [
    "# imprimindo a solução ótima\n",
    "print('solução ótima = %g' % model.objVal)\n",
    "\n",
    "# imprimindo as soluções\n",
    "for v in model.getVars():\n",
    "    print('%s = %g' % (v.varName, v.x))"
   ]
  },
  {
   "cell_type": "code",
   "execution_count": null,
   "id": "426d6551",
   "metadata": {},
   "outputs": [],
   "source": [
    "# salvando modelo mip\n",
    "model.write('mip.lp')"
   ]
  },
  {
   "cell_type": "code",
   "execution_count": null,
   "id": "7772a3c3",
   "metadata": {},
   "outputs": [],
   "source": [
    "if model.isMIP == 1:\n",
    "    print('O modelo é um mip!')\n",
    "else:\n",
    "    print('O modelo é um lp!')"
   ]
  },
  {
   "cell_type": "code",
   "execution_count": null,
   "id": "9366fb3a",
   "metadata": {},
   "outputs": [],
   "source": [
    "# relaxando a variáveis inteiras\n",
    "for v in model.getVars():\n",
    "    if v.vType != GRB.CONTINUOUS:\n",
    "        v.vType = GRB.CONTINUOUS\n",
    "        \n",
    "model.update()"
   ]
  },
  {
   "cell_type": "code",
   "execution_count": null,
   "id": "e5f99e54",
   "metadata": {},
   "outputs": [],
   "source": [
    "if model.isMIP == 1:\n",
    "    print('O modelo é um mip!')\n",
    "else:\n",
    "    print('O modelo é um lp!')"
   ]
  },
  {
   "cell_type": "markdown",
   "id": "7257cd64",
   "metadata": {},
   "source": [
    "## Adicionando planos de cortes"
   ]
  },
  {
   "cell_type": "code",
   "execution_count": null,
   "id": "b9a10d88",
   "metadata": {},
   "outputs": [],
   "source": [
    "# resolvendo a relaxação linear do problema\n",
    "model.optimize()"
   ]
  },
  {
   "cell_type": "code",
   "execution_count": null,
   "id": "ed9c4391",
   "metadata": {},
   "outputs": [],
   "source": [
    "# imprimindo a solução ótima da relaxação linear\n",
    "print('solução ótima = %g' % model.objVal)\n",
    "\n",
    "# imprimindo as soluções da relaxação linear\n",
    "for v in model.getVars():\n",
    "    print('%s = %g' % (v.varName, v.x))"
   ]
  },
  {
   "cell_type": "code",
   "execution_count": null,
   "id": "b376666d",
   "metadata": {},
   "outputs": [],
   "source": [
    "# adicionando a restrição x_1 <= 2 se ela for violada pela solução\n",
    "if (x1.X > 2):\n",
    "    print(\"uma restrição foi adicionada!\")\n",
    "    model.addConstr(x1 <= 2, \"restricao4\") # adiciona a restrição ao modelo\n",
    "    model.update() # atualiza o modelo\n",
    "    model.write('lp_rest4.lp') # salvando novo modelo\n",
    "    model.optimize() # resolve o modelo\n",
    "else:\n",
    "    print(\"nenhuma restrição foi adicionada\")"
   ]
  },
  {
   "cell_type": "code",
   "execution_count": null,
   "id": "162bf0ab",
   "metadata": {},
   "outputs": [],
   "source": [
    "# imprimindo a solução ótima\n",
    "print('Solução ótima = %g' % model.objVal)\n",
    "\n",
    "# imprimindo as soluções\n",
    "for v in model.getVars():\n",
    "    print('%s = %g' % (v.varName, v.x))"
   ]
  },
  {
   "cell_type": "code",
   "execution_count": null,
   "id": "3f1f904d",
   "metadata": {},
   "outputs": [],
   "source": [
    "# adicionando a restrição x_1 <= 3 se ela for violada pela última solução\n",
    "if (x1.X > 3):\n",
    "    print(\"uma restrição foi adicionada!\")\n",
    "    model.addConstr(x1 <= 3, \"restricao5\")\n",
    "    model.update()\n",
    "    model.write('lp_rest.lp')\n",
    "    model.optimize()\n",
    "else:\n",
    "    print(\"nenhuma restrição foi adicionada\")"
   ]
  },
  {
   "cell_type": "code",
   "execution_count": null,
   "id": "9566bbd1",
   "metadata": {},
   "outputs": [],
   "source": [
    "# imprimindo a solução ótima\n",
    "print('Solução ótima = %g' % model.objVal)\n",
    "\n",
    "# imprimindo as soluções\n",
    "for v in model.getVars():\n",
    "    print('%s = %g' % (v.varName, v.x))"
   ]
  },
  {
   "cell_type": "code",
   "execution_count": null,
   "id": "1e0f05cd",
   "metadata": {},
   "outputs": [],
   "source": [
    "# adicionando nova restrição x1 - x2 <= 1 se ele for violada pela última solução\n",
    "if (x1.X - x2.X > 1):\n",
    "    print(\"uma restrição foi adicionada!\")\n",
    "    model.addConstr(x1 - x2 <= 1, \"restricao6\")\n",
    "    model.update() # atualiza o modelo\n",
    "    model.write('lp_rest4_rest5.lp') # salva novo modelo\n",
    "    model.optimize() # resolve o modelo\n",
    "else:\n",
    "    print(\"nenhuma restrição foi adicionada!\")"
   ]
  },
  {
   "cell_type": "code",
   "execution_count": null,
   "id": "bb6201f9",
   "metadata": {},
   "outputs": [],
   "source": [
    "# imprimindo a solução ótima\n",
    "print('Solução ótima = %g' % model.objVal)\n",
    "\n",
    "# imprimindo as soluções\n",
    "for v in model.getVars():\n",
    "    print('%s = %g' % (v.varName, v.x))"
   ]
  },
  {
   "cell_type": "code",
   "execution_count": null,
   "id": "e93bba1a",
   "metadata": {},
   "outputs": [],
   "source": []
  }
 ],
 "metadata": {
  "kernelspec": {
   "display_name": "Python 3 (ipykernel)",
   "language": "python",
   "name": "python3"
  },
  "language_info": {
   "codemirror_mode": {
    "name": "ipython",
    "version": 3
   },
   "file_extension": ".py",
   "mimetype": "text/x-python",
   "name": "python",
   "nbconvert_exporter": "python",
   "pygments_lexer": "ipython3",
   "version": "3.8.10"
  }
 },
 "nbformat": 4,
 "nbformat_minor": 5
}
