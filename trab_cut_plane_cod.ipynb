{
 "cells": [
  {
   "cell_type": "code",
   "execution_count": 86,
   "id": "c14d8e1e",
   "metadata": {},
   "outputs": [],
   "source": [
    "import gurobipy as gp\n",
    "from gurobipy import GRB"
   ]
  },
  {
   "cell_type": "markdown",
   "id": "eb949aff",
   "metadata": {},
   "source": [
    "## Problema de dimensionamento de lotes capacitado"
   ]
  },
  {
   "cell_type": "markdown",
   "id": "2e9f8f43",
   "metadata": {},
   "source": [
    "Considere a formulação do problema da dimensionamento de lotes capacitado.\n",
    "\n",
    "$\n",
    "\\begin{align*}\n",
    "\\min \\ & \\sum_{t=1}^{n} p_{t} x_{t} + \\sum_{t=1}^{n} h_t s_t + \\sum_{t=1}^{n} f_t y_t \\\\\n",
    "& s_{t-1} + x_{t} = d_{t} + s_{t} \\ \\mbox{ para } t=1, \\ldots, n \\\\\n",
    "& x_{t} \\leq C \\cdot y_t \\mbox{ para } t=1, \\ldots n \\\\\n",
    "& s_{0} = s_{n} = 0 \\\\\n",
    "& s \\in \\mathbb{R}_{+}^{n+1} \\\\\n",
    "& x \\in \\mathbb{R}_{+}^{n} \\\\\n",
    "& y \\in \\mathbb{B}^{n}\n",
    "\\end{align*}\n",
    "$"
   ]
  },
  {
   "cell_type": "markdown",
   "id": "d7822d07",
   "metadata": {},
   "source": [
    "Considere a instância a seguir com 4 períodos."
   ]
  },
  {
   "cell_type": "code",
   "execution_count": 87,
   "id": "3c309719",
   "metadata": {},
   "outputs": [],
   "source": [
    "# demanda\n",
    "d = [2, 4, 5, 1]\n",
    "\n",
    "# custo de produção\n",
    "p = [3, 3, 3, 3]\n",
    "\n",
    "# capacidade\n",
    "C = 4\n",
    "\n",
    "# custo de estoque\n",
    "h = [1, 2, 1, 1]\n",
    "\n",
    "# custo fixo de cada fábrica\n",
    "f = [12, 20, 16, 8]\n",
    "\n",
    "# quantidade de períodos\n",
    "N = range(len(d))"
   ]
  },
  {
   "cell_type": "markdown",
   "id": "0e8c6332",
   "metadata": {},
   "source": [
    "Considere a desigualdade\n",
    "$$\n",
    "x_t \\leq d_t y_t \\mbox{ para } t=1, \\ldots, n\n",
    "$$\n",
    "e a desigualdade\n",
    "$$\n",
    "\\sum_{i=1}^{t} y_{i} \\geq \\left\\lceil  \\dfrac{\\sum_{i=1}^{t} d_{i}}{C} \\right\\rceil \\mbox{ para } t=1, \\ldots, n\n",
    "$$\n",
    "as quais são desigualdades válidas para o problema o problema de dimensionamento de lotes capacitado."
   ]
  },
  {
   "cell_type": "markdown",
   "id": "14172974",
   "metadata": {},
   "source": [
    "Implemente um algoritmo de plano de cortes usando estas duas desigualdades."
   ]
  },
  {
   "cell_type": "code",
   "execution_count": 82,
   "id": "a8b931a5",
   "metadata": {},
   "outputs": [],
   "source": [
    "# criando modelo\n",
    "model = gp.Model(\"cls\")\n",
    "\n",
    "# variáveis e função objetivo\n",
    "y = model.addVars(N,vtype=GRB.BINARY,obj=f,name=\"y\")\n",
    "x = model.addVars(N, obj=p, name=\"x\")\n",
    "s = model.addVars(N, obj=h, name=\"s\")\n",
    "\n",
    "# sentido da função objetivo\n",
    "model.modelSense = GRB.MINIMIZE\n",
    "\n",
    "# restrições\n",
    "for t in N:\n",
    "    if t == 0:\n",
    "        model.addConstr((x[t] == d[t] + s[t]))\n",
    "    else:\n",
    "        model.addConstr((s[t-1] + x[t] == d[t] + s[t]))\n",
    "\n",
    "model.addConstrs((x[t] <=  C * y[t] for t in N))\n",
    "\n",
    "s[0] = 0\n",
    "\n",
    "s[len(d)] = 0\n",
    "\n",
    "# salva o modelo\n",
    "model.write('uls.lp')"
   ]
  },
  {
   "cell_type": "code",
   "execution_count": 83,
   "id": "66287a7c",
   "metadata": {},
   "outputs": [
    {
     "name": "stdout",
     "output_type": "stream",
     "text": [
      "Gurobi Optimizer version 9.1.2 build v9.1.2rc0 (linux64)\n",
      "Thread count: 4 physical cores, 8 logical processors, using up to 8 threads\n",
      "Optimize a model with 8 rows, 12 columns and 19 nonzeros\n",
      "Model fingerprint: 0x2903916b\n",
      "Variable types: 8 continuous, 4 integer (4 binary)\n",
      "Coefficient statistics:\n",
      "  Matrix range     [1e+00, 4e+00]\n",
      "  Objective range  [1e+00, 2e+01]\n",
      "  Bounds range     [1e+00, 1e+00]\n",
      "  RHS range        [1e+00, 5e+00]\n",
      "Presolve removed 8 rows and 12 columns\n",
      "Presolve time: 0.00s\n",
      "Presolve: All rows and columns removed\n",
      "\n",
      "Explored 0 nodes (0 simplex iterations) in 0.01 seconds\n",
      "Thread count was 1 (of 8 available processors)\n",
      "\n",
      "Solution count 1: 91 \n",
      "\n",
      "Optimal solution found (tolerance 1.00e-04)\n",
      "Best objective 9.100000000000e+01, best bound 9.100000000000e+01, gap 0.0000%\n"
     ]
    }
   ],
   "source": [
    "# resolve o problema\n",
    "model.optimize()"
   ]
  },
  {
   "cell_type": "code",
   "execution_count": 79,
   "id": "266bff7b",
   "metadata": {},
   "outputs": [
    {
     "name": "stdout",
     "output_type": "stream",
     "text": [
      "Obj = 91\n",
      "y[0] = 1\n",
      "y[1] = 1\n",
      "y[2] = 1\n",
      "y[3] = 0\n",
      "x[0] = 4\n",
      "x[1] = 4\n",
      "x[2] = 4\n",
      "x[3] = 0\n",
      "s[0] = 2\n",
      "s[1] = 2\n",
      "s[2] = 1\n",
      "s[3] = 0\n"
     ]
    }
   ],
   "source": [
    "# imprimindo a solução ótima\n",
    "print('Obj = %g' % model.objVal)\n",
    "\n",
    "# imprimindo as soluções\n",
    "for v in model.getVars():\n",
    "    print('%s = %g' % (v.varName, v.x))"
   ]
  },
  {
   "cell_type": "code",
   "execution_count": 80,
   "id": "4ceed92e",
   "metadata": {},
   "outputs": [
    {
     "name": "stdout",
     "output_type": "stream",
     "text": [
      "Gurobi Optimizer version 9.1.2 build v9.1.2rc0 (linux64)\n",
      "Thread count: 4 physical cores, 8 logical processors, using up to 8 threads\n",
      "Optimize a model with 8 rows, 12 columns and 19 nonzeros\n",
      "Model fingerprint: 0xeb104cbf\n",
      "Coefficient statistics:\n",
      "  Matrix range     [1e+00, 4e+00]\n",
      "  Objective range  [1e+00, 2e+01]\n",
      "  Bounds range     [1e+00, 1e+00]\n",
      "  RHS range        [1e+00, 5e+00]\n",
      "Presolve removed 6 rows and 8 columns\n",
      "Presolve time: 0.01s\n",
      "Presolved: 2 rows, 4 columns, 5 nonzeros\n",
      "\n",
      "Iteration    Objective       Primal Inf.    Dual Inf.      Time\n",
      "       0    7.9930000e+01   5.035000e-01   0.000000e+00      0s\n",
      "       3    8.5000000e+01   0.000000e+00   0.000000e+00      0s\n",
      "\n",
      "Solved in 3 iterations and 0.01 seconds\n",
      "Optimal objective  8.500000000e+01\n",
      "y[0] = 1.0\n",
      "y[1] = 0.75\n",
      "y[2] = 1.0\n",
      "y[3] = 0.25\n",
      "x[0] = 4.0\n",
      "x[1] = 3.0\n",
      "x[2] = 4.0\n",
      "x[3] = 1.0\n",
      "s[0] = 2.0\n",
      "s[1] = 1.0\n",
      "s[2] = 0.0\n",
      "s[3] = 0.0\n",
      "opt = 85.0\n"
     ]
    }
   ],
   "source": [
    "# relaxando a variáveis inteiras do MIP\n",
    "for v in model.getVars():\n",
    "    if v.vType != GRB.CONTINUOUS:\n",
    "        v.vType = GRB.CONTINUOUS\n",
    "\n",
    "model.update()\n",
    "\n",
    "# resolve o problema\n",
    "model.optimize()\n",
    "\n",
    "# imprime a solução ótima\n",
    "for v in model.getVars():\n",
    "    print(v.varName,'=', v.x)\n",
    "    \n",
    "# imprime o valor ótimo\n",
    "print('opt =', model.objVal)"
   ]
  },
  {
   "cell_type": "code",
   "execution_count": null,
   "id": "414e4885",
   "metadata": {},
   "outputs": [],
   "source": []
  }
 ],
 "metadata": {
  "kernelspec": {
   "display_name": "Python 3 (ipykernel)",
   "language": "python",
   "name": "python3"
  },
  "language_info": {
   "codemirror_mode": {
    "name": "ipython",
    "version": 3
   },
   "file_extension": ".py",
   "mimetype": "text/x-python",
   "name": "python",
   "nbconvert_exporter": "python",
   "pygments_lexer": "ipython3",
   "version": "3.8.10"
  }
 },
 "nbformat": 4,
 "nbformat_minor": 5
}
