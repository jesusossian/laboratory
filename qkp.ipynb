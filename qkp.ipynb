{
 "cells": [
  {
   "cell_type": "code",
   "execution_count": 1,
   "id": "969c5fb5",
   "metadata": {},
   "outputs": [],
   "source": [
    "import sys\n",
    "import numpy as np\n",
    "import gurobipy as gp\n",
    "from gurobipy import GRB"
   ]
  },
  {
   "cell_type": "code",
   "execution_count": 2,
   "id": "e1e1d961",
   "metadata": {},
   "outputs": [],
   "source": [
    "def qknapsack(datafile):\n",
    "  with open(datafile, 'r') as file: linhas = file.readlines()\n",
    "\n",
    "  linhas = [a.strip() for a in linhas] # remove linha vazia inicial e elimina os \"\\n\" de cada linha\n",
    "\n",
    "  n = int(linhas[0]) # ler o tamanho da instancia\n",
    "\n",
    "  d = np.fromstring(linhas[1], dtype=int, sep = ' ') # ler a diagonal da matriz\n",
    "\n",
    "  p = np.zeros((n,n), dtype=int) # define a matriz\n",
    "\n",
    "  for i in range(n): # preenche a diagonal\n",
    "    p[i][i] = d[i]\n",
    "\n",
    "  for i in range(n-1): # preenche o resto da matriz\n",
    "    linha = np.fromstring(linhas[i+2], dtype=int, sep = ' ')\n",
    "    for j in range(n-(i+1)):\n",
    "      p[i][j+i+1] = linha[j]\n",
    "      p[j+i+1][i] = p[i][j+i+1]\n",
    "\n",
    "  c = int(linhas[n+2]) # ler a capacidade\n",
    "\n",
    "  w = np.fromstring(linhas[n+3], dtype=int, sep = ' ') # ler os pesos\n",
    "\n",
    "  m = gp.Model(\"qknapsack\") #cria o modelo\n",
    "\n",
    "  x = []\n",
    "  for j in range(0, n):\n",
    "    x.append(m.addVar(vtype=GRB.BINARY,name=\"x_{}\".format(j+1)))\n",
    "\n",
    "  #obj = QuadExpr()\n",
    "  obj = None\n",
    "  for i in range(0, n):\n",
    "    obj += p[i][i] * x[i]\n",
    "    for j in range(i+1, n):\n",
    "      obj += 2*p[i][j] * x[i] * x[j]\n",
    "\n",
    "  m.setObjective(obj, GRB.MAXIMIZE)\n",
    "\n",
    "  #constr = LinExpr()\n",
    "  constr = None\n",
    "  for j in range(0, n):\n",
    "    constr += (w[j] * x[j])\n",
    "  m.addConstr(constr <= c)\n",
    "\n",
    "  m.write(\"qknapsack.lp\")\n",
    "\n",
    "  m.optimize()\n",
    "\n",
    "  print('Obj: %g' % obj.getValue())"
   ]
  },
  {
   "cell_type": "code",
   "execution_count": 8,
   "id": "30fd2b3b",
   "metadata": {},
   "outputs": [
    {
     "ename": "FileNotFoundError",
     "evalue": "[Errno 2] No such file or directory: '-f'",
     "output_type": "error",
     "traceback": [
      "\u001b[0;31m---------------------------------------------------------------------------\u001b[0m",
      "\u001b[0;31mFileNotFoundError\u001b[0m                         Traceback (most recent call last)",
      "\u001b[0;32m/tmp/ipykernel_358840/1563929355.py\u001b[0m in \u001b[0;36m<module>\u001b[0;34m\u001b[0m\n\u001b[1;32m      7\u001b[0m   \u001b[0mdatafile\u001b[0m \u001b[0;34m=\u001b[0m \u001b[0msys\u001b[0m\u001b[0;34m.\u001b[0m\u001b[0margv\u001b[0m\u001b[0;34m[\u001b[0m\u001b[0;36m1\u001b[0m\u001b[0;34m]\u001b[0m\u001b[0;34m\u001b[0m\u001b[0;34m\u001b[0m\u001b[0m\n\u001b[1;32m      8\u001b[0m \u001b[0;34m\u001b[0m\u001b[0m\n\u001b[0;32m----> 9\u001b[0;31m   \u001b[0mqknapsack\u001b[0m\u001b[0;34m(\u001b[0m\u001b[0mdatafile\u001b[0m\u001b[0;34m)\u001b[0m\u001b[0;34m\u001b[0m\u001b[0;34m\u001b[0m\u001b[0m\n\u001b[0m",
      "\u001b[0;32m/tmp/ipykernel_358840/1240115572.py\u001b[0m in \u001b[0;36mqknapsack\u001b[0;34m(datafile)\u001b[0m\n\u001b[1;32m      1\u001b[0m \u001b[0;32mdef\u001b[0m \u001b[0mqknapsack\u001b[0m\u001b[0;34m(\u001b[0m\u001b[0mdatafile\u001b[0m\u001b[0;34m)\u001b[0m\u001b[0;34m:\u001b[0m\u001b[0;34m\u001b[0m\u001b[0;34m\u001b[0m\u001b[0m\n\u001b[0;32m----> 2\u001b[0;31m   \u001b[0;32mwith\u001b[0m \u001b[0mopen\u001b[0m\u001b[0;34m(\u001b[0m\u001b[0mdatafile\u001b[0m\u001b[0;34m,\u001b[0m \u001b[0;34m'r'\u001b[0m\u001b[0;34m)\u001b[0m \u001b[0;32mas\u001b[0m \u001b[0mfile\u001b[0m\u001b[0;34m:\u001b[0m \u001b[0mlinhas\u001b[0m \u001b[0;34m=\u001b[0m \u001b[0mfile\u001b[0m\u001b[0;34m.\u001b[0m\u001b[0mreadlines\u001b[0m\u001b[0;34m(\u001b[0m\u001b[0;34m)\u001b[0m\u001b[0;34m\u001b[0m\u001b[0;34m\u001b[0m\u001b[0m\n\u001b[0m\u001b[1;32m      3\u001b[0m \u001b[0;34m\u001b[0m\u001b[0m\n\u001b[1;32m      4\u001b[0m   \u001b[0mlinhas\u001b[0m \u001b[0;34m=\u001b[0m \u001b[0;34m[\u001b[0m\u001b[0ma\u001b[0m\u001b[0;34m.\u001b[0m\u001b[0mstrip\u001b[0m\u001b[0;34m(\u001b[0m\u001b[0;34m)\u001b[0m \u001b[0;32mfor\u001b[0m \u001b[0ma\u001b[0m \u001b[0;32min\u001b[0m \u001b[0mlinhas\u001b[0m\u001b[0;34m]\u001b[0m \u001b[0;31m# remove linha vazia inicial e elimina os \"\\n\" de cada linha\u001b[0m\u001b[0;34m\u001b[0m\u001b[0;34m\u001b[0m\u001b[0m\n\u001b[1;32m      5\u001b[0m \u001b[0;34m\u001b[0m\u001b[0m\n",
      "\u001b[0;31mFileNotFoundError\u001b[0m: [Errno 2] No such file or directory: '-f'"
     ]
    }
   ],
   "source": [
    "if __name__ == \"__main__\":\n",
    "  datafile = \"100_100_1.txt\"\n",
    "\n",
    "#  if len(sys.argv) < 2:\n",
    "#    print(\"Default data file : \" + datafile)\n",
    "#  else:\n",
    "  datafile = sys.argv[1]\n",
    "\n",
    "  qknapsack(datafile)"
   ]
  },
  {
   "cell_type": "code",
   "execution_count": null,
   "id": "2f8cc860",
   "metadata": {},
   "outputs": [],
   "source": []
  }
 ],
 "metadata": {
  "kernelspec": {
   "display_name": "Python 3 (ipykernel)",
   "language": "python",
   "name": "python3"
  },
  "language_info": {
   "codemirror_mode": {
    "name": "ipython",
    "version": 3
   },
   "file_extension": ".py",
   "mimetype": "text/x-python",
   "name": "python",
   "nbconvert_exporter": "python",
   "pygments_lexer": "ipython3",
   "version": "3.8.10"
  }
 },
 "nbformat": 4,
 "nbformat_minor": 5
}
