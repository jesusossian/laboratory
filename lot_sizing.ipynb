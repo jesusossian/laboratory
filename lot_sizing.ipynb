{
 "cells": [
  {
   "cell_type": "code",
   "execution_count": 1,
   "id": "030ab7ad",
   "metadata": {},
   "outputs": [],
   "source": [
    "# importando bibliotecas\n",
    "import gurobipy as gp\n",
    "from gurobipy import GRB"
   ]
  },
  {
   "cell_type": "code",
   "execution_count": 2,
   "id": "b15490c1",
   "metadata": {},
   "outputs": [],
   "source": [
    "# demanda\n",
    "d = [2, 4, 5, 1]\n",
    "\n",
    "# custo de produção\n",
    "p = [3, 3, 3, 3]\n",
    "\n",
    "# custo de estoque\n",
    "h = [1, 2, 1, 1]\n",
    "\n",
    "# custo fixo de cada fábrica\n",
    "f = [12, 20, 16, 8]\n",
    "\n",
    "# quantidade de períodos\n",
    "N = range(len(d))"
   ]
  },
  {
   "cell_type": "code",
   "execution_count": 3,
   "id": "548c571b",
   "metadata": {},
   "outputs": [
    {
     "name": "stdout",
     "output_type": "stream",
     "text": [
      "range(0, 4)\n"
     ]
    }
   ],
   "source": [
    "print(N)"
   ]
  },
  {
   "cell_type": "code",
   "execution_count": 13,
   "id": "622fd4cc",
   "metadata": {},
   "outputs": [
    {
     "name": "stdout",
     "output_type": "stream",
     "text": [
      "Gurobi Optimizer version 9.1.2 build v9.1.2rc0 (linux64)\n",
      "Thread count: 4 physical cores, 8 logical processors, using up to 8 threads\n",
      "Optimize a model with 8 rows, 12 columns and 19 nonzeros\n",
      "Model fingerprint: 0xf0f804bd\n",
      "Variable types: 8 continuous, 4 integer (4 binary)\n",
      "Coefficient statistics:\n",
      "  Matrix range     [1e+00, 1e+02]\n",
      "  Objective range  [1e+00, 2e+01]\n",
      "  Bounds range     [1e+00, 1e+00]\n",
      "  RHS range        [1e+00, 5e+00]\n",
      "Presolve removed 2 rows and 2 columns\n",
      "Presolve time: 0.00s\n",
      "Presolved: 6 rows, 10 columns, 15 nonzeros\n",
      "Variable types: 7 continuous, 3 integer (3 binary)\n",
      "\n",
      "Root relaxation: objective 4.968000e+01, 7 iterations, 0.00 seconds\n",
      "\n",
      "    Nodes    |    Current Node    |     Objective Bounds      |     Work\n",
      " Expl Unexpl |  Obj  Depth IntInf | Incumbent    BestBd   Gap | It/Node Time\n",
      "\n",
      "     0     0   49.68000    0    3          -   49.68000      -     -    0s\n",
      "H    0     0                      92.0000000   49.68000  46.0%     -    0s\n",
      "H    0     0                      71.0000000   49.68000  30.0%     -    0s\n",
      "     0     0   68.16063    0    1   71.00000   68.16063  4.00%     -    0s\n",
      "H    0     0                      69.0000000   68.16063  1.22%     -    0s\n",
      "\n",
      "Cutting planes:\n",
      "  Gomory: 1\n",
      "  Implied bound: 5\n",
      "  Flow cover: 1\n",
      "\n",
      "Explored 1 nodes (11 simplex iterations) in 0.04 seconds\n",
      "Thread count was 8 (of 8 available processors)\n",
      "\n",
      "Solution count 3: 69 71 92 \n",
      "\n",
      "Optimal solution found (tolerance 1.00e-04)\n",
      "Best objective 6.900000000000e+01, best bound 6.900000000000e+01, gap 0.0000%\n"
     ]
    }
   ],
   "source": [
    "# criando modelo\n",
    "model = gp.Model(\"uls\")\n",
    "\n",
    "# variáveis e função objetivo\n",
    "y = model.addVars(N,vtype=GRB.BINARY,obj=f,name=\"y\")\n",
    "x = model.addVars(N, obj=p, name=\"x\")\n",
    "s = model.addVars(N, obj=h, name=\"s\")\n",
    "\n",
    "# sentido da função objetivo\n",
    "model.modelSense = GRB.MINIMIZE\n",
    "\n",
    "# restrições\n",
    "for t in N:\n",
    "    if t == 0:\n",
    "        model.addConstr((x[t] == d[t] + s[t]))\n",
    "    else:\n",
    "        model.addConstr((s[t-1] + x[t] == d[t] + s[t]))\n",
    "\n",
    "model.addConstrs((x[t] <=  100 * y[t] for t in N))\n",
    "\n",
    "s[0] = 0\n",
    "\n",
    "s[len(d)] = 0\n",
    "\n",
    "# salva o modelo\n",
    "model.write('uls.lp')"
   ]
  },
  {
   "cell_type": "code",
   "execution_count": null,
   "id": "0dccd9e2",
   "metadata": {},
   "outputs": [],
   "source": [
    "# resolve o problema\n",
    "model.optimize()"
   ]
  },
  {
   "cell_type": "code",
   "execution_count": 14,
   "id": "fa310e3d",
   "metadata": {},
   "outputs": [
    {
     "name": "stdout",
     "output_type": "stream",
     "text": [
      "Obj = 69\n",
      "y[0] = 1\n",
      "y[1] = 0\n",
      "y[2] = 1\n",
      "y[3] = 0\n",
      "x[0] = 6\n",
      "x[1] = 0\n",
      "x[2] = 6\n",
      "x[3] = 5.68434e-13\n",
      "s[0] = 4\n",
      "s[1] = 0\n",
      "s[2] = 1\n",
      "s[3] = 0\n"
     ]
    }
   ],
   "source": [
    "# imprimindo a solução ótima\n",
    "print('Obj = %g' % model.objVal)\n",
    "\n",
    "# imprimindo as soluções\n",
    "for v in model.getVars():\n",
    "    print('%s = %g' % (v.varName, v.x))"
   ]
  },
  {
   "cell_type": "code",
   "execution_count": null,
   "id": "f185fc64",
   "metadata": {},
   "outputs": [],
   "source": []
  }
 ],
 "metadata": {
  "kernelspec": {
   "display_name": "Python 3 (ipykernel)",
   "language": "python",
   "name": "python3"
  },
  "language_info": {
   "codemirror_mode": {
    "name": "ipython",
    "version": 3
   },
   "file_extension": ".py",
   "mimetype": "text/x-python",
   "name": "python",
   "nbconvert_exporter": "python",
   "pygments_lexer": "ipython3",
   "version": "3.8.10"
  }
 },
 "nbformat": 4,
 "nbformat_minor": 5
}
