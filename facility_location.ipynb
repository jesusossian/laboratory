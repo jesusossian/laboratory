{
 "cells": [
  {
   "cell_type": "code",
   "execution_count": 1,
   "id": "b384a0c9",
   "metadata": {},
   "outputs": [],
   "source": [
    "# Copyright 2020, Gurobi Optimization, LLC\n",
    "\n",
    "# Facility location: a company currently ships its product from 5 plants\n",
    "# to 4 warehouses. It is considering closing some plants to reduce\n",
    "# costs. What plant(s) should the company close, in order to minimize\n",
    "# transportation and fixed costs?\n",
    "#\n",
    "# Note that this example uses lists instead of dictionaries.  Since\n",
    "# it does not work with sparse data, lists are a reasonable option.\n",
    "#\n",
    "# Based on an example from Frontline Systems:\n",
    "#   http://www.solver.com/disfacility.htm\n",
    "# Used with permission."
   ]
  },
  {
   "cell_type": "code",
   "execution_count": 2,
   "id": "29898034",
   "metadata": {},
   "outputs": [],
   "source": [
    "import gurobipy as gp\n",
    "from gurobipy import GRB"
   ]
  },
  {
   "cell_type": "code",
   "execution_count": 3,
   "id": "5430371c",
   "metadata": {},
   "outputs": [],
   "source": [
    "# Warehouse demand in thousands of units\n",
    "demand = [15, 18, 14, 20]\n",
    "\n",
    "# Plant capacity in thousands of units\n",
    "capacity = [20, 22, 17, 19, 18]\n",
    "\n",
    "# Fixed costs for each plant\n",
    "fixedCosts = [12000, 15000, 17000, 13000, 16000]\n",
    "\n",
    "# Transportation costs per thousand units\n",
    "transCosts = [[4000, 2000, 3000, 2500, 4500],\n",
    "              [2500, 2600, 3400, 3000, 4000],\n",
    "              [1200, 1800, 2600, 4100, 3000],\n",
    "              [2200, 2600, 3100, 3700, 3200]]\n",
    "\n",
    "# Range of plants and warehouses\n",
    "plants = range(len(capacity))\n",
    "warehouses = range(len(demand))"
   ]
  },
  {
   "cell_type": "code",
   "execution_count": 4,
   "id": "b26376ec",
   "metadata": {},
   "outputs": [
    {
     "name": "stdout",
     "output_type": "stream",
     "text": [
      "Academic license - for non-commercial use only - expires 2022-09-29\n",
      "Using license file /opt/gurobi912/gurobi.lic\n"
     ]
    }
   ],
   "source": [
    "# Model\n",
    "m = gp.Model(\"facility\")"
   ]
  },
  {
   "cell_type": "code",
   "execution_count": 5,
   "id": "59cc45a4",
   "metadata": {},
   "outputs": [],
   "source": [
    "# Plant open decision variables: open[p] == 1 if plant p is open.\n",
    "open = m.addVars(plants,\n",
    "                 vtype=GRB.BINARY,\n",
    "                 obj=fixedCosts,\n",
    "                 name=\"open\")\n",
    "\n",
    "# Transportation decision variables: transport[w,p] captures the\n",
    "# optimal quantity to transport to warehouse w from plant p\n",
    "transport = m.addVars(warehouses, plants, obj=transCosts, name=\"trans\")\n",
    "\n",
    "# You could use Python looping constructs and m.addVar() to create\n",
    "# these decision variables instead.  The following would be equivalent\n",
    "# to the preceding two statements...\n",
    "#\n",
    "# open = []\n",
    "# for p in plants:\n",
    "#     open.append(m.addVar(vtype=GRB.BINARY,\n",
    "#                          obj=fixedCosts[p],\n",
    "#                          name=\"open[%d]\" % p))\n",
    "#\n",
    "# transport = []\n",
    "# for w in warehouses:\n",
    "#     transport.append([])\n",
    "#     for p in plants:\n",
    "#         transport[w].append(m.addVar(obj=transCosts[w][p],\n",
    "#                                      name=\"trans[%d,%d]\" % (w, p)))"
   ]
  },
  {
   "cell_type": "code",
   "execution_count": 6,
   "id": "99304ae4",
   "metadata": {},
   "outputs": [],
   "source": [
    "# The objective is to minimize the total fixed and variable costs\n",
    "m.modelSense = GRB.MINIMIZE"
   ]
  },
  {
   "cell_type": "code",
   "execution_count": 7,
   "id": "bf130854",
   "metadata": {},
   "outputs": [
    {
     "data": {
      "text/plain": [
       "{0: <gurobi.Constr *Awaiting Model Update*>,\n",
       " 1: <gurobi.Constr *Awaiting Model Update*>,\n",
       " 2: <gurobi.Constr *Awaiting Model Update*>,\n",
       " 3: <gurobi.Constr *Awaiting Model Update*>}"
      ]
     },
     "execution_count": 7,
     "metadata": {},
     "output_type": "execute_result"
    }
   ],
   "source": [
    "# Production constraints\n",
    "# Note that the right-hand limit sets the production to zero if the plant\n",
    "# is closed\n",
    "m.addConstrs(\n",
    "    (transport.sum('*', p) <= capacity[p]*open[p] for p in plants), \"Capacity\")\n",
    "\n",
    "# Using Python looping constructs, the preceding would be...\n",
    "#\n",
    "# for p in plants:\n",
    "#     m.addConstr(sum(transport[w][p] for w in warehouses)\n",
    "#                 <= capacity[p] * open[p], \"Capacity[%d]\" % p)\n",
    "\n",
    "# Demand constraints\n",
    "m.addConstrs(\n",
    "    (transport.sum(w) == demand[w] for w in warehouses),\n",
    "    \"Demand\")\n",
    "\n",
    "# ... and the preceding would be ...\n",
    "# for w in warehouses:\n",
    "#     m.addConstr(sum(transport[w][p] for p in plants) == demand[w],\n",
    "#                 \"Demand[%d]\" % w)\n"
   ]
  },
  {
   "cell_type": "code",
   "execution_count": 8,
   "id": "04b11aec",
   "metadata": {},
   "outputs": [],
   "source": [
    "# Save model\n",
    "m.write('facilityPY.lp')"
   ]
  },
  {
   "cell_type": "code",
   "execution_count": 9,
   "id": "8d8904ff",
   "metadata": {},
   "outputs": [
    {
     "name": "stdout",
     "output_type": "stream",
     "text": [
      "Initial guess:\n",
      "Closing plant 2\n",
      "\n"
     ]
    }
   ],
   "source": [
    "# Guess at the starting point: close the plant with the highest fixed costs;\n",
    "# open all others\n",
    "\n",
    "# First open all plants\n",
    "for p in plants:\n",
    "    open[p].start = 1.0\n",
    "\n",
    "# Now close the plant with the highest fixed cost\n",
    "print('Initial guess:')\n",
    "maxFixed = max(fixedCosts)\n",
    "for p in plants:\n",
    "    if fixedCosts[p] == maxFixed:\n",
    "        open[p].start = 0.0\n",
    "        print('Closing plant %s' % p)\n",
    "        break\n",
    "print('')"
   ]
  },
  {
   "cell_type": "code",
   "execution_count": 10,
   "id": "188de63c",
   "metadata": {},
   "outputs": [
    {
     "name": "stdout",
     "output_type": "stream",
     "text": [
      "Changed value of parameter method to 2\n",
      "   Prev: -1  Min: -1  Max: 5  Default: -1\n"
     ]
    }
   ],
   "source": [
    "# Use barrier to solve root relaxation\n",
    "m.Params.method = 2"
   ]
  },
  {
   "cell_type": "code",
   "execution_count": 11,
   "id": "c77a2c51",
   "metadata": {},
   "outputs": [
    {
     "name": "stdout",
     "output_type": "stream",
     "text": [
      "Gurobi Optimizer version 9.1.2 build v9.1.2rc0 (linux64)\n",
      "Thread count: 4 physical cores, 8 logical processors, using up to 8 threads\n",
      "Optimize a model with 9 rows, 25 columns and 45 nonzeros\n",
      "Model fingerprint: 0x36b45dc0\n",
      "Variable types: 20 continuous, 5 integer (5 binary)\n",
      "Coefficient statistics:\n",
      "  Matrix range     [1e+00, 2e+01]\n",
      "  Objective range  [1e+03, 2e+04]\n",
      "  Bounds range     [1e+00, 1e+00]\n",
      "  RHS range        [1e+01, 2e+01]\n",
      "\n",
      "User MIP start produced solution with objective 210500 (0.18s)\n",
      "Loaded user MIP start with objective 210500\n",
      "\n",
      "Presolve time: 0.00s\n",
      "Presolved: 9 rows, 25 columns, 45 nonzeros\n",
      "Variable types: 20 continuous, 5 integer (5 binary)\n",
      "Root barrier log...\n",
      "\n",
      "Ordering time: 0.00s\n",
      "\n",
      "Barrier statistics:\n",
      " AA' NZ     : 2.000e+01\n",
      " Factor NZ  : 4.500e+01\n",
      " Factor Ops : 2.850e+02 (less than 1 second per iteration)\n",
      " Threads    : 1\n",
      "\n",
      "                  Objective                Residual\n",
      "Iter       Primal          Dual         Primal    Dual     Compl     Time\n",
      "   0   7.94290841e+05 -2.24842916e+05  7.25e+00 3.75e+03  2.69e+04     0s\n",
      "   1   2.34432856e+05  7.59319096e+04  9.99e-16 7.28e-12  3.17e+03     0s\n",
      "   2   2.10232015e+05  1.89880475e+05  7.77e-16 3.64e-12  4.07e+02     0s\n",
      "   3   2.00964341e+05  1.98582137e+05  4.44e-15 3.64e-12  4.76e+01     0s\n",
      "   4   1.99878036e+05  1.99804970e+05  2.94e-13 3.64e-12  1.46e+00     0s\n",
      "   5   1.99833638e+05  1.99832960e+05  4.01e-13 3.64e-12  1.36e-02     0s\n",
      "   6   1.99833333e+05  1.99833333e+05  1.31e-14 7.28e-12  1.39e-08     0s\n",
      "   7   1.99833333e+05  1.99833333e+05  1.02e-14 3.64e-12  1.39e-14     0s\n",
      "\n",
      "Barrier solved model in 7 iterations and 0.42 seconds\n",
      "Optimal objective 1.99833333e+05\n",
      "\n",
      "\n",
      "Root relaxation: objective 1.998333e+05, 6 iterations, 0.08 seconds\n",
      "\n",
      "    Nodes    |    Current Node    |     Objective Bounds      |     Work\n",
      " Expl Unexpl |  Obj  Depth IntInf | Incumbent    BestBd   Gap | It/Node Time\n",
      "\n",
      "     0     0 199833.333    0    1 210500.000 199833.333  5.07%     -    0s\n",
      "     0     0 200252.941    0    1 210500.000 200252.941  4.87%     -    0s\n",
      "     0     0 208000.000    0    1 210500.000 208000.000  1.19%     -    0s\n",
      "\n",
      "Cutting planes:\n",
      "  MIR: 1\n",
      "  Flow cover: 3\n",
      "\n",
      "Explored 1 nodes (11 simplex iterations) in 0.45 seconds\n",
      "Thread count was 8 (of 8 available processors)\n",
      "\n",
      "Solution count 1: 210500 \n",
      "\n",
      "Optimal solution found (tolerance 1.00e-04)\n",
      "Best objective 2.105000000000e+05, best bound 2.105000000000e+05, gap 0.0000%\n"
     ]
    }
   ],
   "source": [
    "# Solve\n",
    "m.optimize()"
   ]
  },
  {
   "cell_type": "code",
   "execution_count": 12,
   "id": "61f9d5a3",
   "metadata": {},
   "outputs": [
    {
     "name": "stdout",
     "output_type": "stream",
     "text": [
      "\n",
      "TOTAL COSTS: 210500\n",
      "SOLUTION:\n",
      "Plant 0 open\n",
      "  Transport 14 units to warehouse 2\n",
      "  Transport 6 units to warehouse 3\n",
      "Plant 1 open\n",
      "  Transport 14 units to warehouse 0\n",
      "  Transport 8 units to warehouse 3\n",
      "Plant 2 closed!\n",
      "Plant 3 open\n",
      "  Transport 1 units to warehouse 0\n",
      "  Transport 18 units to warehouse 1\n",
      "Plant 4 open\n",
      "  Transport 6 units to warehouse 3\n"
     ]
    }
   ],
   "source": [
    "# Print solution\n",
    "print('\\nTOTAL COSTS: %g' % m.objVal)\n",
    "print('SOLUTION:')\n",
    "for p in plants:\n",
    "    if open[p].x > 0.99:\n",
    "        print('Plant %s open' % p)\n",
    "        for w in warehouses:\n",
    "            if transport[w, p].x > 0:\n",
    "                print('  Transport %g units to warehouse %s' %\n",
    "                      (transport[w, p].x, w))\n",
    "    else:\n",
    "        print('Plant %s closed!' % p)"
   ]
  },
  {
   "cell_type": "code",
   "execution_count": null,
   "id": "20148514",
   "metadata": {},
   "outputs": [],
   "source": []
  }
 ],
 "metadata": {
  "kernelspec": {
   "display_name": "Python 3 (ipykernel)",
   "language": "python",
   "name": "python3"
  },
  "language_info": {
   "codemirror_mode": {
    "name": "ipython",
    "version": 3
   },
   "file_extension": ".py",
   "mimetype": "text/x-python",
   "name": "python",
   "nbconvert_exporter": "python",
   "pygments_lexer": "ipython3",
   "version": "3.8.10"
  }
 },
 "nbformat": 4,
 "nbformat_minor": 5
}
