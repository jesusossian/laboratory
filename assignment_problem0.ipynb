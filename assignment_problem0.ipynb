{
 "cells": [
  {
   "cell_type": "markdown",
   "id": "2a26739b",
   "metadata": {},
   "source": [
    "## Problem description\n",
    "\n",
    "Consider a consulting company that has three open positions: Tester, Java Developer, and Architect. \n",
    "\n",
    "The three top candidates (resources) for the positions are: Carlos, Joe, and Monika. \n",
    "\n",
    "The consulting company administered competency tests to each candidate in order to assess their ability to perform each of the jobs. \n",
    "\n",
    "The results of these tests are called *matching scores*. \n",
    "\n",
    "Assume that only one candidate can be assigned to a job, and at most one job can be assigned to a candidate.\n",
    "\n",
    "The problem is to determine an assignment of resources and jobs such that each job is fulfilled, each resource is assigned to at most one job, and the total matching scores of the assignments is maximized.\n"
   ]
  },
  {
   "cell_type": "markdown",
   "id": "15cef5bf",
   "metadata": {},
   "source": [
    "## Mathematical optimization \n",
    "\n",
    "Mathematical optimization is a declarative approach where the modeler formulates an  optimization problem that captures the key features of a complex decision problem. \n",
    "\n",
    "The Gurobi Optimizer solves the mathematical optimization problem using state-of-the-art mathematics and computer science.\n",
    "\n",
    "A mathematical optimization model has five components:\n",
    "\n",
    "* Sets\n",
    "* Parameters\n",
    "* Decision variables\n",
    "* Constraints\n",
    "* Objective function(s)"
   ]
  },
  {
   "cell_type": "code",
   "execution_count": 12,
   "id": "643dcc39",
   "metadata": {},
   "outputs": [],
   "source": [
    "import gurobipy as gp\n",
    "from gurobipy import GRB"
   ]
  },
  {
   "cell_type": "markdown",
   "id": "da49f54d",
   "metadata": {},
   "source": [
    "## Resource Assignment Problem\n",
    "\n",
    "### Data\n",
    "The list $I$ contains the names of the three resources: Carlos, Joe, and Monika.\n",
    "\n",
    "The list $J$ contains the names of the job positions: Tester, Java Developer, and Architect.\n",
    "\n",
    "$i \\in I$: index and set of resources. The resource $i$ belongs to the set of resources $I$.\n",
    "\n",
    "$j \\in J$: index and set of jobs. The job $j$ belongs to the set of jobs $J$."
   ]
  },
  {
   "cell_type": "code",
   "execution_count": 13,
   "id": "fb45aa59",
   "metadata": {},
   "outputs": [],
   "source": [
    "# Resource and job sets\n",
    "I = ['Carlos', 'Joe', 'Monika']\n",
    "J = ['Tester', 'JavaDeveloper', 'Architect']"
   ]
  },
  {
   "cell_type": "markdown",
   "id": "355476b3",
   "metadata": {},
   "source": [
    "For each resource $i$ and job $j$, there is a corresponding matching score $s$. \n",
    "\n",
    "The matching score $s$ can only take values between 0 and 100. That is, $s_{i,j} \\in [0, 100]$ for all resources $i \\in I$ and jobs $j \\in J$. \n",
    "\n",
    "We use the Gurobi Python ``multidict`` function to initialize one or more dictionaries with a single statement. The function takes a dictionary as its argument. \n",
    "The keys represent the possible combinations of resources and jobs."
   ]
  },
  {
   "cell_type": "code",
   "execution_count": 14,
   "id": "91a61c1a",
   "metadata": {},
   "outputs": [],
   "source": [
    "# Matching score data\n",
    "combinations, scores = gp.multidict({\n",
    "    ('Carlos', 'Tester'): 53,\n",
    "    ('Carlos', 'JavaDeveloper'): 27,\n",
    "    ('Carlos', 'Architect'): 13,\n",
    "    ('Joe', 'Tester'): 80,\n",
    "    ('Joe', 'JavaDeveloper'): 47,\n",
    "    ('Joe', 'Architect'): 67,\n",
    "    ('Monika', 'Tester'): 53,\n",
    "    ('Monika', 'JavaDeveloper'): 73,\n",
    "    ('Monika', 'Architect'): 47\n",
    "})"
   ]
  },
  {
   "cell_type": "markdown",
   "id": "2b1c232a",
   "metadata": {},
   "source": [
    "The following constructor creates an empty ``Model`` object “m”. \n",
    "\n",
    "We specify the model name by passing the string \"RAP\" as an argument. \n",
    "\n",
    "The ``Model`` object “m” holds a single optimization problem. \n",
    "\n",
    "It consists of a set of variables, a set of constraints, and the objective function."
   ]
  },
  {
   "cell_type": "code",
   "execution_count": 15,
   "id": "25bf3b41",
   "metadata": {},
   "outputs": [],
   "source": [
    "# Declare and initialize model\n",
    "m = gp.Model('RAP')"
   ]
  },
  {
   "cell_type": "markdown",
   "id": "2e28138a",
   "metadata": {},
   "source": [
    "## Decision variables\n",
    "\n",
    "To solve this assignment problem, we need to identify which resource is assigned to which job. \n",
    "\n",
    "We introduce a decision variable for each possible assignment of resources to jobs. \n",
    "Therefore, we have 9 decision variables.\n",
    "\n",
    "The ``Model.addVars()`` method creates the decision variables for a ``Model`` object.\n",
    "This method returns a Gurobi ``tupledict`` object that contains the newly created variables. \n",
    "We supply the ``combinations`` object as the first argument to specify the variable indices. \n",
    "\n",
    "The ``name`` keyword is used to specify a name for the newly created decision variables. \n",
    "\n",
    "By default, variables are assumed to be non-negative."
   ]
  },
  {
   "cell_type": "code",
   "execution_count": 16,
   "id": "c4176287",
   "metadata": {},
   "outputs": [],
   "source": [
    "# Create decision variables for the RAP model\n",
    "x = m.addVars(combinations, name=\"assign\")"
   ]
  },
  {
   "cell_type": "markdown",
   "id": "f55c0ee5",
   "metadata": {},
   "source": [
    "## Job constraints\n",
    "\n",
    "These constraints need to ensure that each job is filled by exactly one resource.\n",
    "\n",
    "The job constraint for the Tester position requires that resource 1 (Carlos), resource 2 (Joe), or resource 3 (Monika) is assigned to this job. \n",
    "\n",
    "This corresponds to the following constraint.\n",
    "\n",
    "Constraint (Tester=1)\n",
    "\n",
    "$$\n",
    "x_{1,1} + x_{2,1} + x_{3,1} = 1\n",
    "$$\n",
    "\n",
    "Similarly, the constraints for the Java Developer and Architect positions can be defined as follows.\n",
    "\n",
    "Constraint (Java Developer = 2)\n",
    "\n",
    "$$\n",
    "x_{1,2} + x_{2,2} + x_{3,2} = 1\n",
    "$$\n",
    "\n",
    "Constraint (Architect = 3)\n",
    "\n",
    "$$\n",
    "x_{1,3} + x_{2,3} + x_{3,3} = 1\n",
    "$$\n",
    "\n",
    "In general, the constraint for the job Tester can defined as follows.\n",
    "\n",
    "$$\n",
    "x_{1,1} + x_{2,1} + x_{3,1} = \\sum_{i=1}^{3 } x_{i,1} =  \\sum_{i \\in I} x_{i,1} = 1\n",
    "$$\n",
    "\n",
    "All of the job constraints can be defined in a similarly succinct manner. \n",
    "For each job $j \\in J$, take the summation of the decision variables over all the resources. \n",
    "We can write the corresponding job constraint as follows.\n",
    "\n",
    "$$\n",
    "\\sum_{i \\in I} x_{i,j} = 1\n",
    "$$\n",
    "\n",
    "The ``Model.addConstrs()`` method of the Gurobi/Python API defines the job constraints of the ``Model`` object “m”. This method returns a Gurobi ``tupledict`` object that contains the job constraints. \n",
    "The first argument of this method, \"x.sum(‘*’, j)\", is the sum method and defines the LHS of the jobs constraints as follows:\n",
    "\n",
    "For each job $j$ in the set of jobs $J$, take the summation of the decision variables over all the resources. The $==$  defines an equality constraint, and the number \"1\" is the RHS of the constraints.\n",
    "These constraints are saying that exactly one resource should be assigned to each job.\n",
    "The second argument is the name of this type of constraints."
   ]
  },
  {
   "cell_type": "code",
   "execution_count": 17,
   "id": "dfbc46a3",
   "metadata": {},
   "outputs": [],
   "source": [
    "# Create job constraints\n",
    "jobs = m.addConstrs((x.sum('*',j) == 1 for j in J), name='job')"
   ]
  },
  {
   "cell_type": "markdown",
   "id": "43988612",
   "metadata": {},
   "source": [
    "## Resource constraints\n",
    "\n",
    "The constraints for the resources need to ensure that at most one job is assigned to each resource. \n",
    "That is, it is possible that not all the resources are assigned.\n",
    "\n",
    "For example, we want a constraint that requires Carlos to be assigned to at most one of the jobs: either job 1 (Tester), job 2 (Java Developer ), or job 3 (Architect). We can write this constraint as follows.\n",
    "\n",
    "Constraint (Carlos=1)\n",
    "\n",
    "$$\n",
    "x_{1, 1} + x_{1, 2} + x_{1, 3}  \\leq 1.\n",
    "$$\n",
    "\n",
    "This constraint is less or equal than 1 to allow the possibility that Carlos is not assigned to any job. Similarly, the constraints for the resources Joe and Monika can be defined as follows:\n",
    "\n",
    "Constraint (Joe=2) \n",
    "\n",
    "$$\n",
    "x_{2, 1} + x_{2, 2} + x_{2, 3}  \\leq 1.\n",
    "$$\n",
    "\n",
    "Constraint (Monika=3)\n",
    "\n",
    "$$\n",
    "x_{3, 1} + x_{3, 2} + x_{3, 3}  \\leq 1.\n",
    "$$\n",
    "\n",
    "Observe that the resource constraints are defined by the rows of the following table.\n",
    "\n",
    "The constraint for the resource Carlos can be defined as follows.\n",
    "\n",
    "$$\n",
    "x_{1, 1} + x_{1, 2} + x_{1, 3} = \\sum_{j=1}^{3 } x_{1,j} = \\sum_{j \\in J} x_{1,j} \\leq 1.\n",
    "$$\n",
    "\n",
    "Again, each of these constraints can be written in a succinct manner. For each resource $r \\in R$, take the summation of the decision variables over all the jobs. We can write the corresponding resource constraint as follows.\n",
    "\n",
    "$$\n",
    "\\sum_{j \\in J} x_{i,j} \\leq  1.\n",
    "$$\n",
    "\n",
    "The ``Model.addConstrs()`` method of the Gurobi/Python API defines the resource constraints of the ``Model`` object “m”. \n",
    "The first argument of this method, \"x.sum(r, ‘*’)\", is the sum method and defines the LHS of the resource constraints as follows: For each resource $r$ in the set of resources $R$, take the summation of the decision variables over all the jobs.\n",
    "The $<=$  defines a less or equal constraints, and the number “1” is the RHS of the constraints.\n",
    "These constraints are saying that each resource can be assigned to at most 1 job.\n",
    "The second argument is the name of this type of constraints.\n"
   ]
  },
  {
   "cell_type": "code",
   "execution_count": 18,
   "id": "869128de",
   "metadata": {},
   "outputs": [],
   "source": [
    "# Create resource constraints\n",
    "resources = m.addConstrs((x.sum(i,'*') <= 1 for i in I), name='resource')"
   ]
  },
  {
   "cell_type": "markdown",
   "id": "2ea07699",
   "metadata": {},
   "source": [
    "## Objective function\n",
    "\n",
    "The objective function is to maximize the total matching score of the assignments that satisfy the job and resource constraints. \n",
    "\n",
    "For the Tester job, the matching score is $53x_{1,1}$, if resource Carlos is assigned, or $80x_{2,1}$, if resource Joe is assigned, or $53x_{3,1}$, if resource Monika is assigned.\n",
    "Consequently, the matching score for the Tester job is as follows, where only one term in this summation will be nonzero.\n",
    "\n",
    "$$\n",
    "53x_{1,1} + 80x_{2,1} + 53x_{3,1}. \n",
    "$$\n",
    "\n",
    "Similarly, the matching scores for the Java Developer and Architect jobs are defined as follows. The matching score for the Java Developer job is:\n",
    "\n",
    "$$\n",
    "27x_{1, 2} + 47x_{2, 2} + 73x_{3, 2}.\n",
    "$$\n",
    "\n",
    "The matching score for the Architect job is:\n",
    "\n",
    "$$\n",
    "13x_{1, 3} + 67x_{2, 3} + 47x_{3, 3}.\n",
    "$$\n",
    "\n",
    "The goal is to  maximize the total matching score of the assignments. Therefore, the objective function is defined as follows.\n",
    "\n",
    "\\begin{equation}\n",
    "\\text{Maximize} \\quad (53x_{1,1} + 80x_{2,1} + 53x_{3,1}) \\; +\n",
    "\\end{equation}\n",
    "\n",
    "\\begin{equation}\n",
    "\\quad (27x_{1, 2} + 47x_{2, 2} + 73x_{3, 2}) \\; +\n",
    "\\end{equation}\n",
    "\n",
    "\\begin{equation}\n",
    "\\quad (13x_{1, 3} + 67x_{2, 3} + 47x_{3, 3}).\n",
    "\\end{equation}\n",
    "\n",
    "Each term in parenthesis in the objective function can be expressed as follows.\n",
    "\n",
    "\\begin{equation}\n",
    "(53x_{1,1} + 80x_{2,1} + 53x_{3,1}) = \\sum_{i \\in I} s_{i,1} x_{i,1}.\n",
    "\\end{equation}\n",
    "\n",
    "\\begin{equation}\n",
    "(27x_{1, 2} + 47x_{2, 2} + 73x_{3, 2}) = \\sum_{i \\in I} s_{i,2} x_{i,2}.\n",
    "\\end{equation}\n",
    "\n",
    "\\begin{equation}\n",
    "(13x_{1, 3} + 67x_{2, 3} + 47x_{3, 3}) = \\sum_{i \\in I} s_{i,3} x_{i,3}.\n",
    "\\end{equation}\n",
    "\n",
    "Hence, the objective function can be concisely written as:\n",
    "\n",
    "\\begin{equation}\n",
    "\\text{Maximize} \\quad \\sum_{j \\in J} \\sum_{i \\in I} s_{i,j} x_{i,j}.\n",
    "\\end{equation}\n",
    "\n",
    "The ``Model.setObjective()`` method of the Gurobi/Python API defines the objective function of the ``Model`` object “m”. \n",
    "\n",
    "The objective expression is specified in the first argument of this method.\n",
    "\n",
    "Notice that both the matching score parameters “score” and the assignment decision variables “x” are defined over the “combinations” keys. \n",
    "\n",
    "Therefore, we use the method “x.prod(score)” to obtain the summation of the elementwise multiplication of the \"score\" matrix and the \"x\" variable matrix.\n",
    "\n",
    "The second argument, ``GRB.MAXIMIZE``, is the optimization \"sense.\" In this case, we want to *maximize* the total matching scores of all assignments."
   ]
  },
  {
   "cell_type": "code",
   "execution_count": 19,
   "id": "da3c1c95",
   "metadata": {},
   "outputs": [],
   "source": [
    "# Objective: maximize total matching score of all assignments\n",
    "m.setObjective(x.prod(scores), GRB.MAXIMIZE)"
   ]
  },
  {
   "cell_type": "markdown",
   "id": "9465297c",
   "metadata": {},
   "source": [
    "We use the “write()” method of the Gurobi/Python API to write the model formulation to a file named \"RAP.lp\"."
   ]
  },
  {
   "cell_type": "code",
   "execution_count": 20,
   "id": "b7e0e4f5",
   "metadata": {},
   "outputs": [],
   "source": [
    "# Save model for inspection\n",
    "m.write('RAP.lp')"
   ]
  },
  {
   "cell_type": "markdown",
   "id": "a291020e",
   "metadata": {},
   "source": [
    "We use the “optimize( )” method of the Gurobi/Python API to solve the problem we have defined for the model object “m”."
   ]
  },
  {
   "cell_type": "code",
   "execution_count": 21,
   "id": "ff991d2f",
   "metadata": {},
   "outputs": [
    {
     "name": "stdout",
     "output_type": "stream",
     "text": [
      "Gurobi Optimizer version 9.1.2 build v9.1.2rc0 (linux64)\n",
      "Thread count: 4 physical cores, 8 logical processors, using up to 8 threads\n",
      "Optimize a model with 6 rows, 9 columns and 18 nonzeros\n",
      "Model fingerprint: 0xb343b6eb\n",
      "Coefficient statistics:\n",
      "  Matrix range     [1e+00, 1e+00]\n",
      "  Objective range  [1e+01, 8e+01]\n",
      "  Bounds range     [0e+00, 0e+00]\n",
      "  RHS range        [1e+00, 1e+00]\n",
      "Presolve time: 0.00s\n",
      "Presolved: 6 rows, 9 columns, 18 nonzeros\n",
      "\n",
      "Iteration    Objective       Primal Inf.    Dual Inf.      Time\n",
      "       0    4.6000000e+32   1.800000e+31   4.600000e+02      0s\n",
      "       5    1.9300000e+02   0.000000e+00   0.000000e+00      0s\n",
      "\n",
      "Solved in 5 iterations and 0.01 seconds\n",
      "Optimal objective  1.930000000e+02\n"
     ]
    }
   ],
   "source": [
    "# Run optimization engine\n",
    "m.optimize()"
   ]
  },
  {
   "cell_type": "code",
   "execution_count": 22,
   "id": "99c04ebb",
   "metadata": {},
   "outputs": [
    {
     "name": "stdout",
     "output_type": "stream",
     "text": [
      "assign[Carlos,Tester] 1.0\n",
      "assign[Joe,Architect] 1.0\n",
      "assign[Monika,JavaDeveloper] 1.0\n",
      "Total matching score:  193.0\n"
     ]
    }
   ],
   "source": [
    "# Display optimal values of decision variables\n",
    "for v in m.getVars():\n",
    "    if v.x > 1e-6:\n",
    "        print(v.varName, v.x)\n",
    "\n",
    "# Display optimal total matching score\n",
    "print('Total matching score: ', m.objVal)"
   ]
  },
  {
   "cell_type": "markdown",
   "id": "ad03c58d",
   "metadata": {},
   "source": [
    "The optimal assignment is to assign:\n",
    "\n",
    "* Carlos to the Tester job, with a matching score of 53\n",
    "* Joe to the Architect job, with a matching score of 67\n",
    "* Monika to the Java Developer job, with a matching score of 73.\n",
    "\n",
    "The maximum total matching score is 193."
   ]
  },
  {
   "cell_type": "code",
   "execution_count": null,
   "id": "27151900",
   "metadata": {},
   "outputs": [],
   "source": []
  }
 ],
 "metadata": {
  "kernelspec": {
   "display_name": "Python 3 (ipykernel)",
   "language": "python",
   "name": "python3"
  },
  "language_info": {
   "codemirror_mode": {
    "name": "ipython",
    "version": 3
   },
   "file_extension": ".py",
   "mimetype": "text/x-python",
   "name": "python",
   "nbconvert_exporter": "python",
   "pygments_lexer": "ipython3",
   "version": "3.8.10"
  }
 },
 "nbformat": 4,
 "nbformat_minor": 5
}
