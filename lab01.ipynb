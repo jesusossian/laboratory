{
 "cells": [
  {
   "cell_type": "markdown",
   "metadata": {},
   "source": [
    "# Um exemplo\n",
    "\n",
    "- Suponha que queremos decidir entre 3 tarefas, fazer ou não fazer, e obter um valor máximo.\n",
    "\n",
    "$x, y, z$ são tarefas\n",
    "\n",
    "- Você precisa escolher a tarefa 1 ou a tarefa 2, ou ambas.\n",
    "\n",
    "$\n",
    "x + y \\geq 1\n",
    "$\n",
    "\n",
    "- O tempo total que você tem para realizar essas tarefas são 4 horas.\n",
    "\n",
    "    - A tarefa 1 toma 1 hora.\n",
    "\n",
    "    - A tarefa 2 toma 2 horas.\n",
    "\n",
    "    - A tarefa 3 toma 3 horas.\n",
    "\n",
    "$\n",
    "1 x + 2 y + 3 z \\leq 4\n",
    "$\n",
    "\n",
    "- A tarefa 3 vale o dobro da tarefa 1 e da tarefa 2.\n",
    " \n",
    "$\n",
    "\\max \\ x + y + 2 z\n",
    "$\n",
    "\n",
    "- Este problema pode ser modelado como um problema de programação inteira binária.\n",
    "\n",
    "$\n",
    "x, y, z \\in \\{ 0, 1 \\}\n",
    "$"
   ]
  },
  {
   "cell_type": "markdown",
   "metadata": {},
   "source": [
    "- Formulação\n",
    "\n",
    "$\n",
    "\\begin{align}\n",
    "\\max \\ & x + y + 2 z \\\\\n",
    "& x + 2 y + 3 z \\leq 4 \\\\\n",
    "& x + y \\geq 1 \\\\\n",
    "& x, y, z \\in \\{ 0, 1 \\}\n",
    "\\end{align}\n",
    "$"
   ]
  },
  {
   "cell_type": "markdown",
   "metadata": {},
   "source": [
    "# Modelando e resolvendo o problema\n",
    "\n",
    "- Defina o modelo.\n",
    "\n",
    "- Defina as variáveis de decisão.\n",
    "\n",
    "- Defina a função objetivo.\n",
    "\n",
    "- Adicionando as restrições.\n",
    "\n",
    "- Execute a função optimize().\n",
    "\n",
    "- Imprima as soluções."
   ]
  },
  {
   "cell_type": "code",
   "execution_count": 2,
   "metadata": {},
   "outputs": [],
   "source": [
    "# importando bibliotecas\n",
    "import gurobipy as gp\n",
    "from gurobipy import GRB"
   ]
  },
  {
   "cell_type": "code",
   "execution_count": 3,
   "metadata": {},
   "outputs": [
    {
     "name": "stdout",
     "output_type": "stream",
     "text": [
      "Academic license - for non-commercial use only - expires 2022-09-29\n",
      "Using license file /opt/gurobi912/gurobi.lic\n"
     ]
    }
   ],
   "source": [
    "# definindo o modelo\n",
    "mip0 = gp.Model(\"mip0\")"
   ]
  },
  {
   "cell_type": "code",
   "execution_count": 4,
   "metadata": {},
   "outputs": [],
   "source": [
    "# definindo variáveis\n",
    "x = mip0.addVar(vtype=GRB.BINARY, name=\"x\")\n",
    "y = mip0.addVar(vtype=GRB.BINARY, name=\"y\")\n",
    "z = mip0.addVar(vtype=GRB.BINARY, name=\"z\")"
   ]
  },
  {
   "cell_type": "code",
   "execution_count": 5,
   "metadata": {},
   "outputs": [],
   "source": [
    "# definindo a função objetivo\n",
    "mip0.setObjective(x + y + 2 * z, GRB.MAXIMIZE)"
   ]
  },
  {
   "cell_type": "code",
   "execution_count": 6,
   "metadata": {},
   "outputs": [
    {
     "data": {
      "text/plain": [
       "<gurobi.Constr *Awaiting Model Update*>"
      ]
     },
     "execution_count": 6,
     "metadata": {},
     "output_type": "execute_result"
    }
   ],
   "source": [
    "# adicionando a restrição, x + 2 y + 3 z <= 4\n",
    "mip0.addConstr(x + 2 * y + 3 * z <= 4, \"rest0\")\n",
    "\n",
    "# adicionando a restrição, x + y >= 1\n",
    "mip0.addConstr(x + y >= 1, \"rest1\")"
   ]
  },
  {
   "cell_type": "code",
   "execution_count": 7,
   "metadata": {},
   "outputs": [],
   "source": [
    "# exportando .lp/.mps\n",
    "mip0.write(\"mip0.lp\")"
   ]
  },
  {
   "cell_type": "code",
   "execution_count": 8,
   "metadata": {},
   "outputs": [
    {
     "name": "stdout",
     "output_type": "stream",
     "text": [
      "Gurobi Optimizer version 9.1.2 build v9.1.2rc0 (linux64)\n",
      "Thread count: 4 physical cores, 8 logical processors, using up to 8 threads\n",
      "Optimize a model with 2 rows, 3 columns and 5 nonzeros\n",
      "Model fingerprint: 0x98886187\n",
      "Variable types: 0 continuous, 3 integer (3 binary)\n",
      "Coefficient statistics:\n",
      "  Matrix range     [1e+00, 3e+00]\n",
      "  Objective range  [1e+00, 2e+00]\n",
      "  Bounds range     [1e+00, 1e+00]\n",
      "  RHS range        [1e+00, 4e+00]\n",
      "Found heuristic solution: objective 2.0000000\n",
      "Presolve removed 2 rows and 3 columns\n",
      "Presolve time: 0.31s\n",
      "Presolve: All rows and columns removed\n",
      "\n",
      "Explored 0 nodes (0 simplex iterations) in 0.50 seconds\n",
      "Thread count was 1 (of 8 available processors)\n",
      "\n",
      "Solution count 2: 3 2 \n",
      "\n",
      "Optimal solution found (tolerance 1.00e-04)\n",
      "Best objective 3.000000000000e+00, best bound 3.000000000000e+00, gap 0.0000%\n"
     ]
    }
   ],
   "source": [
    "# resolvendo o modelo\n",
    "mip0.optimize()"
   ]
  },
  {
   "cell_type": "code",
   "execution_count": 9,
   "metadata": {},
   "outputs": [
    {
     "name": "stdout",
     "output_type": "stream",
     "text": [
      "Obj = 3\n",
      "x = 1\n",
      "y = 0\n",
      "z = 1\n"
     ]
    }
   ],
   "source": [
    "# imprimindo a solução ótima\n",
    "print('Obj = %g' % mip0.objVal)\n",
    "\n",
    "# imprimindo as soluções\n",
    "for v in mip0.getVars():\n",
    "    print('%s = %g' % (v.varName, v.x))"
   ]
  },
  {
   "cell_type": "markdown",
   "metadata": {},
   "source": [
    "# Lendo/Resolvendo .mps ou .lp"
   ]
  },
  {
   "cell_type": "code",
   "execution_count": 10,
   "metadata": {},
   "outputs": [
    {
     "name": "stdout",
     "output_type": "stream",
     "text": [
      "Read MPS format model from file mps/afiro.mps\n",
      "Reading time = 0.01 seconds\n",
      "AFIRO: 27 rows, 32 columns, 83 nonzeros\n"
     ]
    }
   ],
   "source": [
    "# Criando o modelo de um arquivo(mps)\n",
    "model = gp.read(\"mps/afiro.mps\")"
   ]
  },
  {
   "cell_type": "code",
   "execution_count": 11,
   "metadata": {},
   "outputs": [
    {
     "name": "stdout",
     "output_type": "stream",
     "text": [
      "Gurobi Optimizer version 9.1.2 build v9.1.2rc0 (linux64)\n",
      "Thread count: 4 physical cores, 8 logical processors, using up to 8 threads\n",
      "Optimize a model with 27 rows, 32 columns and 83 nonzeros\n",
      "Model fingerprint: 0x0e972b37\n",
      "Coefficient statistics:\n",
      "  Matrix range     [1e-01, 2e+00]\n",
      "  Objective range  [3e-01, 1e+01]\n",
      "  Bounds range     [0e+00, 0e+00]\n",
      "  RHS range        [4e+01, 5e+02]\n",
      "Presolve removed 18 rows and 20 columns\n",
      "Presolve time: 0.03s\n",
      "Presolved: 9 rows, 12 columns, 32 nonzeros\n",
      "\n",
      "Iteration    Objective       Primal Inf.    Dual Inf.      Time\n",
      "       0   -5.9751945e+02   5.541356e+01   0.000000e+00      0s\n",
      "       6   -4.6475314e+02   0.000000e+00   0.000000e+00      0s\n",
      "\n",
      "Solved in 6 iterations and 0.06 seconds\n",
      "Optimal objective -4.647531429e+02\n"
     ]
    }
   ],
   "source": [
    "# resolvendo o modelo\n",
    "model.optimize()"
   ]
  },
  {
   "cell_type": "code",
   "execution_count": 12,
   "metadata": {},
   "outputs": [
    {
     "data": {
      "text/plain": [
       "-464.75314285714285"
      ]
     },
     "execution_count": 12,
     "metadata": {},
     "output_type": "execute_result"
    }
   ],
   "source": [
    "# imprimindo o valor ótimo\n",
    "model.Objval"
   ]
  },
  {
   "cell_type": "code",
   "execution_count": 13,
   "metadata": {},
   "outputs": [
    {
     "name": "stdout",
     "output_type": "stream",
     "text": [
      "\n",
      "    Variable            x \n",
      "-------------------------\n",
      "         X01           80 \n",
      "         X02         25.5 \n",
      "         X03         54.5 \n",
      "         X04         84.8 \n",
      "         X06      18.2143 \n",
      "         X14      18.2143 \n",
      "         X16      19.3071 \n",
      "         X22          500 \n",
      "         X23       475.92 \n",
      "         X24        24.08 \n",
      "         X26          215 \n",
      "         X36      339.943 \n",
      "         X37      383.943 \n"
     ]
    }
   ],
   "source": [
    "# imprimindo a solução\n",
    "model.printAttr('x')"
   ]
  },
  {
   "cell_type": "markdown",
   "metadata": {},
   "source": [
    "# Modelo usando a idéia de matriz."
   ]
  },
  {
   "cell_type": "code",
   "execution_count": 16,
   "metadata": {},
   "outputs": [
    {
     "name": "stdout",
     "output_type": "stream",
     "text": [
      "Collecting scipy\n",
      "  Downloading scipy-1.7.1-cp38-cp38-manylinux_2_5_x86_64.manylinux1_x86_64.whl (28.4 MB)\n",
      "\u001b[K     |████████████████████████████████| 28.4 MB 75 kB/s  eta 0:00:01\n",
      "\u001b[?25hRequirement already satisfied: numpy<1.23.0,>=1.16.5 in /usr/lib/python3/dist-packages (from scipy) (1.17.4)\n",
      "Installing collected packages: scipy\n",
      "Successfully installed scipy-1.7.1\n"
     ]
    }
   ],
   "source": [
    "!pip3 install scipy"
   ]
  },
  {
   "cell_type": "code",
   "execution_count": 17,
   "metadata": {},
   "outputs": [
    {
     "name": "stdout",
     "output_type": "stream",
     "text": [
      "Gurobi Optimizer version 9.1.2 build v9.1.2rc0 (linux64)\n",
      "Thread count: 4 physical cores, 8 logical processors, using up to 8 threads\n",
      "Optimize a model with 2 rows, 3 columns and 5 nonzeros\n",
      "Model fingerprint: 0x8d4960d3\n",
      "Variable types: 0 continuous, 3 integer (3 binary)\n",
      "Coefficient statistics:\n",
      "  Matrix range     [1e+00, 3e+00]\n",
      "  Objective range  [1e+00, 2e+00]\n",
      "  Bounds range     [1e+00, 1e+00]\n",
      "  RHS range        [1e+00, 4e+00]\n",
      "Found heuristic solution: objective 2.0000000\n",
      "Presolve removed 2 rows and 3 columns\n",
      "Presolve time: 0.00s\n",
      "Presolve: All rows and columns removed\n",
      "\n",
      "Explored 0 nodes (0 simplex iterations) in 0.01 seconds\n",
      "Thread count was 1 (of 8 available processors)\n",
      "\n",
      "Solution count 2: 3 2 \n",
      "\n",
      "Optimal solution found (tolerance 1.00e-04)\n",
      "Best objective 3.000000000000e+00, best bound 3.000000000000e+00, gap 0.0000%\n",
      "[1. 0. 1.]\n",
      "Obj = 3\n"
     ]
    }
   ],
   "source": [
    "import numpy as np\n",
    "import scipy.sparse as sp\n",
    "\n",
    "# criando um novo modelo\n",
    "m1 = gp.Model(\"matrix\")\n",
    "\n",
    "# criando as variáveis\n",
    "x = m1.addMVar(shape=3, vtype=GRB.BINARY, name=\"x\")\n",
    "\n",
    "# definindo a função objetivo\n",
    "obj = np.array([1.0, 1.0, 2.0])\n",
    "m1.setObjective(obj @ x, GRB.MAXIMIZE)\n",
    "\n",
    "# construindo a matriz de restrição, esparsa\n",
    "val = np.array([1.0, 2.0, 3.0, -1.0, -1.0])\n",
    "row = np.array([0, 0, 0, 1, 1])\n",
    "col = np.array([0, 1, 2, 0, 1])\n",
    "\n",
    "A = sp.csr_matrix((val, (row, col)), shape=(2, 3))\n",
    "\n",
    "# construindo o vetor do lado direito, rhs\n",
    "rhs = np.array([4.0, -1.0])\n",
    "\n",
    "# adicionando as restrições\n",
    "m1.addConstr(A @ x <= rhs, name=\"c\")\n",
    "    \n",
    "# gerando .lp\n",
    "m1.write(\"matrix.lp\")\n",
    "\n",
    "# resolvendo o problema\n",
    "m1.optimize()\n",
    "\n",
    "# imprimindo a solução ótima\n",
    "print(x.X)\n",
    "    \n",
    "# imprimindo o valor ótimo\n",
    "print('Obj = %g' % m1.objVal)"
   ]
  },
  {
   "cell_type": "code",
   "execution_count": null,
   "metadata": {},
   "outputs": [],
   "source": []
  }
 ],
 "metadata": {
  "kernelspec": {
   "display_name": "Python 3 (ipykernel)",
   "language": "python",
   "name": "python3"
  },
  "language_info": {
   "codemirror_mode": {
    "name": "ipython",
    "version": 3
   },
   "file_extension": ".py",
   "mimetype": "text/x-python",
   "name": "python",
   "nbconvert_exporter": "python",
   "pygments_lexer": "ipython3",
   "version": "3.8.10"
  }
 },
 "nbformat": 4,
 "nbformat_minor": 2
}
