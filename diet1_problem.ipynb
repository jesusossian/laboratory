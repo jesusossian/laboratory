{
 "cells": [
  {
   "cell_type": "code",
   "execution_count": null,
   "id": "5396eaae",
   "metadata": {},
   "outputs": [],
   "source": [
    "# Copyright 2020, Gurobi Optimization, LLC\n",
    "\n",
    "# Solve the classic diet model, showing how to add constraints to an existing model."
   ]
  },
  {
   "cell_type": "code",
   "execution_count": 1,
   "id": "ff1cc737",
   "metadata": {},
   "outputs": [],
   "source": [
    "import gurobipy as gp\n",
    "from gurobipy import GRB"
   ]
  },
  {
   "cell_type": "code",
   "execution_count": 5,
   "id": "812b8b53",
   "metadata": {},
   "outputs": [],
   "source": [
    "# Nutrition guidelines, based on\n",
    "# USDA Dietary Guidelines for Americans, 2005\n",
    "# http://www.health.gov/DietaryGuidelines/dga2005/\n",
    "\n",
    "categories, minNutrition, maxNutrition = gp.multidict({\n",
    "    'calories': [1800, 2200],\n",
    "    'protein':  [91, GRB.INFINITY],\n",
    "    'fat':      [0, 65],\n",
    "    'sodium':   [0, 1779]})\n",
    "\n",
    "foods, cost = gp.multidict({\n",
    "    'hamburger': 2.49,\n",
    "    'chicken':   2.89,\n",
    "    'hot dog':   1.50,\n",
    "    'fries':     1.89,\n",
    "    'macaroni':  2.09,\n",
    "    'pizza':     1.99,\n",
    "    'salad':     2.49,\n",
    "    'milk':      0.89,\n",
    "    'ice cream': 1.59})"
   ]
  },
  {
   "cell_type": "code",
   "execution_count": 6,
   "id": "0e393d1d",
   "metadata": {},
   "outputs": [],
   "source": [
    "# Nutrition values for the foods\n",
    "nutritionValues = {\n",
    "    ('hamburger', 'calories'): 410,\n",
    "    ('hamburger', 'protein'):  24,\n",
    "    ('hamburger', 'fat'):      26,\n",
    "    ('hamburger', 'sodium'):   730,\n",
    "    ('chicken',   'calories'): 420,\n",
    "    ('chicken',   'protein'):  32,\n",
    "    ('chicken',   'fat'):      10,\n",
    "    ('chicken',   'sodium'):   1190,\n",
    "    ('hot dog',   'calories'): 560,\n",
    "    ('hot dog',   'protein'):  20,\n",
    "    ('hot dog',   'fat'):      32,\n",
    "    ('hot dog',   'sodium'):   1800,\n",
    "    ('fries',     'calories'): 380,\n",
    "    ('fries',     'protein'):  4,\n",
    "    ('fries',     'fat'):      19,\n",
    "    ('fries',     'sodium'):   270,\n",
    "    ('macaroni',  'calories'): 320,\n",
    "    ('macaroni',  'protein'):  12,\n",
    "    ('macaroni',  'fat'):      10,\n",
    "    ('macaroni',  'sodium'):   930,\n",
    "    ('pizza',     'calories'): 320,\n",
    "    ('pizza',     'protein'):  15,\n",
    "    ('pizza',     'fat'):      12,\n",
    "    ('pizza',     'sodium'):   820,\n",
    "    ('salad',     'calories'): 320,\n",
    "    ('salad',     'protein'):  31,\n",
    "    ('salad',     'fat'):      12,\n",
    "    ('salad',     'sodium'):   1230,\n",
    "    ('milk',      'calories'): 100,\n",
    "    ('milk',      'protein'):  8,\n",
    "    ('milk',      'fat'):      2.5,\n",
    "    ('milk',      'sodium'):   125,\n",
    "    ('ice cream', 'calories'): 330,\n",
    "    ('ice cream', 'protein'):  8,\n",
    "    ('ice cream', 'fat'):      10,\n",
    "    ('ice cream', 'sodium'):   180}"
   ]
  },
  {
   "cell_type": "code",
   "execution_count": 7,
   "id": "f78f8fd7",
   "metadata": {},
   "outputs": [
    {
     "name": "stdout",
     "output_type": "stream",
     "text": [
      "Academic license - for non-commercial use only - expires 2022-09-29\n",
      "Using license file /opt/gurobi912/gurobi.lic\n"
     ]
    }
   ],
   "source": [
    "# Model\n",
    "m = gp.Model(\"diet\")"
   ]
  },
  {
   "cell_type": "code",
   "execution_count": 9,
   "id": "4dee3694",
   "metadata": {},
   "outputs": [],
   "source": [
    "# Create decision variables for the foods to buy\n",
    "buy = m.addVars(foods, name=\"buy\")\n",
    "\n",
    "# You could use Python looping constructs and m.addVar() to create\n",
    "# these decision variables instead.  The following would be equivalent\n",
    "#\n",
    "# buy = {}\n",
    "# for f in foods:\n",
    "#   buy[f] = m.addVar(name=f)"
   ]
  },
  {
   "cell_type": "code",
   "execution_count": 10,
   "id": "404a86cb",
   "metadata": {},
   "outputs": [],
   "source": [
    "# The objective is to minimize the costs\n",
    "m.setObjective(buy.prod(cost), GRB.MINIMIZE)\n",
    "\n",
    "# Using looping constructs, the preceding statement would be:\n",
    "#\n",
    "# m.setObjective(sum(buy[f]*cost[f] for f in foods), GRB.MINIMIZE)\n"
   ]
  },
  {
   "cell_type": "code",
   "execution_count": 11,
   "id": "bc5b6556",
   "metadata": {},
   "outputs": [
    {
     "data": {
      "text/plain": [
       "{'calories': <gurobi.Constr *Awaiting Model Update*>,\n",
       " 'protein': <gurobi.Constr *Awaiting Model Update*>,\n",
       " 'fat': <gurobi.Constr *Awaiting Model Update*>,\n",
       " 'sodium': <gurobi.Constr *Awaiting Model Update*>}"
      ]
     },
     "execution_count": 11,
     "metadata": {},
     "output_type": "execute_result"
    }
   ],
   "source": [
    "# Nutrition constraints\n",
    "m.addConstrs((gp.quicksum(nutritionValues[f, c] * buy[f] for f in foods)\n",
    "             == [minNutrition[c], maxNutrition[c]]\n",
    "             for c in categories), \"_\")\n",
    "\n",
    "# Using looping constructs, the preceding statement would be:\n",
    "#\n",
    "# for c in categories:\n",
    "#  m.addRange(sum(nutritionValues[f, c] * buy[f] for f in foods),\n",
    "#             minNutrition[c], maxNutrition[c], c)\n"
   ]
  },
  {
   "cell_type": "code",
   "execution_count": 12,
   "id": "ddbeaa7a",
   "metadata": {},
   "outputs": [],
   "source": [
    "def printSolution():\n",
    "    if m.status == GRB.OPTIMAL:\n",
    "        print('\\nCost: %g' % m.objVal)\n",
    "        print('\\nBuy:')\n",
    "        for f in foods:\n",
    "            if buy[f].x > 0.0001:\n",
    "                print('%s %g' % (f, buy[f].x))\n",
    "    else:\n",
    "        print('No solution')"
   ]
  },
  {
   "cell_type": "code",
   "execution_count": 13,
   "id": "381b493b",
   "metadata": {},
   "outputs": [
    {
     "name": "stdout",
     "output_type": "stream",
     "text": [
      "Gurobi Optimizer version 9.1.2 build v9.1.2rc0 (linux64)\n",
      "Thread count: 4 physical cores, 8 logical processors, using up to 8 threads\n",
      "Optimize a model with 4 rows, 21 columns and 39 nonzeros\n",
      "Model fingerprint: 0xa8e7d03a\n",
      "Coefficient statistics:\n",
      "  Matrix range     [1e+00, 2e+03]\n",
      "  Objective range  [9e-01, 3e+00]\n",
      "  Bounds range     [6e+01, 2e+03]\n",
      "  RHS range        [6e+01, 2e+03]\n",
      "Presolve removed 0 rows and 11 columns\n",
      "Presolve time: 0.00s\n",
      "Presolved: 4 rows, 10 columns, 37 nonzeros\n",
      "\n",
      "Iteration    Objective       Primal Inf.    Dual Inf.      Time\n",
      "       0    0.0000000e+00   1.472500e+02   0.000000e+00      0s\n",
      "       4    1.1828861e+01   0.000000e+00   0.000000e+00      0s\n",
      "\n",
      "Solved in 4 iterations and 0.01 seconds\n",
      "Optimal objective  1.182886111e+01\n",
      "\n",
      "Cost: 11.8289\n",
      "\n",
      "Buy:\n",
      "hamburger 0.604514\n",
      "milk 6.97014\n",
      "ice cream 2.59132\n"
     ]
    }
   ],
   "source": [
    "# Solve\n",
    "m.optimize()\n"
   ]
  },
  {
   "cell_type": "code",
   "execution_count": 14,
   "id": "82de3c73",
   "metadata": {},
   "outputs": [
    {
     "name": "stdout",
     "output_type": "stream",
     "text": [
      "\n",
      "Cost: 11.8289\n",
      "\n",
      "Buy:\n",
      "hamburger 0.604514\n",
      "milk 6.97014\n",
      "ice cream 2.59132\n"
     ]
    }
   ],
   "source": [
    "printSolution()"
   ]
  },
  {
   "cell_type": "code",
   "execution_count": 15,
   "id": "1ed57cd9",
   "metadata": {},
   "outputs": [
    {
     "name": "stdout",
     "output_type": "stream",
     "text": [
      "\n",
      "Adding constraint: at most 6 servings of dairy\n"
     ]
    },
    {
     "data": {
      "text/plain": [
       "<gurobi.Constr *Awaiting Model Update*>"
      ]
     },
     "execution_count": 15,
     "metadata": {},
     "output_type": "execute_result"
    }
   ],
   "source": [
    "print('\\nAdding constraint: at most 6 servings of dairy')\n",
    "m.addConstr(buy.sum(['milk', 'ice cream']) <= 6, \"limit_dairy\")"
   ]
  },
  {
   "cell_type": "code",
   "execution_count": 16,
   "id": "52d8cda0",
   "metadata": {},
   "outputs": [
    {
     "name": "stdout",
     "output_type": "stream",
     "text": [
      "Gurobi Optimizer version 9.1.2 build v9.1.2rc0 (linux64)\n",
      "Thread count: 4 physical cores, 8 logical processors, using up to 8 threads\n",
      "Optimize a model with 5 rows, 21 columns and 41 nonzeros\n",
      "Coefficient statistics:\n",
      "  Matrix range     [1e+00, 2e+03]\n",
      "  Objective range  [9e-01, 3e+00]\n",
      "  Bounds range     [6e+01, 2e+03]\n",
      "  RHS range        [6e+00, 2e+03]\n",
      "Iteration    Objective       Primal Inf.    Dual Inf.      Time\n",
      "       0    1.1828861e+01   5.698333e+01   0.000000e+00      0s\n",
      "\n",
      "Solved in 0 iterations and 0.00 seconds\n",
      "Infeasible model\n"
     ]
    }
   ],
   "source": [
    "# Solve\n",
    "m.optimize()"
   ]
  },
  {
   "cell_type": "code",
   "execution_count": 17,
   "id": "70f18060",
   "metadata": {},
   "outputs": [
    {
     "name": "stdout",
     "output_type": "stream",
     "text": [
      "No solution\n"
     ]
    }
   ],
   "source": [
    "printSolution()"
   ]
  },
  {
   "cell_type": "code",
   "execution_count": null,
   "id": "b0a9fe87",
   "metadata": {},
   "outputs": [],
   "source": []
  }
 ],
 "metadata": {
  "kernelspec": {
   "display_name": "Python 3 (ipykernel)",
   "language": "python",
   "name": "python3"
  },
  "language_info": {
   "codemirror_mode": {
    "name": "ipython",
    "version": 3
   },
   "file_extension": ".py",
   "mimetype": "text/x-python",
   "name": "python",
   "nbconvert_exporter": "python",
   "pygments_lexer": "ipython3",
   "version": "3.8.10"
  }
 },
 "nbformat": 4,
 "nbformat_minor": 5
}
